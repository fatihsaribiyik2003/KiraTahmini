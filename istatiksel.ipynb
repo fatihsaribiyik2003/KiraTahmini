{
 "cells": [
  {
   "cell_type": "markdown",
   "metadata": {},
   "source": [
    "verilerin içinde aykırıları çıakrma\n"
   ]
  },
  {
   "cell_type": "code",
   "execution_count": 1,
   "metadata": {},
   "outputs": [],
   "source": [
    "import pandas as pd\n",
    "import numpy as np\n",
    "import matplotlib.pyplot as plt"
   ]
  },
  {
   "cell_type": "code",
   "execution_count": 2,
   "metadata": {},
   "outputs": [],
   "source": [
    "df = pd.read_csv('cleaned_data.csv')"
   ]
  },
  {
   "cell_type": "code",
   "execution_count": null,
   "metadata": {},
   "outputs": [
    {
     "name": "stdout",
     "output_type": "stream",
     "text": [
      "    location   districk              neighborhood  room  living_room  area  \\\n",
      "0  İstanbul    Sarıyer                 Huzur Mah.     2            1   100   \n",
      "1  İstanbul    Üsküdar    Aziz Mahmut Hüdayi Mah.     3            1    80   \n",
      "2  İstanbul    Kadıköy              Acıbadem Mah.     2            1   110   \n",
      "3  İstanbul     Beykoz               Göztepe Mah.     3            1   130   \n",
      "4  İstanbul    Sarıyer         Rumeli Kavağı Mah.     4            1   160   \n",
      "\n",
      "   age  floor  price  \n",
      "0    0      2  41000  \n",
      "1   45      2  32000  \n",
      "2    3      3  47000  \n",
      "3   25      3  18000  \n",
      "4   49      3  50000  \n"
     ]
    }
   ],
   "source": [
    "print(df.info())"
   ]
  },
  {
   "cell_type": "code",
   "execution_count": 5,
   "metadata": {},
   "outputs": [],
   "source": [
    "df['location'] = df['location'].astype('category')\n",
    "df['districk'] = df['districk'].astype('category')\n",
    "df['neighborhood'] = df['neighborhood'].astype('category')\n",
    "df['room'] = df['room'].astype('int')\n",
    "df['living_room'] = df['living_room'].astype('int')\n",
    "df['area'] = df['area'].astype('int')\n",
    "df['age'] = df['age'].astype('int')\n",
    "df['floor'] = df['floor'].astype('int')\n",
    "df['price'] = df['price'].astype('int')"
   ]
  },
  {
   "cell_type": "code",
   "execution_count": 6,
   "metadata": {},
   "outputs": [
    {
     "name": "stdout",
     "output_type": "stream",
     "text": [
      "Column: room, min: 0.5, max: 4.5\n",
      "Column: living_room, min: 1.0, max: 1.0\n",
      "Column: area, min: -10.0, max: 230.0\n",
      "Column: age, min: -32.5, max: 67.5\n",
      "Column: floor, min: -3.5, max: 8.5\n",
      "Column: price, min: -32500.0, max: 107500.0\n"
     ]
    }
   ],
   "source": [
    "colums =df.select_dtypes(include=[np.number]).columns\n",
    "min_values = []\n",
    "max_values = []\n",
    "for col in colums:\n",
    "    Q1 = df[col].quantile(0.25)\n",
    "    Q3 = df[col].quantile(0.75)\n",
    "    IQR = Q3 - Q1\n",
    "    min_value = Q1 - 1.5 * IQR\n",
    "    max_value = Q3 + 1.5 * IQR\n",
    "    min_values.append(min_value)\n",
    "    max_values.append(max_value)\n",
    "    print(f\"Column: {col}, min: {min_value}, max: {max_value}\")"
   ]
  },
  {
   "cell_type": "markdown",
   "metadata": {},
   "source": [
    "harici verileri temizleeme"
   ]
  },
  {
   "cell_type": "code",
   "execution_count": 8,
   "metadata": {},
   "outputs": [],
   "source": [
    "for i, col in enumerate(colums):\n",
    "    df = df[(df[col] >= min_values[i]) & (df[col] <= max_values[i])]\n"
   ]
  },
  {
   "cell_type": "code",
   "execution_count": 9,
   "metadata": {},
   "outputs": [
    {
     "name": "stdout",
     "output_type": "stream",
     "text": [
      "<class 'pandas.core.frame.DataFrame'>\n",
      "Index: 7327 entries, 0 to 9989\n",
      "Data columns (total 9 columns):\n",
      " #   Column        Non-Null Count  Dtype   \n",
      "---  ------        --------------  -----   \n",
      " 0   location      7327 non-null   category\n",
      " 1   districk      7327 non-null   category\n",
      " 2   neighborhood  7327 non-null   category\n",
      " 3   room          7327 non-null   int32   \n",
      " 4   living_room   7327 non-null   int32   \n",
      " 5   area          7327 non-null   int32   \n",
      " 6   age           7327 non-null   int32   \n",
      " 7   floor         7327 non-null   int32   \n",
      " 8   price         7327 non-null   int32   \n",
      "dtypes: category(3), int32(6)\n",
      "memory usage: 279.8 KB\n",
      "None\n"
     ]
    }
   ],
   "source": [
    "print(df.info())"
   ]
  },
  {
   "cell_type": "code",
   "execution_count": 10,
   "metadata": {},
   "outputs": [
    {
     "name": "stdout",
     "output_type": "stream",
     "text": [
      "              room  living_room         area          age        floor  \\\n",
      "count  7327.000000       7327.0  7327.000000  7327.000000  7327.000000   \n",
      "mean      2.074655          1.0   100.625768    20.031254     2.486147   \n",
      "std       0.773765          0.0    33.292292    13.688173     1.866787   \n",
      "min       1.000000          1.0    10.000000     0.000000    -3.000000   \n",
      "25%       2.000000          1.0    75.000000     7.000000     1.000000   \n",
      "50%       2.000000          1.0    95.000000    20.000000     2.000000   \n",
      "75%       3.000000          1.0   120.000000    30.000000     4.000000   \n",
      "max       4.000000          1.0   230.000000    65.000000     8.000000   \n",
      "\n",
      "               price  \n",
      "count    7327.000000  \n",
      "mean    31258.601338  \n",
      "std     18233.292997  \n",
      "min       700.000000  \n",
      "25%     19000.000000  \n",
      "50%     25000.000000  \n",
      "75%     38000.000000  \n",
      "max    105000.000000  \n"
     ]
    }
   ],
   "source": [
    "print(df.describe())"
   ]
  },
  {
   "cell_type": "code",
   "execution_count": 11,
   "metadata": {},
   "outputs": [
    {
     "name": "stdout",
     "output_type": "stream",
     "text": [
      "<class 'pandas.core.frame.DataFrame'>\n",
      "Index: 7313 entries, 0 to 9989\n",
      "Data columns (total 9 columns):\n",
      " #   Column        Non-Null Count  Dtype   \n",
      "---  ------        --------------  -----   \n",
      " 0   location      7313 non-null   category\n",
      " 1   districk      7313 non-null   category\n",
      " 2   neighborhood  7313 non-null   category\n",
      " 3   room          7313 non-null   int32   \n",
      " 4   living_room   7313 non-null   int32   \n",
      " 5   area          7313 non-null   int32   \n",
      " 6   age           7313 non-null   int32   \n",
      " 7   floor         7313 non-null   int32   \n",
      " 8   price         7313 non-null   int32   \n",
      "dtypes: category(3), int32(6)\n",
      "memory usage: 279.4 KB\n",
      "None\n"
     ]
    }
   ],
   "source": [
    "#minimum kira fiyatı düzeltmesi 700 tl tziyo--\n",
    "df = df[df['price'] >= 5000]\n",
    "print(df.info())"
   ]
  },
  {
   "cell_type": "code",
   "execution_count": 12,
   "metadata": {},
   "outputs": [
    {
     "name": "stdout",
     "output_type": "stream",
     "text": [
      "              room  living_room         area          age        floor  \\\n",
      "count  7313.000000       7313.0  7313.000000  7313.000000  7313.000000   \n",
      "mean      2.074935          1.0   100.619445    20.032682     2.487488   \n",
      "std       0.773690          0.0    33.257573    13.694698     1.867577   \n",
      "min       1.000000          1.0    10.000000     0.000000    -3.000000   \n",
      "25%       2.000000          1.0    75.000000     7.000000     1.000000   \n",
      "50%       2.000000          1.0    95.000000    20.000000     2.000000   \n",
      "75%       3.000000          1.0   120.000000    30.000000     4.000000   \n",
      "max       4.000000          1.0   230.000000    65.000000     8.000000   \n",
      "\n",
      "               price  \n",
      "count    7313.000000  \n",
      "mean    31312.125393  \n",
      "std     18209.545802  \n",
      "min      5000.000000  \n",
      "25%     19000.000000  \n",
      "50%     25000.000000  \n",
      "75%     38000.000000  \n",
      "max    105000.000000  \n"
     ]
    }
   ],
   "source": [
    "print(df.describe())"
   ]
  },
  {
   "cell_type": "code",
   "execution_count": 13,
   "metadata": {},
   "outputs": [],
   "source": [
    "df.to_csv('cleanedManuel_data.csv', index=False)"
   ]
  },
  {
   "cell_type": "code",
   "execution_count": null,
   "metadata": {},
   "outputs": [],
   "source": []
  }
 ],
 "metadata": {
  "kernelspec": {
   "display_name": "Python 3",
   "language": "python",
   "name": "python3"
  },
  "language_info": {
   "codemirror_mode": {
    "name": "ipython",
    "version": 3
   },
   "file_extension": ".py",
   "mimetype": "text/x-python",
   "name": "python",
   "nbconvert_exporter": "python",
   "pygments_lexer": "ipython3",
   "version": "3.11.4"
  }
 },
 "nbformat": 4,
 "nbformat_minor": 2
}
