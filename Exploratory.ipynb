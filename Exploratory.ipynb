{
 "cells": [
  {
   "cell_type": "code",
   "execution_count": 1,
   "id": "46f1a5fa",
   "metadata": {},
   "outputs": [],
   "source": [
    "import pandas as pd\n",
    "import numpy as np\n",
    "import seaborn as sns                       #visualisation\n",
    "import matplotlib.pyplot as plt             #visualisation\n",
    "%matplotlib inline     \n",
    "sns.set(color_codes=True)"
   ]
  },
  {
   "cell_type": "code",
   "execution_count": 3,
   "id": "69085fcd",
   "metadata": {},
   "outputs": [
    {
     "data": {
      "text/html": [
       "<div>\n",
       "<style scoped>\n",
       "    .dataframe tbody tr th:only-of-type {\n",
       "        vertical-align: middle;\n",
       "    }\n",
       "\n",
       "    .dataframe tbody tr th {\n",
       "        vertical-align: top;\n",
       "    }\n",
       "\n",
       "    .dataframe thead th {\n",
       "        text-align: right;\n",
       "    }\n",
       "</style>\n",
       "<table border=\"1\" class=\"dataframe\">\n",
       "  <thead>\n",
       "    <tr style=\"text-align: right;\">\n",
       "      <th></th>\n",
       "      <th>img-link href</th>\n",
       "      <th>photo-count</th>\n",
       "      <th>list-view-price</th>\n",
       "      <th>list-view-date</th>\n",
       "      <th>left</th>\n",
       "      <th>celly</th>\n",
       "      <th>celly 2</th>\n",
       "      <th>celly 3</th>\n",
       "      <th>celly 4</th>\n",
       "      <th>list-view-location</th>\n",
       "      <th>img-wrp href</th>\n",
       "      <th>he-lazy-image src</th>\n",
       "      <th>wp-btn</th>\n",
       "      <th>listing-card--owner-info__firm-name</th>\n",
       "      <th>eids-badge__description</th>\n",
       "      <th>eids-badge__label</th>\n",
       "      <th>he-lazy-image src 2</th>\n",
       "      <th>listing-card--owner-info__name</th>\n",
       "      <th>he-lazy-image src 3</th>\n",
       "      <th>list-view-header</th>\n",
       "    </tr>\n",
       "  </thead>\n",
       "  <tbody>\n",
       "    <tr>\n",
       "      <th>0</th>\n",
       "      <td>https://www.hepsiemlak.com/istanbul-sariyer-hu...</td>\n",
       "      <td>32</td>\n",
       "      <td>41.000</td>\n",
       "      <td>07-03-2025</td>\n",
       "      <td>Kiralık Daire</td>\n",
       "      <td>2 +\\n                          1</td>\n",
       "      <td>100 m²</td>\n",
       "      <td>Sıfır Bina</td>\n",
       "      <td>2. Kat</td>\n",
       "      <td>İstanbul / Sarıyer / Huzur Mah.</td>\n",
       "      <td>https://www.hepsiemlak.com/emlak-ofisi/koyuyes...</td>\n",
       "      <td>https://hecdnnw.hemlak.com/mncropresize/77/67/...</td>\n",
       "      <td>Whatsapp</td>\n",
       "      <td>Koyuyeşil Gayrimenkul</td>\n",
       "      <td>NaN</td>\n",
       "      <td>NaN</td>\n",
       "      <td>NaN</td>\n",
       "      <td>NaN</td>\n",
       "      <td>NaN</td>\n",
       "      <td>NaN</td>\n",
       "    </tr>\n",
       "    <tr>\n",
       "      <th>1</th>\n",
       "      <td>https://www.hepsiemlak.com/istanbul-uskudar-az...</td>\n",
       "      <td>59</td>\n",
       "      <td>32.000</td>\n",
       "      <td>14-03-2025</td>\n",
       "      <td>Kiralık Daire</td>\n",
       "      <td>3 +\\n                          1</td>\n",
       "      <td>80 m²</td>\n",
       "      <td>45\\n                        Yaşında</td>\n",
       "      <td>2. Kat</td>\n",
       "      <td>İstanbul / Üsküdar / Aziz Mahmut Hüdayi Mah.</td>\n",
       "      <td>https://www.hepsiemlak.com/emlak-ofisi/cadde-d...</td>\n",
       "      <td>https://hecdn01.hemlak.com/img/eids-logo-mini.png</td>\n",
       "      <td>Whatsapp</td>\n",
       "      <td>Cadde Divan Gayrimenkul</td>\n",
       "      <td>Elektronik İlan Doğrulama Sistemi yetki doğrul...</td>\n",
       "      <td>EİDS onaylı</td>\n",
       "      <td>https://hecdnnw.hemlak.com/mncropresize/77/67/...</td>\n",
       "      <td>NaN</td>\n",
       "      <td>NaN</td>\n",
       "      <td>NaN</td>\n",
       "    </tr>\n",
       "    <tr>\n",
       "      <th>2</th>\n",
       "      <td>https://www.hepsiemlak.com/istanbul-kadikoy-ac...</td>\n",
       "      <td>27</td>\n",
       "      <td>47.000</td>\n",
       "      <td>08-03-2025</td>\n",
       "      <td>Kiralık Daire</td>\n",
       "      <td>2 +\\n                          1</td>\n",
       "      <td>110 m²</td>\n",
       "      <td>3\\n                        Yaşında</td>\n",
       "      <td>3. Kat</td>\n",
       "      <td>İstanbul / Kadıköy / Acıbadem Mah.</td>\n",
       "      <td>https://www.hepsiemlak.com/emlak-ofisi/bir-eml...</td>\n",
       "      <td>https://hecdnnw.hemlak.com/mncropresize/77/67/...</td>\n",
       "      <td>Whatsapp</td>\n",
       "      <td>Bir Emlak</td>\n",
       "      <td>NaN</td>\n",
       "      <td>NaN</td>\n",
       "      <td>NaN</td>\n",
       "      <td>Bir\\n        Emlak</td>\n",
       "      <td>NaN</td>\n",
       "      <td>NaN</td>\n",
       "    </tr>\n",
       "    <tr>\n",
       "      <th>3</th>\n",
       "      <td>https://www.hepsiemlak.com/istanbul-beykoz-goz...</td>\n",
       "      <td>16</td>\n",
       "      <td>18.000</td>\n",
       "      <td>13-03-2025</td>\n",
       "      <td>Kiralık Daire</td>\n",
       "      <td>3 +\\n                          1</td>\n",
       "      <td>130 m²</td>\n",
       "      <td>25\\n                        Yaşında</td>\n",
       "      <td>3. Kat</td>\n",
       "      <td>İstanbul / Beykoz / Göztepe Mah.</td>\n",
       "      <td>https://www.hepsiemlak.com/emlak-ofisi/merkez-...</td>\n",
       "      <td>https://hecdn01.hemlak.com/mncropresize/280/21...</td>\n",
       "      <td>Whatsapp</td>\n",
       "      <td>Merkez Emlak</td>\n",
       "      <td>NaN</td>\n",
       "      <td>NaN</td>\n",
       "      <td>https://hecdnnw.hemlak.com/mncropresize/77/67/...</td>\n",
       "      <td>Münir\\n        Güldal</td>\n",
       "      <td>https://hecdnnw.hemlak.com/mncropresize/77/67/...</td>\n",
       "      <td>NaN</td>\n",
       "    </tr>\n",
       "    <tr>\n",
       "      <th>4</th>\n",
       "      <td>https://www.hepsiemlak.com/istanbul-sariyer-ru...</td>\n",
       "      <td>24</td>\n",
       "      <td>50.000</td>\n",
       "      <td>13-03-2025</td>\n",
       "      <td>Kiralık Daire</td>\n",
       "      <td>4 +\\n                          1</td>\n",
       "      <td>160 m²</td>\n",
       "      <td>49\\n                        Yaşında</td>\n",
       "      <td>3. Kat</td>\n",
       "      <td>İstanbul / Sarıyer / Rumeli Kavağı Mah.</td>\n",
       "      <td>https://www.hepsiemlak.com/emlak-ofisi/remax-a...</td>\n",
       "      <td>https://hecdn01.hemlak.com/mncropresize/280/21...</td>\n",
       "      <td>Whatsapp</td>\n",
       "      <td>Remax Ahenk</td>\n",
       "      <td>NaN</td>\n",
       "      <td>NaN</td>\n",
       "      <td>https://hecdnnw.hemlak.com/mncropresize/77/67/...</td>\n",
       "      <td>NaN</td>\n",
       "      <td>NaN</td>\n",
       "      <td>NaN</td>\n",
       "    </tr>\n",
       "  </tbody>\n",
       "</table>\n",
       "</div>"
      ],
      "text/plain": [
       "                                       img-link href  photo-count  \\\n",
       "0  https://www.hepsiemlak.com/istanbul-sariyer-hu...           32   \n",
       "1  https://www.hepsiemlak.com/istanbul-uskudar-az...           59   \n",
       "2  https://www.hepsiemlak.com/istanbul-kadikoy-ac...           27   \n",
       "3  https://www.hepsiemlak.com/istanbul-beykoz-goz...           16   \n",
       "4  https://www.hepsiemlak.com/istanbul-sariyer-ru...           24   \n",
       "\n",
       "  list-view-price list-view-date           left  \\\n",
       "0          41.000     07-03-2025  Kiralık Daire   \n",
       "1          32.000     14-03-2025  Kiralık Daire   \n",
       "2          47.000     08-03-2025  Kiralık Daire   \n",
       "3          18.000     13-03-2025  Kiralık Daire   \n",
       "4          50.000     13-03-2025  Kiralık Daire   \n",
       "\n",
       "                              celly celly 2  \\\n",
       "0  2 +\\n                          1  100 m²   \n",
       "1  3 +\\n                          1   80 m²   \n",
       "2  2 +\\n                          1  110 m²   \n",
       "3  3 +\\n                          1  130 m²   \n",
       "4  4 +\\n                          1  160 m²   \n",
       "\n",
       "                               celly 3 celly 4  \\\n",
       "0                           Sıfır Bina  2. Kat   \n",
       "1  45\\n                        Yaşında  2. Kat   \n",
       "2   3\\n                        Yaşında  3. Kat   \n",
       "3  25\\n                        Yaşında  3. Kat   \n",
       "4  49\\n                        Yaşında  3. Kat   \n",
       "\n",
       "                             list-view-location  \\\n",
       "0               İstanbul / Sarıyer / Huzur Mah.   \n",
       "1  İstanbul / Üsküdar / Aziz Mahmut Hüdayi Mah.   \n",
       "2            İstanbul / Kadıköy / Acıbadem Mah.   \n",
       "3              İstanbul / Beykoz / Göztepe Mah.   \n",
       "4       İstanbul / Sarıyer / Rumeli Kavağı Mah.   \n",
       "\n",
       "                                        img-wrp href  \\\n",
       "0  https://www.hepsiemlak.com/emlak-ofisi/koyuyes...   \n",
       "1  https://www.hepsiemlak.com/emlak-ofisi/cadde-d...   \n",
       "2  https://www.hepsiemlak.com/emlak-ofisi/bir-eml...   \n",
       "3  https://www.hepsiemlak.com/emlak-ofisi/merkez-...   \n",
       "4  https://www.hepsiemlak.com/emlak-ofisi/remax-a...   \n",
       "\n",
       "                                   he-lazy-image src    wp-btn  \\\n",
       "0  https://hecdnnw.hemlak.com/mncropresize/77/67/...  Whatsapp   \n",
       "1  https://hecdn01.hemlak.com/img/eids-logo-mini.png  Whatsapp   \n",
       "2  https://hecdnnw.hemlak.com/mncropresize/77/67/...  Whatsapp   \n",
       "3  https://hecdn01.hemlak.com/mncropresize/280/21...  Whatsapp   \n",
       "4  https://hecdn01.hemlak.com/mncropresize/280/21...  Whatsapp   \n",
       "\n",
       "  listing-card--owner-info__firm-name  \\\n",
       "0               Koyuyeşil Gayrimenkul   \n",
       "1             Cadde Divan Gayrimenkul   \n",
       "2                           Bir Emlak   \n",
       "3                        Merkez Emlak   \n",
       "4                         Remax Ahenk   \n",
       "\n",
       "                             eids-badge__description eids-badge__label  \\\n",
       "0                                                NaN               NaN   \n",
       "1  Elektronik İlan Doğrulama Sistemi yetki doğrul...       EİDS onaylı   \n",
       "2                                                NaN               NaN   \n",
       "3                                                NaN               NaN   \n",
       "4                                                NaN               NaN   \n",
       "\n",
       "                                 he-lazy-image src 2  \\\n",
       "0                                                NaN   \n",
       "1  https://hecdnnw.hemlak.com/mncropresize/77/67/...   \n",
       "2                                                NaN   \n",
       "3  https://hecdnnw.hemlak.com/mncropresize/77/67/...   \n",
       "4  https://hecdnnw.hemlak.com/mncropresize/77/67/...   \n",
       "\n",
       "  listing-card--owner-info__name  \\\n",
       "0                            NaN   \n",
       "1                            NaN   \n",
       "2             Bir\\n        Emlak   \n",
       "3          Münir\\n        Güldal   \n",
       "4                            NaN   \n",
       "\n",
       "                                 he-lazy-image src 3 list-view-header  \n",
       "0                                                NaN              NaN  \n",
       "1                                                NaN              NaN  \n",
       "2                                                NaN              NaN  \n",
       "3  https://hecdnnw.hemlak.com/mncropresize/77/67/...              NaN  \n",
       "4                                                NaN              NaN  "
      ]
     },
     "execution_count": 3,
     "metadata": {},
     "output_type": "execute_result"
    }
   ],
   "source": [
    "df = pd.read_csv(\"hepsiemlakkira/hepsiemlakall.csv\") # Load the dataset\n",
    "# To display the top 5 rows \n",
    "df.head(5)   "
   ]
  },
  {
   "cell_type": "code",
   "execution_count": 4,
   "id": "c7bb6321",
   "metadata": {},
   "outputs": [
    {
     "data": {
      "text/plain": [
       "img-link href                          object\n",
       "photo-count                             int64\n",
       "list-view-price                        object\n",
       "list-view-date                         object\n",
       "left                                   object\n",
       "celly                                  object\n",
       "celly 2                                object\n",
       "celly 3                                object\n",
       "celly 4                                object\n",
       "list-view-location                     object\n",
       "img-wrp href                           object\n",
       "he-lazy-image src                      object\n",
       "wp-btn                                 object\n",
       "listing-card--owner-info__firm-name    object\n",
       "eids-badge__description                object\n",
       "eids-badge__label                      object\n",
       "he-lazy-image src 2                    object\n",
       "listing-card--owner-info__name         object\n",
       "he-lazy-image src 3                    object\n",
       "list-view-header                       object\n",
       "dtype: object"
      ]
     },
     "execution_count": 4,
     "metadata": {},
     "output_type": "execute_result"
    }
   ],
   "source": [
    "df.dtypes"
   ]
  },
  {
   "cell_type": "code",
   "execution_count": 5,
   "id": "985496d1",
   "metadata": {},
   "outputs": [],
   "source": [
    "def drop_columns(df, columns):\n",
    "    \"\"\"\n",
    "    Drop specified columns from a DataFrame.\n",
    "    \n",
    "    Parameters:\n",
    "    df (pd.DataFrame): düşecek olan kolonlar.\n",
    "    columns (list): kolon name listesi needen düşürülecek.\n",
    "    \n",
    "    Returns:\n",
    "    pd.DataFrame: Düşürülmüş şekilde kopya döner\n",
    "    \"\"\"\n",
    "    for col in columns:\n",
    "        try:\n",
    "            df.drop([col], axis=1, inplace=True)\n",
    "        except Exception as e:\n",
    "            print(f\"Error dropping column {col}: {e}\")"
   ]
  },
  {
   "cell_type": "code",
   "execution_count": 6,
   "id": "62c556f6",
   "metadata": {},
   "outputs": [
    {
     "name": "stdout",
     "output_type": "stream",
     "text": [
      "Index(['img-link href', 'photo-count', 'list-view-price', 'list-view-date',\n",
      "       'left', 'celly', 'celly 2', 'celly 3', 'celly 4', 'list-view-location',\n",
      "       'img-wrp href', 'he-lazy-image src', 'wp-btn',\n",
      "       'listing-card--owner-info__firm-name', 'eids-badge__description',\n",
      "       'eids-badge__label', 'he-lazy-image src 2',\n",
      "       'listing-card--owner-info__name', 'he-lazy-image src 3',\n",
      "       'list-view-header'],\n",
      "      dtype='object')\n"
     ]
    }
   ],
   "source": [
    "print(df.columns)"
   ]
  },
  {
   "cell_type": "code",
   "execution_count": 7,
   "id": "27103c70",
   "metadata": {},
   "outputs": [
    {
     "name": "stdout",
     "output_type": "stream",
     "text": [
      "Columns dropped successfully.\n"
     ]
    }
   ],
   "source": [
    "try:\n",
    "    df.drop(['img-link href', 'photo-count', 'list-view-date','img-wrp href', 'he-lazy-image src', 'wp-btn','listing-card--owner-info__firm-name', 'eids-badge__description','eids-badge__label', 'he-lazy-image src 2','listing-card--owner-info__name', 'he-lazy-image src 3','list-view-header'], axis=1, inplace=True)\n",
    "    print(\"Columns dropped successfully.\")\n",
    "except KeyError as e:\n",
    "    print(f\"Error: {e} - One or more columns not found in the dataframe.\")"
   ]
  },
  {
   "cell_type": "code",
   "execution_count": 8,
   "id": "7271813f",
   "metadata": {},
   "outputs": [
    {
     "name": "stdout",
     "output_type": "stream",
     "text": [
      "<class 'pandas.core.frame.DataFrame'>\n",
      "RangeIndex: 9997 entries, 0 to 9996\n",
      "Data columns (total 7 columns):\n",
      " #   Column              Non-Null Count  Dtype \n",
      "---  ------              --------------  ----- \n",
      " 0   list-view-price     9997 non-null   object\n",
      " 1   left                9997 non-null   object\n",
      " 2   celly               9997 non-null   object\n",
      " 3   celly 2             9997 non-null   object\n",
      " 4   celly 3             9994 non-null   object\n",
      " 5   celly 4             9609 non-null   object\n",
      " 6   list-view-location  9997 non-null   object\n",
      "dtypes: object(7)\n",
      "memory usage: 546.8+ KB\n",
      "None\n"
     ]
    }
   ],
   "source": [
    "print(df.info())"
   ]
  },
  {
   "cell_type": "code",
   "execution_count": 9,
   "id": "956670f2",
   "metadata": {},
   "outputs": [
    {
     "name": "stdout",
     "output_type": "stream",
     "text": [
      "['İstanbul / Sarıyer / Huzur Mah.'\n",
      " 'İstanbul / Üsküdar / Aziz Mahmut Hüdayi Mah.'\n",
      " 'İstanbul / Kadıköy / Acıbadem Mah.' 'İstanbul / Beykoz / Göztepe Mah.'\n",
      " 'İstanbul / Sarıyer / Rumeli Kavağı Mah.'\n",
      " 'İstanbul / Sarıyer / Zekeriyaköy Mah.'\n",
      " 'İstanbul / Şişli / Teşvikiye Mah.'\n",
      " 'İstanbul / Başakşehir / Ziya Gökalp Mah.'\n",
      " 'İstanbul / Başakşehir / Başakşehir Mah.'\n",
      " 'İstanbul / Sarıyer / Maslak Mah.' 'İstanbul / Ümraniye / Çakmak Mah.'\n",
      " 'İstanbul / Üsküdar / Mehmet Akif Ersoy Mah.'\n",
      " 'İstanbul / Bahçelievler / Kocasinan Merkez Mah.'\n",
      " 'İstanbul / Şişli / Meşrutiyet Mah.' 'İstanbul / Adalar / Maden Mah.'\n",
      " 'İstanbul / Beşiktaş / Levazım Mah.'\n",
      " 'İstanbul / Sarıyer / Darüşşafaka Mah.' 'İstanbul / Şişli / Duatepe Mah.'\n",
      " 'İstanbul / Beyoğlu / Kılıçali Paşa Mah.'\n",
      " 'İstanbul / Beyoğlu / Çukur Mah.' 'İstanbul / Sarıyer / Kumköy Mah.'\n",
      " 'İstanbul / Bakırköy / Basınköy Mah.'\n",
      " 'İstanbul / Bakırköy / Şenlikköy Mah.'\n",
      " 'İstanbul / Fatih / Hırka-i Şerif Mah.'\n",
      " 'İstanbul / Fatih / Koca Mustafapaşa Mah.'\n",
      " 'İstanbul / Şişli / Halide Edip Adıvar Mah.'\n",
      " 'İstanbul / Bağcılar / Kirazlı Mah.' 'İstanbul / Kadıköy / Bostancı Mah.'\n",
      " 'İstanbul / Tuzla / Mimar Sinan Mah.'\n",
      " 'İstanbul / Maltepe / Fındıklı Mah.' 'İstanbul / Şişli / Cumhuriyet Mah.'\n",
      " 'İstanbul / Bağcılar / Yıldıztepe Mah.'\n",
      " 'İstanbul / Bayrampaşa / Terazidere Mah.'\n",
      " 'İstanbul / Küçükçekmece / İstasyon Mah.'\n",
      " 'İstanbul / Gaziosmanpaşa / Karlıtepe Mah.'\n",
      " 'İstanbul / Kadıköy / Suadiye Mah.'\n",
      " 'İstanbul / Esenyurt / Aşık Veysel Mah.'\n",
      " 'İstanbul / Şişli / Harbiye Mah.'\n",
      " 'İstanbul / Üsküdar / Bahçelievler Mah.'\n",
      " 'İstanbul / Sarıyer / Büyükdere Mah.' 'İstanbul / Tuzla / İstasyon Mah.'\n",
      " 'İstanbul / Bayrampaşa / Muratpaşa Mah.'\n",
      " 'İstanbul / Kartal / Atalar Mah.' 'İstanbul / Silivri / İsmetpaşa Mah.'\n",
      " 'İstanbul / Kartal / Topselvi Mah.' 'İstanbul / Üsküdar / İcadiye Mah.'\n",
      " 'İstanbul / Üsküdar / Zeynep Kamil Mah.'\n",
      " 'İstanbul / Beyoğlu / Pürtelaş Hasan Efendi Mah.'\n",
      " 'İstanbul / Adalar / Heybeliada Mah.'\n",
      " 'İstanbul / Bahçelievler / Zafer Mah.'\n",
      " 'İstanbul / Beyoğlu / Sütlüce Mah.' 'İstanbul / Şişli / Paşa Mah.'\n",
      " 'İstanbul / Sarıyer / Tarabya Mah.'\n",
      " 'İstanbul / Kağıthane / Harmantepe Mah.'\n",
      " 'İstanbul / Kağıthane / Telsizler Mah.'\n",
      " 'İstanbul / Pendik / Esenler Mah.' 'İstanbul / Pendik / Fatih Mah.'\n",
      " 'İstanbul / Beylikdüzü / Kavaklı Mah.'\n",
      " 'İstanbul / Beyoğlu / Cihangir Mah.'\n",
      " 'İstanbul / Avcılar / Denizköşkler Mah.'\n",
      " 'İstanbul / Avcılar / Ambarlı Mah.' 'İstanbul / Fatih / Katip Kasım Mah.'\n",
      " 'İstanbul / Kadıköy / Osmanağa Mah.'\n",
      " 'İstanbul / Maltepe / Küçükyalı Mah.'\n",
      " 'İstanbul / Ümraniye / Necip Fazıl Mah.'\n",
      " 'İstanbul / Beşiktaş / Dikilitaş Mah.'\n",
      " 'İstanbul / Bakırköy / Sakızağacı Mah.'\n",
      " 'İstanbul / Ataşehir / Barbaros Mah.' 'İstanbul / Şişli / Fulya Mah.'\n",
      " 'İstanbul / Kadıköy / Kozyatağı Mah.'\n",
      " 'İstanbul / Ataşehir / İçerenköy Mah.'\n",
      " 'İstanbul / Eyüpsultan / Karadolap Mah.'\n",
      " 'İstanbul / Sarıyer / Ayazağa Mah.'\n",
      " 'İstanbul / Sancaktepe / Yunus Emre Mah.'\n",
      " 'İstanbul / Avcılar / Merkez Mah.' 'İstanbul / Esenyurt / Talatpaşa Mah.'\n",
      " 'İstanbul / Bakırköy / Osmaniye Mah.'\n",
      " 'İstanbul / Bakırköy / Yeşilköy Mah.'\n",
      " 'İstanbul / Beşiktaş / Gayrettepe Mah.'\n",
      " 'İstanbul / Kağıthane / Sultan Selim Mah.'\n",
      " 'İstanbul / Gaziosmanpaşa / Merkez Mah.'\n",
      " 'İstanbul / Kadıköy / Caferağa Mah.'\n",
      " 'İstanbul / Esenyurt / Piri Reis Mah.'\n",
      " 'İstanbul / Güngören / Haznedar Mah.'\n",
      " 'İstanbul / Maltepe / Feyzullah Mah.'\n",
      " 'İstanbul / Kağıthane / Yahya Kemal Mah.'\n",
      " 'İstanbul / Sancaktepe / Fatih Mah.' 'İstanbul / Esenyurt / Koza Mah.'\n",
      " 'İstanbul / Şişli / Merkez Mah.' 'İstanbul / Sancaktepe / İnönü Mah.'\n",
      " 'İstanbul / Şişli / Gülbahar Mah.'\n",
      " 'İstanbul / Bahçelievler / Siyavuşpaşa Mah.'\n",
      " 'İstanbul / Bakırköy / Zuhuratbaba Mah.'\n",
      " 'İstanbul / Sarıyer / Kireçburnu Mah.'\n",
      " 'İstanbul / Eyüpsultan / Mithatpaşa Mah.'\n",
      " 'İstanbul / Kadıköy / Caddebostan Mah.'\n",
      " 'İstanbul / Beykoz / Kanlıca Mah.' 'İstanbul / Kadıköy / Göztepe Mah.'\n",
      " 'İstanbul / Maltepe / Cevizli Mah.'\n",
      " 'İstanbul / Eyüpsultan / Göktürk Merkez Mah.'\n",
      " 'İstanbul / Büyükçekmece / Atatürk Mah.'\n",
      " 'İstanbul / Pendik / Fevzi Çakmak Mah.'\n",
      " 'İstanbul / Kağıthane / Merkez Mah.' 'İstanbul / Üsküdar / Salacak Mah.'\n",
      " 'İstanbul / Sarıyer / İstinye Mah.' 'İstanbul / Şişli / Esentepe Mah.'\n",
      " 'İstanbul / Kadıköy / Sahrayı Cedit Mah.'\n",
      " 'İstanbul / Bahçelievler / Bahçelievler Mah.'\n",
      " 'İstanbul / Beşiktaş / Muradiye Mah.'\n",
      " 'İstanbul / Kadıköy / Hasanpaşa Mah.' 'İstanbul / Ümraniye / Çamlık Mah.'\n",
      " 'İstanbul / Sarıyer / Çamlıtepe Mah.'\n",
      " 'İstanbul / Esenyurt / Barbaros Hayrettin Paşa Mah.'\n",
      " 'İstanbul / Sancaktepe / Eyüp Sultan Mah.'\n",
      " 'İstanbul / Beşiktaş / Ortaköy Mah.'\n",
      " 'İstanbul / Maltepe / Zümrütevler Mah.'\n",
      " 'İstanbul / Avcılar / Cihangir Mah.'\n",
      " 'İstanbul / Üsküdar / Sultantepe Mah.'\n",
      " 'İstanbul / Sarıyer / Cumhuriyet Mah.'\n",
      " 'İstanbul / Bahçelievler / Cumhuriyet Mah.'\n",
      " 'İstanbul / Maltepe / İdealtepe Mah.'\n",
      " 'İstanbul / Küçükçekmece / Cennet Mah.'\n",
      " 'İstanbul / Üsküdar / Küçük Çamlıca Mah.'\n",
      " 'İstanbul / Beşiktaş / Nisbetiye Mah.'\n",
      " 'İstanbul / Bağcılar / Fevzi Çakmak Mah.'\n",
      " 'İstanbul / Beşiktaş / Abbasağa Mah.'\n",
      " 'İstanbul / Fatih / Derviş Ali Mah.' 'İstanbul / Tuzla / Aydınlı Mah.'\n",
      " 'İstanbul / Sarıyer / Ferahevler Mah.'\n",
      " 'İstanbul / Üsküdar / Kuzguncuk Mah.'\n",
      " 'İstanbul / Esenyurt / Mevlana Mah.' 'İstanbul / Esenyurt / Örnek Mah.'\n",
      " 'İstanbul / Fatih / Seyyid Ömer Mah.'\n",
      " 'İstanbul / Kağıthane / Çağlayan Mah.'\n",
      " 'İstanbul / Büyükçekmece / Ekinoba Mah.'\n",
      " 'İstanbul / Üsküdar / Bulgurlu Mah.'\n",
      " 'İstanbul / Gaziosmanpaşa / Yenidoğan Mah.'\n",
      " 'İstanbul / Kartal / Esentepe Mah.'\n",
      " 'İstanbul / Arnavutköy / Boğazköy İstiklal Mah.'\n",
      " 'İstanbul / Pendik / Kurtköy Mah.'\n",
      " 'İstanbul / Bakırköy / Ataköy 3-4-11. Kısım Mah.'\n",
      " 'İstanbul / Pendik / Velibaba Mah.'\n",
      " 'İstanbul / Kadıköy / Fenerbahçe Mah.' 'İstanbul / Şişli / Feriköy Mah.'\n",
      " 'İstanbul / Bahçelievler / Şirinevler Mah.'\n",
      " 'İstanbul / Beşiktaş / Balmumcu Mah.'\n",
      " 'İstanbul / Beşiktaş / Vişnezade Mah.'\n",
      " 'İstanbul / Kadıköy / Merdivenköy Mah.'\n",
      " 'İstanbul / Beykoz / Paşabahçe Mah.'\n",
      " 'İstanbul / Kağıthane / Nurtepe Mah.'\n",
      " 'İstanbul / Çekmeköy / Mimar Sinan Mah.'\n",
      " 'İstanbul / Bayrampaşa / Orta Mah.'\n",
      " 'İstanbul / Esenyurt / Yeşilkent Mah.'\n",
      " 'İstanbul / Kartal / Hürriyet Mah.'\n",
      " 'İstanbul / Gaziosmanpaşa / Karayolları Mah.'\n",
      " 'İstanbul / Kağıthane / Gürsel Mah.' 'İstanbul / Ümraniye / Atakent Mah.'\n",
      " 'İstanbul / Kağıthane / Yeşilce Mah.'\n",
      " 'İstanbul / Kağıthane / Emniyet Evleri Mah.'\n",
      " 'İstanbul / Beşiktaş / Türkali Mah.'\n",
      " 'İstanbul / Beylikdüzü / Gürpınar Mah.'\n",
      " 'İstanbul / Üsküdar / Yavuztürk Mah.'\n",
      " 'İstanbul / Ataşehir / Atatürk Mah.'\n",
      " 'İstanbul / Ümraniye / Esenevler Mah.'\n",
      " 'İstanbul / Maltepe / Altıntepe Mah.'\n",
      " 'İstanbul / Üsküdar / Beylerbeyi Mah.'\n",
      " 'İstanbul / Şişli / Mecidiyeköy Mah.'\n",
      " 'İstanbul / Kadıköy / Feneryolu Mah.'\n",
      " 'İstanbul / Beşiktaş / Kuruçeşme Mah.'\n",
      " 'İstanbul / Üsküdar / Valide-i Atik Mah.'\n",
      " 'İstanbul / Beyoğlu / Katip Mustafa Çelebi Mah.'\n",
      " 'İstanbul / Beşiktaş / Bebek Mah.' 'İstanbul / Pendik / Güzelyalı Mah.'\n",
      " 'İstanbul / Bahçelievler / Soğanlı Mah.'\n",
      " 'İstanbul / Beşiktaş / Mecidiye Mah.'\n",
      " 'İstanbul / Avcılar / Mustafa Kemal Paşa Mah.'\n",
      " 'İstanbul / Beylikdüzü / Adnan Kahveci Mah.'\n",
      " 'İstanbul / Sarıyer / Yeniköy Mah.'\n",
      " 'İstanbul / Esenyurt / Mehterçeşme Mah.'\n",
      " 'İstanbul / Çekmeköy / Güngören Mah.'\n",
      " 'İstanbul / Beyoğlu / Yenişehir Mah.'\n",
      " 'İstanbul / Kağıthane / Seyrantepe Mah.'\n",
      " 'İstanbul / Esenyurt / Bağlarçeşme Mah.' 'İstanbul / Pendik / Doğu Mah.'\n",
      " 'İstanbul / Avcılar / Gümüşpala Mah.'\n",
      " 'İstanbul / Üsküdar / Selami Ali Mah.'\n",
      " 'İstanbul / Bağcılar / 100. Yıl Mah.'\n",
      " 'İstanbul / Gaziosmanpaşa / Yeni Mahalle Mah.'\n",
      " 'İstanbul / Esenyurt / Gökevler Mah.'\n",
      " 'İstanbul / Kartal / Karlıktepe Mah.' 'İstanbul / Beyoğlu / Kuloğlu Mah.'\n",
      " 'İstanbul / Sancaktepe / Meclis Mah.'\n",
      " 'İstanbul / Üsküdar / Cumhuriyet Mah.'\n",
      " 'İstanbul / Beyoğlu / Kalyoncu Kulluğu Mah.'\n",
      " 'İstanbul / Sultanbeyli / Orhangazi Mah.'\n",
      " 'İstanbul / Küçükçekmece / Yeni Mahalle Mah.'\n",
      " 'İstanbul / Fatih / Molla Gürani Mah.' 'İstanbul / Esenyurt / Pınar Mah.'\n",
      " 'İstanbul / Fatih / Topkapı Mah.' 'İstanbul / Bakırköy / Cevizlik Mah.'\n",
      " 'İstanbul / Esenler / Oruçreis Mah.' 'İstanbul / Şişli / İnönü Mah.'\n",
      " 'İstanbul / Ataşehir / Kayışdağı Mah.'\n",
      " 'İstanbul / Arnavutköy / Hadımköy Mah.'\n",
      " 'İstanbul / Küçükçekmece / Kemalpaşa Mah.'\n",
      " 'İstanbul / Kağıthane / Hürriyet Mah.'\n",
      " 'İstanbul / Fatih / Mevlanakapı Mah.' 'İstanbul / Şişli / Bozkurt Mah.'\n",
      " 'İstanbul / Bayrampaşa / Yıldırım Mah.'\n",
      " 'İstanbul / Şişli / Eskişehir Mah.' 'İstanbul / Ümraniye / Tatlısu Mah.'\n",
      " 'İstanbul / Bahçelievler / Hürriyet Mah.'\n",
      " 'İstanbul / Küçükçekmece / Atatürk Mah.'\n",
      " 'İstanbul / Üsküdar / Çengelköy Mah.' 'İstanbul / Esenyurt / İnönü Mah.'\n",
      " 'İstanbul / Bakırköy / Kartaltepe Mah.'\n",
      " 'İstanbul / Güngören / Gençosman Mah.'\n",
      " 'İstanbul / Eyüpsultan / Yeşilpınar Mah.'\n",
      " 'İstanbul / Üsküdar / Ferah Mah.' 'İstanbul / Esenyurt / İncirtepe Mah.'\n",
      " 'İstanbul / Beylikdüzü / Barış Mah.'\n",
      " 'İstanbul / Küçükçekmece / Gültepe Mah.'\n",
      " 'İstanbul / Sancaktepe / Emek Mah.' 'İstanbul / Adalar / Nizam Mah.'\n",
      " 'İstanbul / Sancaktepe / Yenidoğan Mah.'\n",
      " 'İstanbul / Kağıthane / Hamidiye Mah.'\n",
      " 'İstanbul / Çekmeköy / Mehmet Akif Mah.'\n",
      " 'İstanbul / Ataşehir / İnönü Mah.'\n",
      " 'İstanbul / Gaziosmanpaşa / Karadeniz Mah.'\n",
      " 'İstanbul / Küçükçekmece / Cumhuriyet Mah.'\n",
      " 'İstanbul / Maltepe / Altayçeşme Mah.'\n",
      " 'İstanbul / Sultanbeyli / Hasanpaşa Mah.' 'İstanbul / Kartal / Yalı Mah.'\n",
      " 'İstanbul / Beykoz / Acarlar Mah.'\n",
      " 'İstanbul / Gaziosmanpaşa / Kazım Karabekir Mah.'\n",
      " 'İstanbul / Kağıthane / Ortabayır Mah.'\n",
      " 'İstanbul / Ümraniye / Yamanevler Mah.'\n",
      " 'İstanbul / Kartal / Çavuşoğlu Mah.' 'İstanbul / Beşiktaş / Akat Mah.'\n",
      " 'İstanbul / Maltepe / Aydınevler Mah.'\n",
      " 'İstanbul / Esenler / Nine Hatun Mah.'\n",
      " 'İstanbul / Çekmeköy / Hamidiye Mah.'\n",
      " 'İstanbul / Üsküdar / Altunizade Mah.'\n",
      " 'İstanbul / Kağıthane / Gültepe Mah.'\n",
      " 'İstanbul / Üsküdar / Kirazlıtepe Mah.'\n",
      " 'İstanbul / Kadıköy / Erenköy Mah.' 'İstanbul / Kadıköy / 19 Mayıs Mah.'\n",
      " 'İstanbul / Beyoğlu / Hacıahmet Mah.' 'İstanbul / Şişli / Yayla Mah.'\n",
      " 'İstanbul / Başakşehir / Kayabaşı Mah.'\n",
      " 'İstanbul / Fatih / Yedikule Mah.'\n",
      " 'İstanbul / Büyükçekmece / Mimar Sinan Merkez Mah.'\n",
      " 'İstanbul / Sarıyer / Maden Mah.' 'İstanbul / Avcılar / Tahtakale Mah.'\n",
      " 'İstanbul / Sultanbeyli / Adil Mah.'\n",
      " 'İstanbul / Başakşehir / Bahçeşehir 2. Kısım Mah.'\n",
      " 'İstanbul / Beşiktaş / Konaklar Mah.'\n",
      " 'İstanbul / Kağıthane / Çeliktepe Mah.'\n",
      " 'İstanbul / Esenyurt / Osmangazi Mah.'\n",
      " 'İstanbul / Bayrampaşa / Kartaltepe Mah.'\n",
      " 'İstanbul / Başakşehir / Bahçeşehir 1. Kısım Mah.'\n",
      " 'İstanbul / Zeytinburnu / Nuripaşa Mah.'\n",
      " 'İstanbul / Beylikdüzü / Cumhuriyet Mah.'\n",
      " 'İstanbul / Küçükçekmece / Atakent Mah.'\n",
      " 'İstanbul / Maltepe / Bağlarbaşı Mah.'\n",
      " 'İstanbul / Bahçelievler / Çobançeşme Mah.'\n",
      " 'İstanbul / Esenler / Menderes Mah.'\n",
      " 'İstanbul / Sarıyer / Rumeli Hisarı Mah.'\n",
      " 'İstanbul / Ümraniye / Madenler Mah.'\n",
      " 'İstanbul / Kadıköy / Zühtüpaşa Mah.'\n",
      " 'İstanbul / Küçükçekmece / İnönü Mah.' 'İstanbul / Maltepe / Çınar Mah.'\n",
      " 'İstanbul / Pendik / Güllü Bağlar Mah.'\n",
      " 'İstanbul / Esenyurt / Mehmet Akif Ersoy Mah.'\n",
      " 'İstanbul / Eyüpsultan / Silahtarağa Mah.'\n",
      " 'İstanbul / Beykoz / Soğuksu Mah.'\n",
      " 'İstanbul / Beşiktaş / Arnavutköy Mah.'\n",
      " 'İstanbul / Beşiktaş / Levent Mah.' 'İstanbul / Şile / Çayırbaşı Mah.'\n",
      " 'İstanbul / Bağcılar / Demirkapı Mah.'\n",
      " 'İstanbul / Fatih / Sümbül Efendi Mah.'\n",
      " 'İstanbul / Beşiktaş / Kültür Mah.'\n",
      " 'İstanbul / Sarıyer / Uskumruköy Mah.'\n",
      " 'İstanbul / Pendik / Kaynarca Mah.'\n",
      " 'İstanbul / Beykoz / Anadolu Hisarı Mah.'\n",
      " 'İstanbul / Pendik / Yenişehir Mah.' 'İstanbul / Beşiktaş / Ulus Mah.'\n",
      " 'İstanbul / Ataşehir / Örnek Mah.' 'İstanbul / Ümraniye / Saray Mah.'\n",
      " 'İstanbul / Eyüpsultan / Çırçır Mah.' 'İstanbul / Sarıyer / Emirgan Mah.'\n",
      " 'İstanbul / Beylikdüzü / Yakuplu Mah.'\n",
      " 'İstanbul / Fatih / Şehremini Mah.' 'İstanbul / Çekmeköy / Merkez Mah.'\n",
      " 'İstanbul / Sarıyer / Demirciköy Mah.' 'İstanbul / Kartal / Yukarı Mah.'\n",
      " 'İstanbul / Bahçelievler / Yenibosna Merkez Mah.'\n",
      " 'İstanbul / Şişli / Kuştepe Mah.' 'İstanbul / Büyükçekmece / Fatih Mah.'\n",
      " 'İstanbul / Sarıyer / Pınar Mah.'\n",
      " 'İstanbul / Beylikdüzü / Büyükşehir Mah.'\n",
      " 'İstanbul / Eyüpsultan / Esentepe Mah.' 'İstanbul / Tuzla / Postane Mah.'\n",
      " 'İstanbul / Fatih / Balat Mah.' 'İstanbul / Silivri / Selimpaşa Mah.'\n",
      " 'İstanbul / Küçükçekmece / Tevfik Bey Mah.'\n",
      " 'İstanbul / Büyükçekmece / Pınartepe Mah.'\n",
      " 'İstanbul / Beşiktaş / Cihannüma Mah.'\n",
      " 'İstanbul / Küçükçekmece / Halkalı Merkez Mah.'\n",
      " 'İstanbul / Küçükçekmece / Yeşilova Mah.'\n",
      " 'İstanbul / Ataşehir / Fetih Mah.' 'İstanbul / Maltepe / Başıbüyük Mah.'\n",
      " 'İstanbul / Esenyurt / Yunus Emre Mah.'\n",
      " 'İstanbul / Ümraniye / Yukarı Dudullu Mah.'\n",
      " 'İstanbul / Çekmeköy / Nişantepe Mah.'\n",
      " 'İstanbul / Ataşehir / Küçükbakkalköy Mah.'\n",
      " 'İstanbul / Üsküdar / Mimar Sinan Mah.'\n",
      " 'İstanbul / Beyoğlu / Şehit Muhtar Mah.'\n",
      " 'İstanbul / Başakşehir / Güvercintepe Mah.'\n",
      " 'İstanbul / Güngören / Merkez Mah.' 'İstanbul / Beykoz / Çamlıbahçe Mah.'\n",
      " 'İstanbul / Beşiktaş / Yıldız Mah.' 'İstanbul / Esenyurt / Hürriyet Mah.'\n",
      " 'İstanbul / Esenyurt / Fatih Mah.'\n",
      " 'İstanbul / Ümraniye / Mehmet Akif Mah.'\n",
      " 'İstanbul / Kadıköy / Dumlupınar Mah.'\n",
      " 'İstanbul / Fatih / Silivrikapı Mah.'\n",
      " 'İstanbul / Üsküdar / Kandilli Mah.'\n",
      " 'İstanbul / Eyüpsultan / Mimar Sinan Mah.'\n",
      " 'İstanbul / Küçükçekmece / Sultan Murat Mah.'\n",
      " 'İstanbul / Beşiktaş / Etiler Mah.' 'İstanbul / Beyoğlu / Tomtom Mah.'\n",
      " 'İstanbul / Güngören / Mareşal Çakmak Mah.'\n",
      " 'İstanbul / Beyoğlu / Asmalı Mescit Mah.'\n",
      " 'İstanbul / Beyoğlu / Gümüşsuyu Mah.'\n",
      " 'İstanbul / Beyoğlu / Sururi Mehmet Efendi Mah.'\n",
      " 'İstanbul / Gaziosmanpaşa / Bağlarbaşı Mah.'\n",
      " 'İstanbul / Ümraniye / Atatürk Mah.'\n",
      " 'İstanbul / Kartal / Kordonboyu Mah.' 'İstanbul / Silivri / Yeni Mah.'\n",
      " 'İstanbul / Gaziosmanpaşa / Sarıgöl Mah.'\n",
      " 'İstanbul / Zeytinburnu / Çırpıcı Mah.'\n",
      " 'İstanbul / Zeytinburnu / Maltepe Mah.'\n",
      " 'İstanbul / Fatih / Haseki Sultan Mah.'\n",
      " 'İstanbul / Küçükçekmece / Beşyol Mah.'\n",
      " 'İstanbul / Zeytinburnu / Beştelsiz Mah.'\n",
      " 'İstanbul / Beyoğlu / Ömer Avni Mah.'\n",
      " 'İstanbul / Adalar / Burgazada Mah.'\n",
      " 'İstanbul / Bayrampaşa / Altıntepsi Mah.'\n",
      " 'İstanbul / Çekmeköy / Sultançiftliği Mah.'\n",
      " 'İstanbul / Ümraniye / Namık Kemal Mah.'\n",
      " 'İstanbul / Tuzla / Evliya Çelebi Mah.'\n",
      " 'İstanbul / Ümraniye / İnkılap Mah.'\n",
      " 'İstanbul / Sultangazi / Esentepe Mah.'\n",
      " 'İstanbul / Güngören / Güven Mah.'\n",
      " 'İstanbul / Kartal / Soğanlık Yeni Mah.' 'İstanbul / Pendik / Yeni Mah.'\n",
      " 'İstanbul / Kartal / Gümüşpınar Mah.'\n",
      " 'İstanbul / Esenyurt / Güzelyurt Mah.' 'İstanbul / Tuzla / Yayla Mah.'\n",
      " 'İstanbul / Şile / Çavuş Mah.' 'İstanbul / Beykoz / Çiğdem Mah.'\n",
      " 'İstanbul / Küçükçekmece / Kartaltepe Mah.'\n",
      " 'İstanbul / Sarıyer / Bahçeköy Kemer Mah.'\n",
      " 'İstanbul / Kartal / Cevizli Mah.' 'İstanbul / Üsküdar / Acıbadem Mah.'\n",
      " 'İstanbul / Tuzla / Cami Mah.' 'İstanbul / Kartal / Cumhuriyet Mah.'\n",
      " 'İstanbul / Pendik / Orta Mah.' 'İstanbul / Güngören / Tozkoparan Mah.'\n",
      " 'İstanbul / Silivri / Semizkumlar Mah.' 'İstanbul / Maltepe / Yalı Mah.'\n",
      " 'İstanbul / Ümraniye / İstiklal Mah.'\n",
      " 'İstanbul / Zeytinburnu / Kazlıçeşme Mah.'\n",
      " 'İstanbul / Fatih / Cerrahpaşa Mah.'\n",
      " 'İstanbul / Kadıköy / Rasimpaşa Mah.'\n",
      " 'İstanbul / Beyoğlu / Çatma Mescit Mah.'\n",
      " 'İstanbul / Arnavutköy / Nenehatun Mah.'\n",
      " 'İstanbul / Zeytinburnu / Sümer Mah.'\n",
      " 'İstanbul / Beyoğlu / Kadımehmet Efendi Mah.'\n",
      " 'İstanbul / Ümraniye / Finanskent Mah.'\n",
      " 'İstanbul / Tuzla / Aydıntepe Mah.' 'İstanbul / Sarıyer / Reşitpaşa Mah.'\n",
      " 'İstanbul / Çekmeköy / Kirazlıdere Mah.'\n",
      " 'İstanbul / Şişli / Ergenekon Mah.' 'İstanbul / Fatih / Cibali Mah.'\n",
      " 'İstanbul / Kağıthane / Talatpaşa Mah.'\n",
      " 'İstanbul / Sarıyer / Poligon Mah.'\n",
      " 'İstanbul / Beyoğlu / Kaptanpaşa Mah.'\n",
      " 'İstanbul / Ümraniye / Altınşehir Mah.'\n",
      " 'İstanbul / Esenyurt / Zafer Mah.'\n",
      " 'İstanbul / Küçükçekmece / Mehmet Akif Mah.'\n",
      " 'İstanbul / Eyüpsultan / Merkez Mah.' 'İstanbul / Bağcılar / Çınar Mah.'\n",
      " 'İstanbul / Avcılar / Üniversite Mah.'\n",
      " 'İstanbul / Sarıyer / Sarıyer Merkez Mah.'\n",
      " 'İstanbul / Büyükçekmece / Cumhuriyet Mah.'\n",
      " 'İstanbul / Güngören / Abdurrahman Nafiz Gürman Mah.'\n",
      " 'İstanbul / Beykoz / Tokatköy Mah.'\n",
      " 'İstanbul / Zeytinburnu / Yeşiltepe Mah.'\n",
      " 'İstanbul / Zeytinburnu / Seyitnizam Mah.'\n",
      " 'İstanbul / Kağıthane / Şirintepe Mah.'\n",
      " 'İstanbul / Üsküdar / Kısıklı Mah.' 'İstanbul / Beyoğlu / Şahkulu Mah.'\n",
      " 'İstanbul / Ataşehir / Mustafa Kemal Mah.'\n",
      " 'İstanbul / Kartal / Petroliş Mah.'\n",
      " 'İstanbul / Küçükçekmece / Fevzi Çakmak Mah.'\n",
      " 'İstanbul / Sarıyer / Kocataş Mah.'\n",
      " 'İstanbul / Beşiktaş / Sinanpaşa Mah.'\n",
      " 'İstanbul / Büyükçekmece / Mimaroba Mah.'\n",
      " 'İstanbul / Şişli / 19 Mayıs Mah.'\n",
      " 'İstanbul / Kartal / Yakacık Yeni Mah.'\n",
      " 'İstanbul / Üsküdar / Murat Reis Mah.'\n",
      " 'İstanbul / Sultanbeyli / Battalgazi Mah.'\n",
      " 'İstanbul / Çekmeköy / Çatalmeşe Mah.'\n",
      " 'İstanbul / Ümraniye / Cemil Meriç Mah.'\n",
      " 'İstanbul / Beyoğlu / İstiklal Mah.'\n",
      " 'İstanbul / Sultanbeyli / Necip Fazıl Mah.'\n",
      " 'İstanbul / Bakırköy / Yenimahalle Mah.'\n",
      " 'İstanbul / Fatih / Aksaray Mah.' 'İstanbul / Beykoz / Akbaba Mah.'\n",
      " 'İstanbul / Küçükçekmece / Yarımburgaz Mah.'\n",
      " 'İstanbul / Ümraniye / Hekimbaşı Mah.'\n",
      " 'İstanbul / Gaziosmanpaşa / Yıldıztabya Mah.'\n",
      " 'İstanbul / Silivri / Mimar Sinan Mah.'\n",
      " 'İstanbul / Esenyurt / Üçevler Mah.' 'İstanbul / Esenler / Fatih Mah.'\n",
      " 'İstanbul / Esenyurt / Balıkyolu Mah.'\n",
      " 'İstanbul / Üsküdar / Ahmediye Mah.'\n",
      " 'İstanbul / Beyoğlu / Fetihtepe Mah.'\n",
      " 'İstanbul / Bayrampaşa / Yenidoğan Mah.'\n",
      " 'İstanbul / Sarıyer / Kazım Karabekir Paşa Mah.'\n",
      " 'İstanbul / Esenyurt / Şehitler Mah.'\n",
      " 'İstanbul / Zeytinburnu / Yenidoğan Mah.'\n",
      " 'İstanbul / Bağcılar / İnönü Mah.' 'İstanbul / Üsküdar / Barbaros Mah.'\n",
      " 'İstanbul / Avcılar / Yeşilkent Mah.'\n",
      " 'İstanbul / Sancaktepe / Kemal Türkler Mah.'\n",
      " 'İstanbul / Fatih / Atikali Mah.'\n",
      " 'İstanbul / Bahçelievler / Fevzi Çakmak Mah.'\n",
      " 'İstanbul / Fatih / Ayvansaray Mah.' 'İstanbul / Şile / Göçe Mah.'\n",
      " 'İstanbul / Eyüpsultan / Alibeyköy Mah.'\n",
      " 'İstanbul / Esenyurt / Cumhuriyet Mah.'\n",
      " 'İstanbul / Beykoz / Yeni Mahalle Mah.'\n",
      " 'İstanbul / Beykoz / Ortaçeşme Mah.' 'İstanbul / Silivri / Balaban Mah.'\n",
      " 'İstanbul / Ümraniye / Armağanevler Mah.'\n",
      " 'İstanbul / Esenyurt / Ardıçlı Mah.'\n",
      " 'İstanbul / Büyükçekmece / Sinanoba Mah.'\n",
      " 'İstanbul / Maltepe / Girne Mah.' 'İstanbul / Bağcılar / Hürriyet Mah.'\n",
      " 'İstanbul / Beyoğlu / Firuzağa Mah.'\n",
      " 'İstanbul / Esenyurt / Süleymaniye Mah.'\n",
      " 'İstanbul / Büyükçekmece / Güzelce Mah.'\n",
      " 'İstanbul / Sultangazi / Yunus Emre Mah.'\n",
      " 'İstanbul / Ümraniye / Huzur Mah.' 'İstanbul / Tuzla / Tepeören Mah.'\n",
      " 'İstanbul / Beykoz / Örnekköy Mah.'\n",
      " 'İstanbul / Arnavutköy / Yeşilbayır Mah.'\n",
      " 'İstanbul / Çekmeköy / Cumhuriyet Mah.'\n",
      " 'İstanbul / Sancaktepe / Veysel Karani Mah.'\n",
      " 'İstanbul / Esenyurt / Sultaniye Mah.' 'İstanbul / Şile / Karacaköy Mah.'\n",
      " 'İstanbul / Eyüpsultan / Nişancı Mah.'\n",
      " 'İstanbul / Pendik / Orhangazi Mah.'\n",
      " 'İstanbul / Sancaktepe / Sarıgazi Mah.'\n",
      " 'İstanbul / Pendik / Dumlupınar Mah.'\n",
      " 'İstanbul / Büyükçekmece / Murat Çeşme Mah.'\n",
      " 'İstanbul / Pendik / Çamçeşme Mah.' 'İstanbul / Pendik / Şeyhli Mah.'\n",
      " 'İstanbul / Esenyurt / Çınar Mah.' 'İstanbul / Kadıköy / Fikirtepe Mah.'\n",
      " 'İstanbul / Pendik / Bahçelievler Mah.'\n",
      " 'İstanbul / Kartal / Orhantepe Mah.'\n",
      " 'İstanbul / Bağcılar / Mahmutbey Mah.'\n",
      " 'İstanbul / Bağcılar / Merkez Mah.'\n",
      " 'İstanbul / Kartal / Yakacık Çarşı Mah.' 'İstanbul / Beykoz / Riva Mah.'\n",
      " 'İstanbul / Silivri / Cumhuriyet Mah.'\n",
      " 'İstanbul / Beykoz / Gümüşsuyu Mah.' 'İstanbul / Pendik / Esenyalı Mah.'\n",
      " 'İstanbul / Fatih / Karagümrük Mah.'\n",
      " 'İstanbul / Bakırköy / Ataköy 7-8-9-10. Kısım Mah.'\n",
      " 'İstanbul / Esenyurt / Akçaburgaz Mah.'\n",
      " 'İstanbul / Sancaktepe / Abdurrahmangazi Mah.'\n",
      " 'İstanbul / Bağcılar / Göztepe Mah.'\n",
      " 'İstanbul / Esenyurt / Saadetdere Mah.'\n",
      " 'İstanbul / Beyoğlu / Hacımimi Mah.'\n",
      " 'İstanbul / Beylikdüzü / Dereağzı Mah.'\n",
      " 'İstanbul / Ümraniye / Parseller Mah.'\n",
      " 'İstanbul / Bakırköy / Yeşilyurt Mah.' 'İstanbul / Şile / Balibey Mah.'\n",
      " 'İstanbul / Silivri / Alibey Mah.' 'İstanbul / Bağcılar / Fatih Mah.'\n",
      " 'İstanbul / Üsküdar / Ünalan Mah.' 'İstanbul / Çekmeköy / Ekşioğlu Mah.'\n",
      " 'İstanbul / Esenler / Mimar Sinan Mah.'\n",
      " 'İstanbul / Sultangazi / Zübeyde Hanım Mah.'\n",
      " 'İstanbul / Beylikdüzü / Marmara Mah.'\n",
      " 'İstanbul / Zeytinburnu / Telsiz Mah.'\n",
      " 'İstanbul / Gaziosmanpaşa / Hürriyet Mah.'\n",
      " 'İstanbul / Beykoz / Çiftlik Mah.' 'İstanbul / Beykoz / Çubuklu Mah.'\n",
      " 'İstanbul / Beyoğlu / Kocatepe Mah.'\n",
      " 'İstanbul / Ataşehir / Esatpaşa Mah.'\n",
      " 'İstanbul / Küçükçekmece / Söğütlü Çeşme Mah.'\n",
      " 'İstanbul / Avcılar / Firuzköy Mah.' 'İstanbul / Üsküdar / Selimiye Mah.'\n",
      " 'İstanbul / Üsküdar / Güzeltepe Mah.'\n",
      " 'İstanbul / Beyoğlu / Örnektepe Mah.'\n",
      " 'İstanbul / Sultanbeyli / Mimar Sinan Mah.'\n",
      " 'İstanbul / Esenyurt / Orhan Gazi Mah.'\n",
      " 'İstanbul / Üsküdar / Kuleli Mah.'\n",
      " 'İstanbul / Bağcılar / Yenimahalle Mah.'\n",
      " 'İstanbul / Pendik / Harmandere Mah.'\n",
      " 'İstanbul / Güngören / Mehmet Nesih Özmen Mah.'\n",
      " 'İstanbul / Çekmeköy / Aydınlar Mah.' 'İstanbul / Kadıköy / Eğitim Mah.'\n",
      " 'İstanbul / Üsküdar / Küçüksu Mah.' 'İstanbul / Beykoz / Kavacık Mah.'\n",
      " 'İstanbul / Sarıyer / Fatih Sultan Mehmet Mah.'\n",
      " 'İstanbul / Eyüpsultan / Emniyettepe Mah.'\n",
      " 'İstanbul / Eyüpsultan / İslambey Mah.'\n",
      " 'İstanbul / Bağcılar / Bağlar Mah.'\n",
      " 'İstanbul / Eyüpsultan / Güzeltepe Mah.'\n",
      " 'İstanbul / Sarıyer / Baltalimanı Mah.'\n",
      " 'İstanbul / Kartal / Uğur Mumcu Mah.' 'İstanbul / Beyoğlu / Bülbül Mah.'\n",
      " 'İstanbul / Beyoğlu / Emekyemez Mah.'\n",
      " 'İstanbul / Eyüpsultan / Rami Cuma Mah.'\n",
      " 'İstanbul / Sarıyer / Bahçeköy Merkez Mah.'\n",
      " 'İstanbul / Esenyurt / Selahaddin Eyyubi Mah.'\n",
      " 'İstanbul / Beykoz / İncirköy Mah.'\n",
      " 'İstanbul / Maltepe / Büyükbakkalköy Mah.'\n",
      " 'İstanbul / Esenler / Kazım Karabekir Mah.'\n",
      " 'İstanbul / Bağcılar / Kazım Karabekir Mah.'\n",
      " 'İstanbul / Beyoğlu / Kamer Hatun Mah.'\n",
      " 'İstanbul / Büyükçekmece / Celaliye Mah.'\n",
      " 'İstanbul / Pendik / Ahmet Yesevi Mah.'\n",
      " 'İstanbul / Sultanbeyli / Yavuz Selim Mah.'\n",
      " 'İstanbul / Büyükçekmece / Kamiloba Mah.'\n",
      " 'İstanbul / Fatih / Zeyrek Mah.' 'İstanbul / Ataşehir / Mimar Sinan Mah.'\n",
      " 'İstanbul / Bağcılar / 15 Temmuz Mah.'\n",
      " 'İstanbul / Fatih / Ali Kuşçu Mah.'\n",
      " 'İstanbul / Esenler / Fevzi Çakmak Mah.'\n",
      " 'İstanbul / Şişli / Halaskargazi Mah.'\n",
      " 'İstanbul / Eyüpsultan / Akşemsettin Mah.'\n",
      " 'İstanbul / Gaziosmanpaşa / Şemsipaşa Mah.'\n",
      " 'İstanbul / Fatih / Saraç İshak Mah.'\n",
      " 'İstanbul / Başakşehir / Altınşehir Mah.'\n",
      " 'İstanbul / Beyoğlu / Camiikebir Mah.'\n",
      " 'İstanbul / Çekmeköy / Soğukpınar Mah.'\n",
      " 'İstanbul / Büyükçekmece / Kumburgaz Mah.'\n",
      " 'İstanbul / Ümraniye / Tepeüstü Mah.'\n",
      " 'İstanbul / Gaziosmanpaşa / Mevlana Mah.'\n",
      " 'İstanbul / Esenler / Birlik Mah.' 'İstanbul / Küçükçekmece / Fatih Mah.'\n",
      " 'İstanbul / Eyüpsultan / Düğmeciler Mah.'\n",
      " 'İstanbul / Fatih / Akşemsettin Mah.' 'İstanbul / Beykoz / Fatih Mah.'\n",
      " 'İstanbul / Şile / Ahmetli Mah.' 'İstanbul / Güngören / Akıncılar Mah.'\n",
      " 'İstanbul / Ümraniye / Aşağı Dudullu Mah.'\n",
      " 'İstanbul / Sarıyer / Gümüşdere Mah.' 'İstanbul / Silivri / Ortaköy Mah.'\n",
      " 'İstanbul / Beyoğlu / Müeyyetzade Mah.'\n",
      " 'İstanbul / Zeytinburnu / Merkezefendi Mah.'\n",
      " 'İstanbul / Silivri / Piri Mehmet Paşa Mah.'\n",
      " 'İstanbul / Esenyurt / Turgut Özal Mah.'\n",
      " 'İstanbul / Silivri / Gümüşyaka Mah.'\n",
      " 'İstanbul / Pendik / Çınardere Mah.' 'İstanbul / Esenyurt / Akevler Mah.'\n",
      " 'İstanbul / Bağcılar / Yenigün Mah.'\n",
      " 'İstanbul / Küçükçekmece / Kanarya Mah.'\n",
      " 'İstanbul / Çekmeköy / Alemdağ Mah.' 'İstanbul / Şişli / İzzet Paşa Mah.'\n",
      " 'İstanbul / Gaziosmanpaşa / Barbaros Hayrettinpaşa Mah.'\n",
      " 'İstanbul / Sancaktepe / Mevlana Mah.' 'İstanbul / Tuzla / Şifa Mah.'\n",
      " 'İstanbul / Güngören / Güneştepe Mah.'\n",
      " 'İstanbul / Beyoğlu / Hüseyinağa Mah.'\n",
      " 'İstanbul / Zeytinburnu / Veliefendi Mah.'\n",
      " 'İstanbul / Fatih / Mimar Hayrettin Mah.'\n",
      " 'İstanbul / Sancaktepe / Osmangazi Mah.'\n",
      " 'İstanbul / Esenyurt / Akşemseddin Mah.'\n",
      " 'İstanbul / Beyoğlu / Arap Cami Mah.'\n",
      " 'İstanbul / Başakşehir / Başak Mah.'\n",
      " 'İstanbul / Beykoz / Rüzgarlıbahçe Mah.'\n",
      " 'İstanbul / Büyükçekmece / 19 Mayıs Mah.'\n",
      " 'İstanbul / Arnavutköy / Arnavutköy Merkez Mah.'\n",
      " 'İstanbul / Ümraniye / Dumlupınar Mah.'\n",
      " 'İstanbul / Büyükçekmece / Alkent 2000 Mah.'\n",
      " 'İstanbul / Bağcılar / Güneşli Mah.'\n",
      " 'İstanbul / Bağcılar / Kemalpaşa Mah.'\n",
      " 'İstanbul / Sultangazi / 75. Yıl Mah.'\n",
      " 'İstanbul / Fatih / Yavuz Sultan Selim Mah.'\n",
      " 'İstanbul / Kartal / Yunus Mah.' 'İstanbul / Ümraniye / Esenşehir Mah.'\n",
      " 'İstanbul / Bağcılar / Yavuz Selim Mah.' 'İstanbul / Pendik / Batı Mah.'\n",
      " 'İstanbul / Silivri / Alipaşa Mah.'\n",
      " 'İstanbul / Sultanbeyli / Mehmet Akif Mah.'\n",
      " 'İstanbul / Sultangazi / Yayla Mah.' 'İstanbul / Beylikdüzü / Sahil Mah.'\n",
      " 'İstanbul / Beyoğlu / Halıcıoğlu Mah.' 'İstanbul / Tuzla / Mescit Mah.'\n",
      " 'İstanbul / Sultangazi / 50. Yıl Mah.'\n",
      " 'İstanbul / Pendik / Sapan Bağları Mah.'\n",
      " 'İstanbul / Beyoğlu / Kulaksız Mah.' 'İstanbul / Esenyurt / Atatürk Mah.'\n",
      " 'İstanbul / Çekmeköy / Taşdelen Mah.'\n",
      " 'İstanbul / Kadıköy / Koşuyolu Mah.' 'İstanbul / Beykoz / Göksu Mah.'\n",
      " 'İstanbul / Fatih / Emin Sinan Mah.'\n",
      " 'İstanbul / Ümraniye / Esenkent Mah.' 'İstanbul / Beykoz / Merkez Mah.'\n",
      " 'İstanbul / Silivri / Sancaktepe Mah.'\n",
      " 'İstanbul / Arnavutköy / Karlıbayır Mah.'\n",
      " 'İstanbul / Arnavutköy / Mavigöl Mah.'\n",
      " 'İstanbul / Büyükçekmece / Çakmaklı Mah.'\n",
      " 'İstanbul / Üsküdar / Burhaniye Mah.'\n",
      " 'İstanbul / Ümraniye / Elmalıkent Mah.'\n",
      " 'İstanbul / Gaziosmanpaşa / Fevzi Çakmak Mah.'\n",
      " 'İstanbul / Beykoz / Yalıköy Mah.'\n",
      " 'İstanbul / Arnavutköy / Yunus Emre Mah.'\n",
      " 'İstanbul / Esenyurt / Necip Fazıl Kısakürek Mah.'\n",
      " 'İstanbul / Sultangazi / Sultançiftliği Mah.'\n",
      " 'İstanbul / Bayrampaşa / İsmet Paşa Mah.'\n",
      " 'İstanbul / Ümraniye / Adem Yavuz Mah.'\n",
      " 'İstanbul / Ataşehir / Ferhatpaşa Mah.'\n",
      " 'İstanbul / Bakırköy / Ataköy 2-5-6. Kısım Mah.'\n",
      " 'İstanbul / Fatih / İskenderpaşa Mah.'\n",
      " 'İstanbul / Pendik / Kavakpınar Mah.' 'İstanbul / Pendik / Yayalar Mah.'\n",
      " 'İstanbul / Üsküdar / Küplüce Mah.'\n",
      " 'İstanbul / Bayrampaşa / Kocatepe Mah.'\n",
      " 'İstanbul / Bayrampaşa / Cevatpaşa Mah.'\n",
      " 'İstanbul / Arnavutköy / Anadolu Mah.'\n",
      " 'İstanbul / Bakırköy / Zeytinlik Mah.' 'İstanbul / Beykoz / Öğümce Mah.'\n",
      " 'İstanbul / Şile / Değirmençayırı Mah.' 'İstanbul / Esenler / Kemer Mah.'\n",
      " 'İstanbul / Sarıyer / Bahçeköy Yeni Mah.'\n",
      " 'İstanbul / Sultanbeyli / Ahmet Yesevi Mah.'\n",
      " 'İstanbul / Büyükçekmece / Dizdariye Mah.'\n",
      " 'İstanbul / Beykoz / İshaklı Mah.' 'İstanbul / Ümraniye / Site Mah.'\n",
      " 'İstanbul / Silivri / Fener Mah.' 'İstanbul / Beyoğlu / Bostan Mah.'\n",
      " 'İstanbul / Fatih / Molla Fenari Mah.'\n",
      " 'İstanbul / Eyüpsultan / Topçular Mah.'\n",
      " 'İstanbul / Gaziosmanpaşa / Pazariçi Mah.'\n",
      " 'İstanbul / Başakşehir / Şamlar Mah.' 'İstanbul / Kartal / Orta Mah.'\n",
      " 'İstanbul / Şile / Meşrutiyet Mah.' 'İstanbul / Beyoğlu / Piri Paşa Mah.'\n",
      " 'İstanbul / Adalar / Kınalıada Mah.'\n",
      " 'İstanbul / Sancaktepe / Atatürk Mah.'\n",
      " 'İstanbul / Ataşehir / Yeni Çamlıca Mah.'\n",
      " 'İstanbul / Bağcılar / Barbaros Mah.'\n",
      " 'İstanbul / Arnavutköy / Boyalık Mah.'\n",
      " 'İstanbul / Arnavutköy / Mareşal Fevzi Çakmak Mah.'\n",
      " 'İstanbul / Büyükçekmece / Karaağaç Mah.'\n",
      " 'İstanbul / Beykoz / Çengeldere Mah.'\n",
      " 'İstanbul / Esenyurt / Battalgazi Mah.'\n",
      " 'İstanbul / Esenler / Turgut Reis Mah.'\n",
      " 'İstanbul / Arnavutköy / Atatürk Mah.' 'İstanbul / Beykoz / Elmalı Mah.'\n",
      " 'İstanbul / Beykoz / Yavuz Selim Mah.'\n",
      " 'İstanbul / Ümraniye / Şerifali Mah.' 'İstanbul / Sarıyer / Yeni Mah.'\n",
      " 'İstanbul / Ataşehir / Yenişehir Mah.'\n",
      " 'İstanbul / Ümraniye / Tantavi Mah.'\n",
      " 'İstanbul / Beyoğlu / Yahya Kahya Mah.'\n",
      " 'İstanbul / Beyoğlu / Piyalepaşa Mah.'\n",
      " 'İstanbul / Sultanbeyli / Fatih Mah.'\n",
      " 'İstanbul / Esenyurt / Yenikent Mah.'\n",
      " 'İstanbul / Beyoğlu / Bereketzade Mah.'\n",
      " 'İstanbul / Eyüpsultan / Rami Yeni Mah.'\n",
      " 'İstanbul / Arnavutköy / Hastane Mah.'\n",
      " 'İstanbul / Bakırköy / Ataköy 1. Kısım Mah.'\n",
      " 'İstanbul / Esenler / Çifte Havuzlar Mah.'\n",
      " 'İstanbul / Sultangazi / İsmetpaşa Mah.'\n",
      " 'İstanbul / Bağcılar / Sancaktepe Mah.' 'İstanbul / Şile / Yeniköy Mah.'\n",
      " 'İstanbul / Zeytinburnu / Gökalp Mah.'\n",
      " 'İstanbul / Şişli / Mahmut Şevket Paşa Mah.'\n",
      " 'İstanbul / Beyoğlu / Küçük Piyale Mah.'\n",
      " 'İstanbul / Ataşehir / Mevlana Mah.'\n",
      " 'İstanbul / Arnavutköy / Taşoluk Mah.'\n",
      " 'İstanbul / Esenler / Havaalanı Mah.' 'İstanbul / Şile / Akçakese Mah.'\n",
      " 'İstanbul / Silivri / Fatih Mah.' 'İstanbul / Beyoğlu / Bedrettin Mah.'\n",
      " 'İstanbul / Sultangazi / Cebeci Mah.'\n",
      " 'İstanbul / Ümraniye / Ihlamurkuyu Mah.'\n",
      " 'İstanbul / Beykoz / Mahmutşevketpaşa Mah.'\n",
      " 'İstanbul / Şile / İsaköy Mah.' 'İstanbul / Beykoz / Baklacı Mah.'\n",
      " 'İstanbul / Çekmeköy / Reşadiye Mah.'\n",
      " 'İstanbul / Esenyurt / Namık Kemal Mah.' 'İstanbul / Şile / Kızılca Mah.'\n",
      " 'İstanbul / Tuzla / Orta Mah.'\n",
      " 'İstanbul / Kağıthane / Mehmet Akif Ersoy Mah.'\n",
      " 'İstanbul / Çatalca / Ferhatpaşa Mah.'\n",
      " 'İstanbul / Arnavutköy / Bolluca Mah.'\n",
      " 'İstanbul / Ümraniye / Topağacı Mah.' 'İstanbul / Şile / Kumbaba Mah.'\n",
      " 'İstanbul / Silivri / Büyük Çavuşlu Mah.'\n",
      " 'İstanbul / Arnavutköy / Deliklikaya Mah.'\n",
      " 'İstanbul / Esenyurt / Esenkent Mah.' 'İstanbul / Çatalca / Kabakça Mah.'\n",
      " 'İstanbul / Eyüpsultan / Sakarya Mah.'\n",
      " 'İstanbul / Ataşehir / Yeni Sahra Mah.'\n",
      " 'İstanbul / Sultangazi / Eski Habipler Mah.'\n",
      " 'İstanbul / Fatih / Cankurtaran Mah.' 'İstanbul / Esenler / Tuna Mah.'\n",
      " 'İstanbul / Silivri / Kadıköy Mah.' 'İstanbul / Şile / Sofular Mah.'\n",
      " 'İstanbul / Esenler / 15 Temmuz Mah.' 'İstanbul / Güngören / Sanayi Mah.'\n",
      " 'İstanbul / Arnavutköy / Yassıören Mah.'\n",
      " 'İstanbul / Sultanbeyli / Hamidiye Mah.'\n",
      " 'İstanbul / Çekmeköy / Ömerli Mah.' 'İstanbul / Bayrampaşa / Vatan Mah.'\n",
      " 'İstanbul / Arnavutköy / Çilingir Mah.'\n",
      " 'İstanbul / Arnavutköy / Mustafa Kemal Paşa Mah.'\n",
      " 'İstanbul / Büyükçekmece / Bahçelievler Mah.'\n",
      " 'İstanbul / Beykoz / Dereseki Mah.' 'İstanbul / Silivri / Çeltik Mah.'\n",
      " 'İstanbul / Sarıyer / Çayırbaşı Mah.' 'İstanbul / Şile / İmrendere Mah.'\n",
      " 'İstanbul / Fatih / Sultan Ahmet Mah.' 'İstanbul / Tuzla / İçmeler Mah.'\n",
      " 'İstanbul / Ataşehir / Aşıkveysel Mah.']\n"
     ]
    }
   ],
   "source": [
    "print(df['list-view-location'].unique())"
   ]
  },
  {
   "cell_type": "code",
   "execution_count": 10,
   "id": "d954952d",
   "metadata": {},
   "outputs": [],
   "source": [
    "df['location'] = df['list-view-location'].str.split('/').str[0] #şehri seçer \n",
    "df['districk'] = df['list-view-location'].str.split('/').str[1] #ilçe seçer\n",
    "df['neighborhood'] = df['list-view-location'].str.split('/').str[2] #mahalle seçer"
   ]
  },
  {
   "cell_type": "code",
   "execution_count": 11,
   "id": "a77efc91",
   "metadata": {},
   "outputs": [
    {
     "name": "stdout",
     "output_type": "stream",
     "text": [
      "[' Sarıyer ' ' Üsküdar ' ' Kadıköy ' ' Beykoz ' ' Şişli ' ' Başakşehir '\n",
      " ' Ümraniye ' ' Bahçelievler ' ' Adalar ' ' Beşiktaş ' ' Beyoğlu '\n",
      " ' Bakırköy ' ' Fatih ' ' Bağcılar ' ' Tuzla ' ' Maltepe ' ' Bayrampaşa '\n",
      " ' Küçükçekmece ' ' Gaziosmanpaşa ' ' Esenyurt ' ' Kartal ' ' Silivri '\n",
      " ' Kağıthane ' ' Pendik ' ' Beylikdüzü ' ' Avcılar ' ' Ataşehir '\n",
      " ' Eyüpsultan ' ' Sancaktepe ' ' Güngören ' ' Büyükçekmece '\n",
      " ' Arnavutköy ' ' Çekmeköy ' ' Sultanbeyli ' ' Esenler ' ' Zeytinburnu '\n",
      " ' Şile ' ' Sultangazi ' ' Çatalca ']\n"
     ]
    }
   ],
   "source": [
    "print(df['districk'].unique())"
   ]
  },
  {
   "cell_type": "code",
   "execution_count": 12,
   "id": "de97d0fb",
   "metadata": {},
   "outputs": [],
   "source": [
    "drop_columns(df, ['list-view-location'])"
   ]
  },
  {
   "cell_type": "code",
   "execution_count": 13,
   "id": "fd24cef2",
   "metadata": {},
   "outputs": [
    {
     "name": "stdout",
     "output_type": "stream",
     "text": [
      "       location        districk              neighborhood\n",
      "1351  İstanbul           Fatih           Mevlanakapı Mah.\n",
      "947   İstanbul            Şile                 Çavuş Mah.\n",
      "8286  İstanbul        Beşiktaş                 Bebek Mah.\n",
      "4783  İstanbul         Sarıyer            Kireçburnu Mah.\n",
      "8112  İstanbul      Beylikdüzü               Kavaklı Mah.\n",
      "2989  İstanbul         Avcılar               Ambarlı Mah.\n",
      "9076  İstanbul    Küçükçekmece               Atatürk Mah.\n",
      "2335  İstanbul           Şişli            Cumhuriyet Mah.\n",
      "7422  İstanbul           Şişli    Halide Edip Adıvar Mah.\n",
      "2112  İstanbul    Bahçelievler          Fevzi Çakmak Mah.\n"
     ]
    }
   ],
   "source": [
    "print(df[['location', 'districk', 'neighborhood']].sample(10))"
   ]
  },
  {
   "cell_type": "code",
   "execution_count": 14,
   "id": "84554a8d",
   "metadata": {},
   "outputs": [
    {
     "name": "stdout",
     "output_type": "stream",
     "text": [
      "Index(['list-view-price', 'left', 'celly', 'celly 2', 'celly 3', 'celly 4',\n",
      "       'location', 'districk', 'neighborhood'],\n",
      "      dtype='object')\n"
     ]
    }
   ],
   "source": [
    "print(df.columns)"
   ]
  },
  {
   "cell_type": "code",
   "execution_count": 15,
   "id": "3194e0ac",
   "metadata": {},
   "outputs": [
    {
     "name": "stdout",
     "output_type": "stream",
     "text": [
      "['2 +\\n                          1' '3 +\\n                          1'\n",
      " '4 +\\n                          1' '1 +\\n                          1'\n",
      " '7 +\\n                          2' '5 +\\n                          2'\n",
      " 'Stüdyo' '4 +\\n                          2'\n",
      " '5 +\\n                          1' '6 +\\n                          1'\n",
      " '6 +\\n                          2' '3 +\\n                          2'\n",
      " '2 +\\n                          2' '3 +\\n                          5'\n",
      " '2 +\\n                          0' '7 +\\n                          3'\n",
      " '3 +\\n                          0' '4 +\\n                          0'\n",
      " '23 +\\n                          1' '1 +\\n                          123'\n",
      " '3 +\\n                          11' '2 +\\n                          10'\n",
      " '3 +\\n                          4' '5 +\\n                          3'\n",
      " '1 +\\n                          2' '9 +\\n                          1'\n",
      " '3 +\\n                          3' '7 +\\n                          1'\n",
      " '65 +\\n                          60' '2 +\\n                          7'\n",
      " '9 +\\n                          2' '21 +\\n                          0'\n",
      " '7 +\\n                          7' '11 +\\n                          3'\n",
      " '12 +\\n                          12' '1 +\\n                          363'\n",
      " '5 +\\n                          0' '5 +\\n                          6'\n",
      " '1 +\\n                          965' '1 +\\n                          10'\n",
      " '14 +\\n                          1' '11 +\\n                          1'\n",
      " '12 +\\n                          3' '14 +\\n                          3'\n",
      " '9 +\\n                          5' '1 +\\n                          223'\n",
      " '12 +\\n                          1' '22 +\\n                          1'\n",
      " '4 +\\n                          4' '6 +\\n                          3'\n",
      " '12 +\\n                          4' '8 +\\n                          2'\n",
      " '1 +\\n                          3' '8 +\\n                          1'\n",
      " '8 +\\n                          3' '1 +\\n                          11'\n",
      " '7 +\\n                          0' '5 +\\n                          5'\n",
      " '9 +\\n                          3' '21 +\\n                          1'\n",
      " '62 +\\n                          1' '3 +\\n                          10'\n",
      " '10 +\\n                          2' '8 +\\n                          0'\n",
      " '20 +\\n                          1' '10 +\\n                          1'\n",
      " '10 +\\n                          0' '4 +\\n                          3'\n",
      " '32 +\\n                          2' '12 +\\n                          2']\n"
     ]
    }
   ],
   "source": [
    "print(df['celly'].unique())"
   ]
  },
  {
   "cell_type": "code",
   "execution_count": 16,
   "id": "b8a551f0",
   "metadata": {},
   "outputs": [],
   "source": [
    "df['celly'] = df['celly'].apply(lambda x: x.replace('Stüdyo', '1 + 0'))\n",
    "df['celly'] = df['celly'].apply(lambda x: x.replace('\\n', ''))\n",
    "df['room'] = df['celly'].apply(lambda x: x.split('+')[0]).astype(int)\n",
    "df['living_room'] = df['celly'].apply(lambda x: x.split('+')[1]).astype(int)"
   ]
  },
  {
   "cell_type": "code",
   "execution_count": 17,
   "id": "0b577846",
   "metadata": {},
   "outputs": [
    {
     "name": "stdout",
     "output_type": "stream",
     "text": [
      "[  1   2   0   5   3 123  11  10   4  60   7  12 363   6 965 223]\n"
     ]
    }
   ],
   "source": [
    "print(df['living_room'].unique())"
   ]
  },
  {
   "cell_type": "code",
   "execution_count": 18,
   "id": "81e394bb",
   "metadata": {},
   "outputs": [],
   "source": [
    "drop_columns(df, ['celly']) #cwllynin kopyasını kaydettik o yuzden celly düşüyor"
   ]
  },
  {
   "cell_type": "code",
   "execution_count": 19,
   "id": "170a4a47",
   "metadata": {},
   "outputs": [
    {
     "name": "stdout",
     "output_type": "stream",
     "text": [
      "['100 m²' '80 m²' '110 m²' '130 m²' '160 m²' '300 m²' '90 m²' '75 m²'\n",
      " '85 m²' '51 m²' '140 m²' '350 m²' '200 m²' '70 m²' '145 m²' '180 m²'\n",
      " '50 m²' '81 m²' '212 m²' '388 m²' '220 m²' '260 m²' '65 m²' '35 m²'\n",
      " '205 m²' '120 m²' '95 m²' '175 m²' '127 m²' '78 m²' '147 m²' '55 m²'\n",
      " '135 m²' '367 m²' '115 m²' '280 m²' '86 m²' '25 m²' '106 m²' '240 m²'\n",
      " '125 m²' '58 m²' '165 m²' '93 m²' '148 m²' '170 m²' '72 m²' '82 m²'\n",
      " '150 m²' '57 m²' '270 m²' '44 m²' '126 m²' '63 m²' '190 m²' '578 m²'\n",
      " '320 m²' '105 m²' '60 m²' '92 m²' '195 m²' '107 m²' '400 m²' '71 m²'\n",
      " '500 m²' '45 m²' '68 m²' '79 m²' '217 m²' '73 m²' '88 m²' '450 m²'\n",
      " '117 m²' '89 m²' '185 m²' '143 m²' '128 m²' '137 m²' '245 m²' '186 m²'\n",
      " '380 m²' '225 m²' '119 m²' '62 m²' '97 m²' '64 m²' '155 m²' '104 m²'\n",
      " '101 m²' '144 m²' '154 m²' '69 m²' '650 m²' '124 m²' '215 m²' '550 m²'\n",
      " '114 m²' '226 m²' '84 m²' '210 m²' '360 m²' '630 m²' '98 m²' '330 m²'\n",
      " '99 m²' '173 m²' '1.300 m²' '202 m²' '48 m²' '134 m²' '421 m²' '46 m²'\n",
      " '250 m²' '340 m²' '118 m²' '306 m²' '30 m²' '40 m²' '168 m²' '67 m²'\n",
      " '178 m²' '96 m²' '151 m²' '187 m²' '235 m²' '129 m²' '53 m²' '425 m²'\n",
      " '49 m²' '94 m²' '87 m²' '91 m²' '580 m²' '156 m²' '77 m²' '176 m²'\n",
      " '41 m²' '66 m²' '74 m²' '47 m²' '188 m²' '113 m²' '255 m²' '123 m²'\n",
      " '285 m²' '174 m²' '136 m²' '146 m²' '56 m²' '83 m²' '242 m²' '222 m²'\n",
      " '171 m²' '1.700 m²' '346 m²' '132 m²' '366 m²' '470 m²' '193 m²' '290 m²'\n",
      " '1.000 m²' '166 m²' '76 m²' '157 m²' '230 m²' '370 m²' '1.100 m²' '32 m²'\n",
      " '109 m²' '59 m²' '108 m²' '221 m²' '131 m²' '116 m²' '197 m²' '152 m²'\n",
      " '112 m²' '480 m²' '434 m²' '122 m²' '325 m²' '345 m²' '420 m²' '700 m²'\n",
      " '169 m²' '54 m²' '234 m²' '102 m²' '775 m²' '390 m²' '625 m²' '133 m²'\n",
      " '208 m²' '600 m²' '158 m²' '121 m²' '183 m²' '273 m²' '800 m²' '510 m²'\n",
      " '410 m²' '750 m²' '20 m²' '103 m²' '163 m²' '164 m²' '141 m²' '153 m²'\n",
      " '295 m²' '950 m²' '488 m²' '19 m²' '21 m²' '111 m²' '262 m²' '299 m²'\n",
      " '15 m²' '11.000 m²' '39 m²' '172 m²' '850 m²' '10 m²' '287 m²' '2 m²'\n",
      " '430 m²' '256 m²' '138 m²' '177 m²' '17 m²' '315 m²' '275 m²' '22 m²'\n",
      " '159 m²' '455 m²' '440 m²' '575 m²' '265 m²' '12 m²' '219 m²' '218 m²'\n",
      " '167 m²' '310 m²' '170.000 m²' '142 m²' '191 m²' '204 m²' '228 m²'\n",
      " '207 m²' '305 m²' '259 m²' '198 m²' '251 m²' '43 m²' '4.000 m²' '211 m²'\n",
      " '61 m²' '1.350 m²' '179 m²' '206 m²' '37 m²' '475 m²' '196 m²' '1.200 m²'\n",
      " '18 m²' '52 m²' '298 m²' '449 m²' '334 m²' '368 m²' '282 m²' '258 m²'\n",
      " '321 m²' '42 m²' '192 m²' '417 m²' '791 m²' '5.500 m²' '4.300 m²'\n",
      " '239 m²' '252 m²' '728 m²' '385 m²' '38 m²' '229 m²' '249 m²' '1.250 m²'\n",
      " '216 m²' '246 m²' '365 m²' '36 m²' '349 m²' '232 m²' '1.360 m²' '11 m²'\n",
      " '28 m²' '189 m²' '364 m²' '27 m²' '278 m²' '396 m²' '435 m²' '355 m²'\n",
      " '570 m²' '1.066 m²' '540 m²' '1.500 m²' '139 m²' '460 m²' '184 m²'\n",
      " '358 m²' '317 m²' '213 m²' '1.330 m²' '194 m²' '149 m²' '900 m²' '620 m²'\n",
      " '23 m²' '980 m²' '199 m²' '363 m²' '760 m²' '348 m²' '590 m²' '3.804 m²'\n",
      " '181 m²' '33 m²' '24 m²' '375 m²' '248 m²' '178.158 m²' '384 m²' '223 m²'\n",
      " '302 m²' '352 m²' '551 m²' '395 m²' '326 m²' '237 m²' '567 m²' '1.600 m²']\n"
     ]
    }
   ],
   "source": [
    "print(df['celly 2'].unique())"
   ]
  },
  {
   "cell_type": "code",
   "execution_count": 20,
   "id": "e9d3776b",
   "metadata": {},
   "outputs": [],
   "source": [
    "df['celly 2'] = df['celly 2'].apply(lambda x: x.replace('.', ''))\n",
    "df['area'] = df['celly 2'].apply(lambda x: x.split(' ')[0]).astype(int)"
   ]
  },
  {
   "cell_type": "code",
   "execution_count": 21,
   "id": "d2654402",
   "metadata": {},
   "outputs": [],
   "source": [
    "drop_columns(df, ['celly 2'])"
   ]
  },
  {
   "cell_type": "code",
   "execution_count": 22,
   "id": "2bb6dcbf",
   "metadata": {},
   "outputs": [
    {
     "name": "stdout",
     "output_type": "stream",
     "text": [
      "<class 'pandas.core.frame.DataFrame'>\n",
      "RangeIndex: 9997 entries, 0 to 9996\n",
      "Data columns (total 10 columns):\n",
      " #   Column           Non-Null Count  Dtype \n",
      "---  ------           --------------  ----- \n",
      " 0   list-view-price  9997 non-null   object\n",
      " 1   left             9997 non-null   object\n",
      " 2   celly 3          9994 non-null   object\n",
      " 3   celly 4          9609 non-null   object\n",
      " 4   location         9997 non-null   object\n",
      " 5   districk         9997 non-null   object\n",
      " 6   neighborhood     9997 non-null   object\n",
      " 7   room             9997 non-null   int32 \n",
      " 8   living_room      9997 non-null   int32 \n",
      " 9   area             9997 non-null   int32 \n",
      "dtypes: int32(3), object(7)\n",
      "memory usage: 664.0+ KB\n",
      "None\n"
     ]
    }
   ],
   "source": [
    "print(df.info())"
   ]
  },
  {
   "cell_type": "code",
   "execution_count": 23,
   "id": "f4d80159",
   "metadata": {},
   "outputs": [
    {
     "name": "stdout",
     "output_type": "stream",
     "text": [
      "CSV dosyası başarıyla kaydedildi.\n"
     ]
    }
   ],
   "source": [
    "# df isimli DataFrame'i CSV olarak kaydet\n",
    "df.to_csv(\"Temizleme1.csv\", index=False, encoding=\"utf-8\")\n",
    "\n",
    "print(\"CSV dosyası başarıyla kaydedildi.\")"
   ]
  },
  {
   "cell_type": "code",
   "execution_count": 24,
   "id": "c3b5b4d2",
   "metadata": {},
   "outputs": [
    {
     "name": "stdout",
     "output_type": "stream",
     "text": [
      "     list-view-price               left                              celly 3  \\\n",
      "0             41.000      Kiralık Daire                           Sıfır Bina   \n",
      "1             32.000      Kiralık Daire  45\\n                        Yaşında   \n",
      "2             47.000      Kiralık Daire   3\\n                        Yaşında   \n",
      "3             18.000      Kiralık Daire  25\\n                        Yaşında   \n",
      "4             50.000      Kiralık Daire  49\\n                        Yaşında   \n",
      "...              ...                ...                                  ...   \n",
      "9992         240.000  Kiralık Residence   5\\n                        Yaşında   \n",
      "9993         260.000  Kiralık Residence   2\\n                        Yaşında   \n",
      "9994         270.000  Kiralık Residence   5\\n                        Yaşında   \n",
      "9995         230.000  Kiralık Residence   5\\n                        Yaşında   \n",
      "9996         230.000  Kiralık Residence   6\\n                        Yaşında   \n",
      "\n",
      "      celly 4   location    districk              neighborhood  room  \\\n",
      "0      2. Kat  İstanbul     Sarıyer                 Huzur Mah.     2   \n",
      "1      2. Kat  İstanbul     Üsküdar    Aziz Mahmut Hüdayi Mah.     3   \n",
      "2      3. Kat  İstanbul     Kadıköy              Acıbadem Mah.     2   \n",
      "3      3. Kat  İstanbul      Beykoz               Göztepe Mah.     3   \n",
      "4      3. Kat  İstanbul     Sarıyer         Rumeli Kavağı Mah.     4   \n",
      "...       ...        ...         ...                       ...   ...   \n",
      "9992  17. Kat  İstanbul    Beşiktaş               Levazım Mah.     1   \n",
      "9993  11. Kat  İstanbul    Beşiktaş               Levazım Mah.     2   \n",
      "9994   7. Kat  İstanbul    Beşiktaş               Levazım Mah.     2   \n",
      "9995   3. Kat  İstanbul    Beşiktaş               Levazım Mah.     1   \n",
      "9996   7. Kat  İstanbul    Beşiktaş               Levazım Mah.     2   \n",
      "\n",
      "      living_room  area  age  \n",
      "0               1   100    1  \n",
      "1               1    80   45  \n",
      "2               1   110    3  \n",
      "3               1   130   25  \n",
      "4               1   160   49  \n",
      "...           ...   ...  ...  \n",
      "9992            1   170    5  \n",
      "9993            1   190    2  \n",
      "9994            1   170    5  \n",
      "9995            1   200    5  \n",
      "9996            1   169    6  \n",
      "\n",
      "[9997 rows x 11 columns]\n"
     ]
    }
   ],
   "source": [
    "# NaN değerleri boş string (\"\") ile değiştir\n",
    "df['celly 3'] = df['celly 3'].fillna('')\n",
    "\n",
    "# İlk kelimeyi al ve sayıya çevir, hata olursa NaN yap\n",
    "df['age'] = pd.to_numeric(df['celly 3'].str.extract(r'(\\d+)')[0], errors='coerce')\n",
    "\n",
    "# NaN olan değerleri 1 ile değiştir ve tam sayıya çevir\n",
    "df['age'] = df['age'].fillna(1).astype(int)\n",
    "\n",
    "print(df)"
   ]
  },
  {
   "cell_type": "code",
   "execution_count": 25,
   "id": "2eba23e3",
   "metadata": {},
   "outputs": [],
   "source": [
    "drop_columns(df, ['celly 3'])"
   ]
  },
  {
   "cell_type": "code",
   "execution_count": 26,
   "id": "a7b294fd",
   "metadata": {},
   "outputs": [
    {
     "name": "stdout",
     "output_type": "stream",
     "text": [
      "<class 'pandas.core.frame.DataFrame'>\n",
      "RangeIndex: 9997 entries, 0 to 9996\n",
      "Data columns (total 10 columns):\n",
      " #   Column           Non-Null Count  Dtype \n",
      "---  ------           --------------  ----- \n",
      " 0   list-view-price  9997 non-null   object\n",
      " 1   left             9997 non-null   object\n",
      " 2   celly 4          9609 non-null   object\n",
      " 3   location         9997 non-null   object\n",
      " 4   districk         9997 non-null   object\n",
      " 5   neighborhood     9997 non-null   object\n",
      " 6   room             9997 non-null   int32 \n",
      " 7   living_room      9997 non-null   int32 \n",
      " 8   area             9997 non-null   int32 \n",
      " 9   age              9997 non-null   int32 \n",
      "dtypes: int32(4), object(6)\n",
      "memory usage: 624.9+ KB\n",
      "None\n"
     ]
    }
   ],
   "source": [
    "print(df.info())"
   ]
  },
  {
   "cell_type": "code",
   "execution_count": 27,
   "id": "b51e7e2c",
   "metadata": {},
   "outputs": [
    {
     "name": "stdout",
     "output_type": "stream",
     "text": [
      "['2. Kat' '3. Kat' 'En Üst Kat' '8. Kat' '10. Kat' '7. Kat' '13. Kat'\n",
      " '21 ve üzeri' '1. Kat' nan 'Ara Kat' 'Bahçe Katı' 'Yüksek Giriş' '4. Kat'\n",
      " '6. Kat' '5. Kat' '12. Kat' 'Zemin' 'Çatı Katı' 'Giriş Katı' 'Bodrum'\n",
      " 'Kot 1' 'Kot 3' '15. Kat' '18. Kat' '9. Kat' 'Villa Katı' '16. Kat'\n",
      " 'Yarı Bodrum' 'Kot 2' '17. Kat' '14. Kat' 'Teras Katı' '11. Kat'\n",
      " '20. Kat' '19. Kat' 'Bodrum ve Zemin' 'Tripleks']\n"
     ]
    }
   ],
   "source": [
    "print(df['celly 4'].unique())"
   ]
  },
  {
   "cell_type": "code",
   "execution_count": 28,
   "id": "95036037",
   "metadata": {},
   "outputs": [
    {
     "name": "stdout",
     "output_type": "stream",
     "text": [
      "     list-view-price               left  celly 4   location    districk  \\\n",
      "0             41.000      Kiralık Daire   2. Kat  İstanbul     Sarıyer    \n",
      "1             32.000      Kiralık Daire   2. Kat  İstanbul     Üsküdar    \n",
      "2             47.000      Kiralık Daire   3. Kat  İstanbul     Kadıköy    \n",
      "3             18.000      Kiralık Daire   3. Kat  İstanbul      Beykoz    \n",
      "4             50.000      Kiralık Daire   3. Kat  İstanbul     Sarıyer    \n",
      "...              ...                ...      ...        ...         ...   \n",
      "9992         240.000  Kiralık Residence  17. Kat  İstanbul    Beşiktaş    \n",
      "9993         260.000  Kiralık Residence  11. Kat  İstanbul    Beşiktaş    \n",
      "9994         270.000  Kiralık Residence   7. Kat  İstanbul    Beşiktaş    \n",
      "9995         230.000  Kiralık Residence   3. Kat  İstanbul    Beşiktaş    \n",
      "9996         230.000  Kiralık Residence   7. Kat  İstanbul    Beşiktaş    \n",
      "\n",
      "                  neighborhood  room  living_room  area  age  floor  \n",
      "0                   Huzur Mah.     2            1   100    1      2  \n",
      "1      Aziz Mahmut Hüdayi Mah.     3            1    80   45      2  \n",
      "2                Acıbadem Mah.     2            1   110    3      3  \n",
      "3                 Göztepe Mah.     3            1   130   25      3  \n",
      "4           Rumeli Kavağı Mah.     4            1   160   49      3  \n",
      "...                        ...   ...          ...   ...  ...    ...  \n",
      "9992              Levazım Mah.     1            1   170    5     17  \n",
      "9993              Levazım Mah.     2            1   190    2     11  \n",
      "9994              Levazım Mah.     2            1   170    5      7  \n",
      "9995              Levazım Mah.     1            1   200    5      3  \n",
      "9996              Levazım Mah.     2            1   169    6      7  \n",
      "\n",
      "[9997 rows x 11 columns]\n"
     ]
    }
   ],
   "source": [
    "\n",
    "# Değer eşleştirme sözlüğü (replace_dict)\n",
    "replace_dict = {\n",
    "    'En Üst Kat': '5. Kat',\n",
    "    '21 ve üzeri': '21. Kat',\n",
    "    'Ara Kat': '3. Kat',\n",
    "    'Bahçe Katı': '1. Kat',\n",
    "    'Yüksek Giriş': '1. Kat',\n",
    "    'Zemin': '1. Kat',\n",
    "    'Çatı Katı': '3. Kat',\n",
    "    'Giriş Katı': '1. Kat',\n",
    "    'Bodrum': '-1. Kat',\n",
    "    'Kot 1': '-1. Kat',\n",
    "    'Kot 2': '-2. Kat',\n",
    "    'Kot 3': '-3. Kat',\n",
    "    'Teras Katı': '21. Kat',\n",
    "    'Bodrum ve Zemin': '-1. Kat',\n",
    "    'Tripleks': '3. Kat',\n",
    "    'Yarı Bodrum': '-1. Kat',\n",
    "    'Villa Katı': '3. Kat',\n",
    "}\n",
    "\n",
    "# Değerleri değiştir\n",
    "df['celly 4'] = df['celly 4'].replace(replace_dict)\n",
    "\n",
    "# NaN olan değerleri boş string ile değiştir\n",
    "df['celly 4'] = df['celly 4'].fillna('0. Kat')\n",
    "\n",
    "# İlk sayı değerini al ve int'e çevir\n",
    "df['floor'] = df['celly 4'].apply(lambda x: int(x.split('.')[0]) if isinstance(x, str) else 0)\n",
    "\n",
    "print(df)\n"
   ]
  },
  {
   "cell_type": "code",
   "execution_count": 29,
   "id": "39c51c67",
   "metadata": {},
   "outputs": [
    {
     "name": "stdout",
     "output_type": "stream",
     "text": [
      "[ 2  3  5  8 10  7 13 21  1  0  4  6 12 -1 -3 15 18  9 16 -2 17 14 11 20\n",
      " 19]\n"
     ]
    }
   ],
   "source": [
    "print(df['floor'].unique())"
   ]
  },
  {
   "cell_type": "code",
   "execution_count": 30,
   "id": "bd22d1b3",
   "metadata": {},
   "outputs": [],
   "source": [
    "drop_columns(df, ['celly 4'])"
   ]
  },
  {
   "cell_type": "code",
   "execution_count": 31,
   "id": "19c0aa73",
   "metadata": {},
   "outputs": [
    {
     "name": "stdout",
     "output_type": "stream",
     "text": [
      "<class 'pandas.core.frame.DataFrame'>\n",
      "RangeIndex: 9997 entries, 0 to 9996\n",
      "Data columns (total 10 columns):\n",
      " #   Column           Non-Null Count  Dtype \n",
      "---  ------           --------------  ----- \n",
      " 0   list-view-price  9997 non-null   object\n",
      " 1   left             9997 non-null   object\n",
      " 2   location         9997 non-null   object\n",
      " 3   districk         9997 non-null   object\n",
      " 4   neighborhood     9997 non-null   object\n",
      " 5   room             9997 non-null   int32 \n",
      " 6   living_room      9997 non-null   int32 \n",
      " 7   area             9997 non-null   int32 \n",
      " 8   age              9997 non-null   int32 \n",
      " 9   floor            9997 non-null   int64 \n",
      "dtypes: int32(4), int64(1), object(5)\n",
      "memory usage: 624.9+ KB\n",
      "None\n"
     ]
    }
   ],
   "source": [
    "print(df.info())"
   ]
  },
  {
   "cell_type": "code",
   "execution_count": 33,
   "id": "c27abb5f",
   "metadata": {},
   "outputs": [
    {
     "name": "stdout",
     "output_type": "stream",
     "text": [
      "CSV dosyası başarıyla kaydedildi.\n"
     ]
    }
   ],
   "source": [
    "# df isimli DataFrame'i CSV olarak kaydet\n",
    "df.to_csv(\"Temizleme2.csv\", index=False, encoding=\"utf-8\")\n",
    "\n",
    "print(\"CSV dosyası başarıyla kaydedildi.\")"
   ]
  },
  {
   "cell_type": "code",
   "execution_count": 34,
   "id": "70ba5e86",
   "metadata": {},
   "outputs": [
    {
     "name": "stdout",
     "output_type": "stream",
     "text": [
      "['41.000' '32.000' '47.000' '18.000' '50.000' '95.000' '125.000' '35.000'\n",
      " '25.000' '55.000' '70.000' '19.000' '180.000' '120.000' '34.999'\n",
      " '330.000' '80.000' '90.000' '34.000' '57.500' '75.000' '48.000' '165.000'\n",
      " '40.000' '110.000' '77.000' '115.000' '14.000' '17.500' '85.000' '22.000'\n",
      " '43.000' '16.500' '20.000' '23.000' '30.000' '100.000' '17.000' '38.000'\n",
      " '15.500' '26.000' '36.000' '28.000' '13.000' '10.000' '29.000' '11.000'\n",
      " '15.000' '42.500' '42.000' '29.500' '47.500' '33.000' '24.000' '19.500'\n",
      " '72.000' '24.500' '52.000' '32.500' '45.000' '25.250' '31.000' '51.000'\n",
      " '21.000' '285.000' '44.000' '400.000' '23.500' '365.000' '60.000'\n",
      " '680.000' '160.000' '16.750' '57.000' '46.000' '58.000' '130.000'\n",
      " '66.000' '13.500' '140.000' '390.000' '62.000' '20.500' '14.500' '12.000'\n",
      " '16.000' '12.500' '37.000' '27.500' '27.000' '135.000' '340.000' '37.500'\n",
      " '65.000' '220.000' '9.000' '25.500' '54.000' '22.500' '270.000' '372.750'\n",
      " '22.100' '59.000' '21.500' '18.500' '51.500' '8.500' '66.500' '26.500'\n",
      " '450.000' '30.500' '145.000' '61.000' '225.000' '8.000' '105.000'\n",
      " '49.000' '36.500' '39.000' '230.000' '72.500' '64.000' '59.500' '250.000'\n",
      " '84.000' '500.000' '49.500' '360.000' '150.000' '67.500' '53.000'\n",
      " '39.999' '200.000' '320.000' '52.500' '310.000' '155.000' '22.300'\n",
      " '87.500' '68.000' '807.000' '325.000' '18.200' '46.500' '415.000'\n",
      " '39.500' '300.000' '38.500' '205.000' '34.500' '33.500' '15.900'\n",
      " '215.000' '98.000' '240.000' '25.700' '290.000' '43.500' '28.900'\n",
      " '34.750' '79.000' '63.000' '280.000' '45.500' '170.000' '425.000'\n",
      " '635.000' '32.950' '29.800' '14.100' '56.500' '28.500' '39.800' '122.500'\n",
      " '6.500' '11.950' '35.500' '265.000' '7.500' '109.000' '158.000' '385.000'\n",
      " '185.000' '75.500' '350.000' '550.000' '19.750' '210.000' '78.000'\n",
      " '18.750' '590.000' '650.000' '46.750' '92.500' '67.000' '74.000' '13.750'\n",
      " '49.999' '69.000' '435.000' '48.500' '91.000' '595.000' '82.500'\n",
      " '260.000' '540.000' '99.000' '232.500' '24.750' '33.300' '83.000'\n",
      " '275.000' '71.000' '9.500' '40.500' '190.000' '82.000' '636.000' '4.000'\n",
      " '55.500' '750.000' '11.999' '262.500' '15.100' '16.900' '89.000' '49.250'\n",
      " '31.500' '420.000' '73.000' '345.000' '175.000' '29.750' '11.500'\n",
      " '21.100' '56.000' '23.250' '27.750' '20.800' '700.000' '45.400' '6.000'\n",
      " '5.000' '13.600' '41.500' '7.000' '76.000' '2.600.000' '600.000' '92.000'\n",
      " '47.750' '20.900' '166.000' '32.900' '18.900' '17.050' '525.000'\n",
      " '315.000' '22.650' '10.500' '39.750' '62.500' '5.350' '700' '245.000'\n",
      " '177.000' '195.000' '79.999' '29.999' '19.200' '3.400.000' '53.600'\n",
      " '20.200' '4.490.000' '119.000' '410.000' '235.000' '20.750' '97.500'\n",
      " '118.000' '137.000' '41.750' '29.950' '375.000' '9.999' '615.000'\n",
      " '133.000' '21.250' '42.200' '456.000' '575.000' '11.111' '93.000'\n",
      " '44.900' '37.750' '275.200' '25.900' '28.750' '27.950' '1.850.000'\n",
      " '19.499' '5.000.000' '15.750' '800.000' '39.900' '69.999' '44.995'\n",
      " '2.500' '4.800' '22.450' '24.250' '2.250.000' '39.200' '33.750' '20.100'\n",
      " '122.000' '3.999' '61.500' '380.000' '1.500.000' '35.200' '48.750'\n",
      " '2.450.000' '89.995' '16.250' '25.750' '334.000' '204.000' '2.000.000'\n",
      " '21.400' '5.500' '2.500.000' '17.250' '44.500' '9.950' '18.250' '348.000'\n",
      " '256.000' '14.999' '4.750' '33.950' '74.990' '480.000' '127.000' '35.100'\n",
      " '117.000' '47.999' '4.450' '2.350.000' '850.000' '24.150' '20.250'\n",
      " '13.800' '57.250' '24.999' '470.000' '26.250' '19.950' '578.000' '19.250'\n",
      " '23.000.000' '250.002' '520.000' '88.000' '22.950' '74.999' '12.400'\n",
      " '107.500' '14.900' '490.000' '3.000' '440.000' '11.200' '4.500' '36.999'\n",
      " '1.800.000' '500' '675.000' '112.000' '19.800' '59.999' '22.200'\n",
      " '560.000' '465.000' '12.900' '255.000' '96.000' '295.000' '335.000'\n",
      " '63.500' '241.000' '430.000' '630.000' '495.000' '238.000' '580.000'\n",
      " '192.000' '268.000' '113.000' '4.200.000']\n"
     ]
    }
   ],
   "source": [
    "print(df['list-view-price'].unique())"
   ]
  },
  {
   "cell_type": "code",
   "execution_count": 35,
   "id": "2b823439",
   "metadata": {},
   "outputs": [],
   "source": [
    "df['list-view-price'] = df['list-view-price'].astype(str).apply(lambda x: x.replace('.', ''))\n",
    "df['price'] = df['list-view-price'].astype(int)"
   ]
  },
  {
   "cell_type": "code",
   "execution_count": 36,
   "id": "597240f9",
   "metadata": {},
   "outputs": [],
   "source": [
    "drop_columns(df, ['list-view-price'])"
   ]
  },
  {
   "cell_type": "code",
   "execution_count": 37,
   "id": "635f83bd",
   "metadata": {},
   "outputs": [
    {
     "name": "stdout",
     "output_type": "stream",
     "text": [
      "[   41000    32000    47000    18000    50000    95000   125000    35000\n",
      "    25000    55000    70000    19000   180000   120000    34999   330000\n",
      "    80000    90000    34000    57500    75000    48000   165000    40000\n",
      "   110000    77000   115000    14000    17500    85000    22000    43000\n",
      "    16500    20000    23000    30000   100000    17000    38000    15500\n",
      "    26000    36000    28000    13000    10000    29000    11000    15000\n",
      "    42500    42000    29500    47500    33000    24000    19500    72000\n",
      "    24500    52000    32500    45000    25250    31000    51000    21000\n",
      "   285000    44000   400000    23500   365000    60000   680000   160000\n",
      "    16750    57000    46000    58000   130000    66000    13500   140000\n",
      "   390000    62000    20500    14500    12000    16000    12500    37000\n",
      "    27500    27000   135000   340000    37500    65000   220000     9000\n",
      "    25500    54000    22500   270000   372750    22100    59000    21500\n",
      "    18500    51500     8500    66500    26500   450000    30500   145000\n",
      "    61000   225000     8000   105000    49000    36500    39000   230000\n",
      "    72500    64000    59500   250000    84000   500000    49500   360000\n",
      "   150000    67500    53000    39999   200000   320000    52500   310000\n",
      "   155000    22300    87500    68000   807000   325000    18200    46500\n",
      "   415000    39500   300000    38500   205000    34500    33500    15900\n",
      "   215000    98000   240000    25700   290000    43500    28900    34750\n",
      "    79000    63000   280000    45500   170000   425000   635000    32950\n",
      "    29800    14100    56500    28500    39800   122500     6500    11950\n",
      "    35500   265000     7500   109000   158000   385000   185000    75500\n",
      "   350000   550000    19750   210000    78000    18750   590000   650000\n",
      "    46750    92500    67000    74000    13750    49999    69000   435000\n",
      "    48500    91000   595000    82500   260000   540000    99000   232500\n",
      "    24750    33300    83000   275000    71000     9500    40500   190000\n",
      "    82000   636000     4000    55500   750000    11999   262500    15100\n",
      "    16900    89000    49250    31500   420000    73000   345000   175000\n",
      "    29750    11500    21100    56000    23250    27750    20800   700000\n",
      "    45400     6000     5000    13600    41500     7000    76000  2600000\n",
      "   600000    92000    47750    20900   166000    32900    18900    17050\n",
      "   525000   315000    22650    10500    39750    62500     5350      700\n",
      "   245000   177000   195000    79999    29999    19200  3400000    53600\n",
      "    20200  4490000   119000   410000   235000    20750    97500   118000\n",
      "   137000    41750    29950   375000     9999   615000   133000    21250\n",
      "    42200   456000   575000    11111    93000    44900    37750   275200\n",
      "    25900    28750    27950  1850000    19499  5000000    15750   800000\n",
      "    39900    69999    44995     2500     4800    22450    24250  2250000\n",
      "    39200    33750    20100   122000     3999    61500   380000  1500000\n",
      "    35200    48750  2450000    89995    16250    25750   334000   204000\n",
      "  2000000    21400     5500  2500000    17250    44500     9950    18250\n",
      "   348000   256000    14999     4750    33950    74990   480000   127000\n",
      "    35100   117000    47999     4450  2350000   850000    24150    20250\n",
      "    13800    57250    24999   470000    26250    19950   578000    19250\n",
      " 23000000   250002   520000    88000    22950    74999    12400   107500\n",
      "    14900   490000     3000   440000    11200     4500    36999  1800000\n",
      "      500   675000   112000    19800    59999    22200   560000   465000\n",
      "    12900   255000    96000   295000   335000    63500   241000   430000\n",
      "   630000   495000   238000   580000   192000   268000   113000  4200000]\n"
     ]
    }
   ],
   "source": [
    "print(df['price'].unique())"
   ]
  },
  {
   "cell_type": "code",
   "execution_count": 38,
   "id": "c23320f3",
   "metadata": {},
   "outputs": [
    {
     "name": "stdout",
     "output_type": "stream",
     "text": [
      "<class 'pandas.core.frame.DataFrame'>\n",
      "RangeIndex: 9997 entries, 0 to 9996\n",
      "Data columns (total 10 columns):\n",
      " #   Column        Non-Null Count  Dtype \n",
      "---  ------        --------------  ----- \n",
      " 0   left          9997 non-null   object\n",
      " 1   location      9997 non-null   object\n",
      " 2   districk      9997 non-null   object\n",
      " 3   neighborhood  9997 non-null   object\n",
      " 4   room          9997 non-null   int32 \n",
      " 5   living_room   9997 non-null   int32 \n",
      " 6   area          9997 non-null   int32 \n",
      " 7   age           9997 non-null   int32 \n",
      " 8   floor         9997 non-null   int64 \n",
      " 9   price         9997 non-null   int32 \n",
      "dtypes: int32(5), int64(1), object(4)\n",
      "memory usage: 585.9+ KB\n",
      "None\n"
     ]
    }
   ],
   "source": [
    "print(df.info())"
   ]
  },
  {
   "cell_type": "code",
   "execution_count": 39,
   "id": "af0b42c4",
   "metadata": {},
   "outputs": [
    {
     "data": {
      "text/html": [
       "<div>\n",
       "<style scoped>\n",
       "    .dataframe tbody tr th:only-of-type {\n",
       "        vertical-align: middle;\n",
       "    }\n",
       "\n",
       "    .dataframe tbody tr th {\n",
       "        vertical-align: top;\n",
       "    }\n",
       "\n",
       "    .dataframe thead th {\n",
       "        text-align: right;\n",
       "    }\n",
       "</style>\n",
       "<table border=\"1\" class=\"dataframe\">\n",
       "  <thead>\n",
       "    <tr style=\"text-align: right;\">\n",
       "      <th></th>\n",
       "      <th>left</th>\n",
       "      <th>location</th>\n",
       "      <th>districk</th>\n",
       "      <th>neighborhood</th>\n",
       "      <th>room</th>\n",
       "      <th>living_room</th>\n",
       "      <th>area</th>\n",
       "      <th>age</th>\n",
       "      <th>floor</th>\n",
       "      <th>price</th>\n",
       "    </tr>\n",
       "  </thead>\n",
       "  <tbody>\n",
       "    <tr>\n",
       "      <th>0</th>\n",
       "      <td>Kiralık Daire</td>\n",
       "      <td>İstanbul</td>\n",
       "      <td>Sarıyer</td>\n",
       "      <td>Huzur Mah.</td>\n",
       "      <td>2</td>\n",
       "      <td>1</td>\n",
       "      <td>100</td>\n",
       "      <td>1</td>\n",
       "      <td>2</td>\n",
       "      <td>41000</td>\n",
       "    </tr>\n",
       "    <tr>\n",
       "      <th>1</th>\n",
       "      <td>Kiralık Daire</td>\n",
       "      <td>İstanbul</td>\n",
       "      <td>Üsküdar</td>\n",
       "      <td>Aziz Mahmut Hüdayi Mah.</td>\n",
       "      <td>3</td>\n",
       "      <td>1</td>\n",
       "      <td>80</td>\n",
       "      <td>45</td>\n",
       "      <td>2</td>\n",
       "      <td>32000</td>\n",
       "    </tr>\n",
       "    <tr>\n",
       "      <th>2</th>\n",
       "      <td>Kiralık Daire</td>\n",
       "      <td>İstanbul</td>\n",
       "      <td>Kadıköy</td>\n",
       "      <td>Acıbadem Mah.</td>\n",
       "      <td>2</td>\n",
       "      <td>1</td>\n",
       "      <td>110</td>\n",
       "      <td>3</td>\n",
       "      <td>3</td>\n",
       "      <td>47000</td>\n",
       "    </tr>\n",
       "    <tr>\n",
       "      <th>3</th>\n",
       "      <td>Kiralık Daire</td>\n",
       "      <td>İstanbul</td>\n",
       "      <td>Beykoz</td>\n",
       "      <td>Göztepe Mah.</td>\n",
       "      <td>3</td>\n",
       "      <td>1</td>\n",
       "      <td>130</td>\n",
       "      <td>25</td>\n",
       "      <td>3</td>\n",
       "      <td>18000</td>\n",
       "    </tr>\n",
       "    <tr>\n",
       "      <th>4</th>\n",
       "      <td>Kiralık Daire</td>\n",
       "      <td>İstanbul</td>\n",
       "      <td>Sarıyer</td>\n",
       "      <td>Rumeli Kavağı Mah.</td>\n",
       "      <td>4</td>\n",
       "      <td>1</td>\n",
       "      <td>160</td>\n",
       "      <td>49</td>\n",
       "      <td>3</td>\n",
       "      <td>50000</td>\n",
       "    </tr>\n",
       "    <tr>\n",
       "      <th>...</th>\n",
       "      <td>...</td>\n",
       "      <td>...</td>\n",
       "      <td>...</td>\n",
       "      <td>...</td>\n",
       "      <td>...</td>\n",
       "      <td>...</td>\n",
       "      <td>...</td>\n",
       "      <td>...</td>\n",
       "      <td>...</td>\n",
       "      <td>...</td>\n",
       "    </tr>\n",
       "    <tr>\n",
       "      <th>9992</th>\n",
       "      <td>Kiralık Residence</td>\n",
       "      <td>İstanbul</td>\n",
       "      <td>Beşiktaş</td>\n",
       "      <td>Levazım Mah.</td>\n",
       "      <td>1</td>\n",
       "      <td>1</td>\n",
       "      <td>170</td>\n",
       "      <td>5</td>\n",
       "      <td>17</td>\n",
       "      <td>240000</td>\n",
       "    </tr>\n",
       "    <tr>\n",
       "      <th>9993</th>\n",
       "      <td>Kiralık Residence</td>\n",
       "      <td>İstanbul</td>\n",
       "      <td>Beşiktaş</td>\n",
       "      <td>Levazım Mah.</td>\n",
       "      <td>2</td>\n",
       "      <td>1</td>\n",
       "      <td>190</td>\n",
       "      <td>2</td>\n",
       "      <td>11</td>\n",
       "      <td>260000</td>\n",
       "    </tr>\n",
       "    <tr>\n",
       "      <th>9994</th>\n",
       "      <td>Kiralık Residence</td>\n",
       "      <td>İstanbul</td>\n",
       "      <td>Beşiktaş</td>\n",
       "      <td>Levazım Mah.</td>\n",
       "      <td>2</td>\n",
       "      <td>1</td>\n",
       "      <td>170</td>\n",
       "      <td>5</td>\n",
       "      <td>7</td>\n",
       "      <td>270000</td>\n",
       "    </tr>\n",
       "    <tr>\n",
       "      <th>9995</th>\n",
       "      <td>Kiralık Residence</td>\n",
       "      <td>İstanbul</td>\n",
       "      <td>Beşiktaş</td>\n",
       "      <td>Levazım Mah.</td>\n",
       "      <td>1</td>\n",
       "      <td>1</td>\n",
       "      <td>200</td>\n",
       "      <td>5</td>\n",
       "      <td>3</td>\n",
       "      <td>230000</td>\n",
       "    </tr>\n",
       "    <tr>\n",
       "      <th>9996</th>\n",
       "      <td>Kiralık Residence</td>\n",
       "      <td>İstanbul</td>\n",
       "      <td>Beşiktaş</td>\n",
       "      <td>Levazım Mah.</td>\n",
       "      <td>2</td>\n",
       "      <td>1</td>\n",
       "      <td>169</td>\n",
       "      <td>6</td>\n",
       "      <td>7</td>\n",
       "      <td>230000</td>\n",
       "    </tr>\n",
       "  </tbody>\n",
       "</table>\n",
       "<p>9997 rows × 10 columns</p>\n",
       "</div>"
      ],
      "text/plain": [
       "                   left   location    districk              neighborhood  \\\n",
       "0         Kiralık Daire  İstanbul     Sarıyer                 Huzur Mah.   \n",
       "1         Kiralık Daire  İstanbul     Üsküdar    Aziz Mahmut Hüdayi Mah.   \n",
       "2         Kiralık Daire  İstanbul     Kadıköy              Acıbadem Mah.   \n",
       "3         Kiralık Daire  İstanbul      Beykoz               Göztepe Mah.   \n",
       "4         Kiralık Daire  İstanbul     Sarıyer         Rumeli Kavağı Mah.   \n",
       "...                 ...        ...         ...                       ...   \n",
       "9992  Kiralık Residence  İstanbul    Beşiktaş               Levazım Mah.   \n",
       "9993  Kiralık Residence  İstanbul    Beşiktaş               Levazım Mah.   \n",
       "9994  Kiralık Residence  İstanbul    Beşiktaş               Levazım Mah.   \n",
       "9995  Kiralık Residence  İstanbul    Beşiktaş               Levazım Mah.   \n",
       "9996  Kiralık Residence  İstanbul    Beşiktaş               Levazım Mah.   \n",
       "\n",
       "      room  living_room  area  age  floor   price  \n",
       "0        2            1   100    1      2   41000  \n",
       "1        3            1    80   45      2   32000  \n",
       "2        2            1   110    3      3   47000  \n",
       "3        3            1   130   25      3   18000  \n",
       "4        4            1   160   49      3   50000  \n",
       "...    ...          ...   ...  ...    ...     ...  \n",
       "9992     1            1   170    5     17  240000  \n",
       "9993     2            1   190    2     11  260000  \n",
       "9994     2            1   170    5      7  270000  \n",
       "9995     1            1   200    5      3  230000  \n",
       "9996     2            1   169    6      7  230000  \n",
       "\n",
       "[9997 rows x 10 columns]"
      ]
     },
     "execution_count": 39,
     "metadata": {},
     "output_type": "execute_result"
    }
   ],
   "source": [
    "df"
   ]
  },
  {
   "cell_type": "code",
   "execution_count": 40,
   "id": "45f53459",
   "metadata": {},
   "outputs": [],
   "source": [
    "df.to_csv('Temizleme3.csv', index=False)"
   ]
  },
  {
   "cell_type": "code",
   "execution_count": 41,
   "id": "e98d7d8f",
   "metadata": {},
   "outputs": [
    {
     "data": {
      "text/plain": [
       "(9997, 10)"
      ]
     },
     "execution_count": 41,
     "metadata": {},
     "output_type": "execute_result"
    }
   ],
   "source": [
    "df.shape"
   ]
  },
  {
   "cell_type": "code",
   "execution_count": 42,
   "id": "d2348374",
   "metadata": {},
   "outputs": [],
   "source": [
    "drop_columns(df, ['neighborhood'])"
   ]
  },
  {
   "cell_type": "code",
   "execution_count": 43,
   "id": "085b793a",
   "metadata": {},
   "outputs": [
    {
     "data": {
      "text/html": [
       "<div>\n",
       "<style scoped>\n",
       "    .dataframe tbody tr th:only-of-type {\n",
       "        vertical-align: middle;\n",
       "    }\n",
       "\n",
       "    .dataframe tbody tr th {\n",
       "        vertical-align: top;\n",
       "    }\n",
       "\n",
       "    .dataframe thead th {\n",
       "        text-align: right;\n",
       "    }\n",
       "</style>\n",
       "<table border=\"1\" class=\"dataframe\">\n",
       "  <thead>\n",
       "    <tr style=\"text-align: right;\">\n",
       "      <th></th>\n",
       "      <th>left</th>\n",
       "      <th>location</th>\n",
       "      <th>districk</th>\n",
       "      <th>room</th>\n",
       "      <th>living_room</th>\n",
       "      <th>area</th>\n",
       "      <th>age</th>\n",
       "      <th>floor</th>\n",
       "      <th>price</th>\n",
       "    </tr>\n",
       "  </thead>\n",
       "  <tbody>\n",
       "    <tr>\n",
       "      <th>0</th>\n",
       "      <td>Kiralık Daire</td>\n",
       "      <td>İstanbul</td>\n",
       "      <td>Sarıyer</td>\n",
       "      <td>2</td>\n",
       "      <td>1</td>\n",
       "      <td>100</td>\n",
       "      <td>1</td>\n",
       "      <td>2</td>\n",
       "      <td>41000</td>\n",
       "    </tr>\n",
       "    <tr>\n",
       "      <th>1</th>\n",
       "      <td>Kiralık Daire</td>\n",
       "      <td>İstanbul</td>\n",
       "      <td>Üsküdar</td>\n",
       "      <td>3</td>\n",
       "      <td>1</td>\n",
       "      <td>80</td>\n",
       "      <td>45</td>\n",
       "      <td>2</td>\n",
       "      <td>32000</td>\n",
       "    </tr>\n",
       "    <tr>\n",
       "      <th>2</th>\n",
       "      <td>Kiralık Daire</td>\n",
       "      <td>İstanbul</td>\n",
       "      <td>Kadıköy</td>\n",
       "      <td>2</td>\n",
       "      <td>1</td>\n",
       "      <td>110</td>\n",
       "      <td>3</td>\n",
       "      <td>3</td>\n",
       "      <td>47000</td>\n",
       "    </tr>\n",
       "    <tr>\n",
       "      <th>3</th>\n",
       "      <td>Kiralık Daire</td>\n",
       "      <td>İstanbul</td>\n",
       "      <td>Beykoz</td>\n",
       "      <td>3</td>\n",
       "      <td>1</td>\n",
       "      <td>130</td>\n",
       "      <td>25</td>\n",
       "      <td>3</td>\n",
       "      <td>18000</td>\n",
       "    </tr>\n",
       "    <tr>\n",
       "      <th>4</th>\n",
       "      <td>Kiralık Daire</td>\n",
       "      <td>İstanbul</td>\n",
       "      <td>Sarıyer</td>\n",
       "      <td>4</td>\n",
       "      <td>1</td>\n",
       "      <td>160</td>\n",
       "      <td>49</td>\n",
       "      <td>3</td>\n",
       "      <td>50000</td>\n",
       "    </tr>\n",
       "    <tr>\n",
       "      <th>...</th>\n",
       "      <td>...</td>\n",
       "      <td>...</td>\n",
       "      <td>...</td>\n",
       "      <td>...</td>\n",
       "      <td>...</td>\n",
       "      <td>...</td>\n",
       "      <td>...</td>\n",
       "      <td>...</td>\n",
       "      <td>...</td>\n",
       "    </tr>\n",
       "    <tr>\n",
       "      <th>9992</th>\n",
       "      <td>Kiralık Residence</td>\n",
       "      <td>İstanbul</td>\n",
       "      <td>Beşiktaş</td>\n",
       "      <td>1</td>\n",
       "      <td>1</td>\n",
       "      <td>170</td>\n",
       "      <td>5</td>\n",
       "      <td>17</td>\n",
       "      <td>240000</td>\n",
       "    </tr>\n",
       "    <tr>\n",
       "      <th>9993</th>\n",
       "      <td>Kiralık Residence</td>\n",
       "      <td>İstanbul</td>\n",
       "      <td>Beşiktaş</td>\n",
       "      <td>2</td>\n",
       "      <td>1</td>\n",
       "      <td>190</td>\n",
       "      <td>2</td>\n",
       "      <td>11</td>\n",
       "      <td>260000</td>\n",
       "    </tr>\n",
       "    <tr>\n",
       "      <th>9994</th>\n",
       "      <td>Kiralık Residence</td>\n",
       "      <td>İstanbul</td>\n",
       "      <td>Beşiktaş</td>\n",
       "      <td>2</td>\n",
       "      <td>1</td>\n",
       "      <td>170</td>\n",
       "      <td>5</td>\n",
       "      <td>7</td>\n",
       "      <td>270000</td>\n",
       "    </tr>\n",
       "    <tr>\n",
       "      <th>9995</th>\n",
       "      <td>Kiralık Residence</td>\n",
       "      <td>İstanbul</td>\n",
       "      <td>Beşiktaş</td>\n",
       "      <td>1</td>\n",
       "      <td>1</td>\n",
       "      <td>200</td>\n",
       "      <td>5</td>\n",
       "      <td>3</td>\n",
       "      <td>230000</td>\n",
       "    </tr>\n",
       "    <tr>\n",
       "      <th>9996</th>\n",
       "      <td>Kiralık Residence</td>\n",
       "      <td>İstanbul</td>\n",
       "      <td>Beşiktaş</td>\n",
       "      <td>2</td>\n",
       "      <td>1</td>\n",
       "      <td>169</td>\n",
       "      <td>6</td>\n",
       "      <td>7</td>\n",
       "      <td>230000</td>\n",
       "    </tr>\n",
       "  </tbody>\n",
       "</table>\n",
       "<p>9997 rows × 9 columns</p>\n",
       "</div>"
      ],
      "text/plain": [
       "                   left   location    districk  room  living_room  area  age  \\\n",
       "0         Kiralık Daire  İstanbul     Sarıyer      2            1   100    1   \n",
       "1         Kiralık Daire  İstanbul     Üsküdar      3            1    80   45   \n",
       "2         Kiralık Daire  İstanbul     Kadıköy      2            1   110    3   \n",
       "3         Kiralık Daire  İstanbul      Beykoz      3            1   130   25   \n",
       "4         Kiralık Daire  İstanbul     Sarıyer      4            1   160   49   \n",
       "...                 ...        ...         ...   ...          ...   ...  ...   \n",
       "9992  Kiralık Residence  İstanbul    Beşiktaş      1            1   170    5   \n",
       "9993  Kiralık Residence  İstanbul    Beşiktaş      2            1   190    2   \n",
       "9994  Kiralık Residence  İstanbul    Beşiktaş      2            1   170    5   \n",
       "9995  Kiralık Residence  İstanbul    Beşiktaş      1            1   200    5   \n",
       "9996  Kiralık Residence  İstanbul    Beşiktaş      2            1   169    6   \n",
       "\n",
       "      floor   price  \n",
       "0         2   41000  \n",
       "1         2   32000  \n",
       "2         3   47000  \n",
       "3         3   18000  \n",
       "4         3   50000  \n",
       "...     ...     ...  \n",
       "9992     17  240000  \n",
       "9993     11  260000  \n",
       "9994      7  270000  \n",
       "9995      3  230000  \n",
       "9996      7  230000  \n",
       "\n",
       "[9997 rows x 9 columns]"
      ]
     },
     "execution_count": 43,
     "metadata": {},
     "output_type": "execute_result"
    }
   ],
   "source": [
    "df"
   ]
  },
  {
   "cell_type": "code",
   "execution_count": 44,
   "id": "e1e4a77d",
   "metadata": {},
   "outputs": [
    {
     "data": {
      "text/plain": [
       "(9997, 9)"
      ]
     },
     "execution_count": 44,
     "metadata": {},
     "output_type": "execute_result"
    }
   ],
   "source": [
    "df.shape"
   ]
  },
  {
   "cell_type": "code",
   "execution_count": 45,
   "id": "54cc0777",
   "metadata": {},
   "outputs": [
    {
     "name": "stdout",
     "output_type": "stream",
     "text": [
      "number of duplicate rows:  (224, 9)\n"
     ]
    }
   ],
   "source": [
    "duplicate_rows_df = df[df.duplicated()]\n",
    "print(\"number of duplicate rows: \", duplicate_rows_df.shape)"
   ]
  },
  {
   "cell_type": "code",
   "execution_count": 46,
   "id": "376d9a73",
   "metadata": {},
   "outputs": [
    {
     "data": {
      "text/plain": [
       "left           9997\n",
       "location       9997\n",
       "districk       9997\n",
       "room           9997\n",
       "living_room    9997\n",
       "area           9997\n",
       "age            9997\n",
       "floor          9997\n",
       "price          9997\n",
       "dtype: int64"
      ]
     },
     "execution_count": 46,
     "metadata": {},
     "output_type": "execute_result"
    }
   ],
   "source": [
    "df.count()"
   ]
  },
  {
   "cell_type": "code",
   "execution_count": 47,
   "id": "21847bdf",
   "metadata": {},
   "outputs": [
    {
     "data": {
      "text/html": [
       "<div>\n",
       "<style scoped>\n",
       "    .dataframe tbody tr th:only-of-type {\n",
       "        vertical-align: middle;\n",
       "    }\n",
       "\n",
       "    .dataframe tbody tr th {\n",
       "        vertical-align: top;\n",
       "    }\n",
       "\n",
       "    .dataframe thead th {\n",
       "        text-align: right;\n",
       "    }\n",
       "</style>\n",
       "<table border=\"1\" class=\"dataframe\">\n",
       "  <thead>\n",
       "    <tr style=\"text-align: right;\">\n",
       "      <th></th>\n",
       "      <th>left</th>\n",
       "      <th>location</th>\n",
       "      <th>districk</th>\n",
       "      <th>room</th>\n",
       "      <th>living_room</th>\n",
       "      <th>area</th>\n",
       "      <th>age</th>\n",
       "      <th>floor</th>\n",
       "      <th>price</th>\n",
       "    </tr>\n",
       "  </thead>\n",
       "  <tbody>\n",
       "    <tr>\n",
       "      <th>0</th>\n",
       "      <td>Kiralık Daire</td>\n",
       "      <td>İstanbul</td>\n",
       "      <td>Sarıyer</td>\n",
       "      <td>2</td>\n",
       "      <td>1</td>\n",
       "      <td>100</td>\n",
       "      <td>1</td>\n",
       "      <td>2</td>\n",
       "      <td>41000</td>\n",
       "    </tr>\n",
       "    <tr>\n",
       "      <th>1</th>\n",
       "      <td>Kiralık Daire</td>\n",
       "      <td>İstanbul</td>\n",
       "      <td>Üsküdar</td>\n",
       "      <td>3</td>\n",
       "      <td>1</td>\n",
       "      <td>80</td>\n",
       "      <td>45</td>\n",
       "      <td>2</td>\n",
       "      <td>32000</td>\n",
       "    </tr>\n",
       "    <tr>\n",
       "      <th>2</th>\n",
       "      <td>Kiralık Daire</td>\n",
       "      <td>İstanbul</td>\n",
       "      <td>Kadıköy</td>\n",
       "      <td>2</td>\n",
       "      <td>1</td>\n",
       "      <td>110</td>\n",
       "      <td>3</td>\n",
       "      <td>3</td>\n",
       "      <td>47000</td>\n",
       "    </tr>\n",
       "    <tr>\n",
       "      <th>3</th>\n",
       "      <td>Kiralık Daire</td>\n",
       "      <td>İstanbul</td>\n",
       "      <td>Beykoz</td>\n",
       "      <td>3</td>\n",
       "      <td>1</td>\n",
       "      <td>130</td>\n",
       "      <td>25</td>\n",
       "      <td>3</td>\n",
       "      <td>18000</td>\n",
       "    </tr>\n",
       "    <tr>\n",
       "      <th>4</th>\n",
       "      <td>Kiralık Daire</td>\n",
       "      <td>İstanbul</td>\n",
       "      <td>Sarıyer</td>\n",
       "      <td>4</td>\n",
       "      <td>1</td>\n",
       "      <td>160</td>\n",
       "      <td>49</td>\n",
       "      <td>3</td>\n",
       "      <td>50000</td>\n",
       "    </tr>\n",
       "  </tbody>\n",
       "</table>\n",
       "</div>"
      ],
      "text/plain": [
       "            left   location   districk  room  living_room  area  age  floor  \\\n",
       "0  Kiralık Daire  İstanbul    Sarıyer      2            1   100    1      2   \n",
       "1  Kiralık Daire  İstanbul    Üsküdar      3            1    80   45      2   \n",
       "2  Kiralık Daire  İstanbul    Kadıköy      2            1   110    3      3   \n",
       "3  Kiralık Daire  İstanbul     Beykoz      3            1   130   25      3   \n",
       "4  Kiralık Daire  İstanbul    Sarıyer      4            1   160   49      3   \n",
       "\n",
       "   price  \n",
       "0  41000  \n",
       "1  32000  \n",
       "2  47000  \n",
       "3  18000  \n",
       "4  50000  "
      ]
     },
     "execution_count": 47,
     "metadata": {},
     "output_type": "execute_result"
    }
   ],
   "source": [
    "df = df.drop_duplicates()\n",
    "df.head(5)"
   ]
  },
  {
   "cell_type": "code",
   "execution_count": 48,
   "id": "970bb23a",
   "metadata": {},
   "outputs": [
    {
     "data": {
      "text/plain": [
       "left           9773\n",
       "location       9773\n",
       "districk       9773\n",
       "room           9773\n",
       "living_room    9773\n",
       "area           9773\n",
       "age            9773\n",
       "floor          9773\n",
       "price          9773\n",
       "dtype: int64"
      ]
     },
     "execution_count": 48,
     "metadata": {},
     "output_type": "execute_result"
    }
   ],
   "source": [
    "df.count()"
   ]
  },
  {
   "cell_type": "code",
   "execution_count": 50,
   "id": "5372ff36",
   "metadata": {},
   "outputs": [
    {
     "name": "stdout",
     "output_type": "stream",
     "text": [
      "left           0\n",
      "location       0\n",
      "districk       0\n",
      "room           0\n",
      "living_room    0\n",
      "area           0\n",
      "age            0\n",
      "floor          0\n",
      "price          0\n",
      "dtype: int64\n"
     ]
    }
   ],
   "source": [
    "print(df.isnull().sum())"
   ]
  },
  {
   "cell_type": "code",
   "execution_count": null,
   "id": "7d6b0235",
   "metadata": {},
   "outputs": [
    {
     "name": "stdout",
     "output_type": "stream",
     "text": [
      "göründüğü gibi boş veri yok\n"
     ]
    }
   ],
   "source": [
    "print(\"göründüğü gibi boş veri yok\")"
   ]
  },
  {
   "cell_type": "code",
   "execution_count": 53,
   "id": "30788aba",
   "metadata": {},
   "outputs": [
    {
     "data": {
      "text/plain": [
       "<Axes: xlabel='price'>"
      ]
     },
     "execution_count": 53,
     "metadata": {},
     "output_type": "execute_result"
    },
    {
     "data": {
      "image/png": "[encoded data removed]",
      "text/plain": [
       "<Figure size 640x480 with 1 Axes>"
      ]
     },
     "metadata": {},
     "output_type": "display_data"
    }
   ],
   "source": [
    "#aykırı değerleri bulma\n",
    "sns.boxplot(x=df['price'])"
   ]
  },
  {
   "cell_type": "code",
   "execution_count": 54,
   "id": "e131d289",
   "metadata": {},
   "outputs": [
    {
     "data": {
      "text/plain": [
       "<Axes: xlabel='room'>"
      ]
     },
     "execution_count": 54,
     "metadata": {},
     "output_type": "execute_result"
    },
    {
     "data": {
      "image/png": "[encoded data removed]",
      "text/plain": [
       "<Figure size 640x480 with 1 Axes>"
      ]
     },
     "metadata": {},
     "output_type": "display_data"
    }
   ],
   "source": [
    "sns.boxplot(x=df['room'])"
   ]
  },
  {
   "cell_type": "code",
   "execution_count": 55,
   "id": "4cb1bae8",
   "metadata": {},
   "outputs": [
    {
     "data": {
      "text/plain": [
       "<Axes: xlabel='area'>"
      ]
     },
     "execution_count": 55,
     "metadata": {},
     "output_type": "execute_result"
    },
    {
     "data": {
      "image/png": "[encoded data removed]",
      "text/plain": [
       "<Figure size 640x480 with 1 Axes>"
      ]
     },
     "metadata": {},
     "output_type": "display_data"
    }
   ],
   "source": [
    "sns.boxplot(x=df['area'])"
   ]
  },
  {
   "cell_type": "code",
   "execution_count": 56,
   "id": "8f6d6a8b",
   "metadata": {},
   "outputs": [
    {
     "data": {
      "text/plain": [
       "<Axes: xlabel='age'>"
      ]
     },
     "execution_count": 56,
     "metadata": {},
     "output_type": "execute_result"
    },
    {
     "data": {
      "image/png": "[encoded data removed]",
      "text/plain": [
       "<Figure size 640x480 with 1 Axes>"
      ]
     },
     "metadata": {},
     "output_type": "display_data"
    }
   ],
   "source": [
    "sns.boxplot(x=df['age'])"
   ]
  },
  {
   "cell_type": "code",
   "execution_count": 57,
   "id": "bfe886d7",
   "metadata": {},
   "outputs": [
    {
     "data": {
      "text/plain": [
       "<Axes: xlabel='floor'>"
      ]
     },
     "execution_count": 57,
     "metadata": {},
     "output_type": "execute_result"
    },
    {
     "data": {
      "image/png": "[encoded data removed]",
      "text/plain": [
       "<Figure size 640x480 with 1 Axes>"
      ]
     },
     "metadata": {},
     "output_type": "display_data"
    }
   ],
   "source": [
    "sns.boxplot(x=df['floor'])"
   ]
  },
  {
   "cell_type": "code",
   "execution_count": 59,
   "id": "8b646316",
   "metadata": {},
   "outputs": [
    {
     "name": "stdout",
     "output_type": "stream",
     "text": [
      "room               1.0\n",
      "living_room        0.0\n",
      "area              60.0\n",
      "age               25.0\n",
      "floor              3.0\n",
      "price          35000.0\n",
      "dtype: float64\n"
     ]
    }
   ],
   "source": [
    "# Select only numeric columns\n",
    "numeric_df = df.select_dtypes(include=['number'])\n",
    "\n",
    "# Calculate the interquartile range (IQR)\n",
    "Q1 = numeric_df.quantile(0.25)\n",
    "Q3 = numeric_df.quantile(0.75)\n",
    "IQR = Q3 - Q1\n",
    "print(IQR)"
   ]
  },
  {
   "cell_type": "code",
   "execution_count": 60,
   "id": "a8c9e188",
   "metadata": {},
   "outputs": [
    {
     "data": {
      "text/plain": [
       "Text(0.5, 1.0, 'Top 10 Districks with Most Houses')"
      ]
     },
     "execution_count": 60,
     "metadata": {},
     "output_type": "execute_result"
    },
    {
     "data": {
      "image/png": "[encoded data removed]",
      "text/plain": [
       "<Figure size 1000x600 with 1 Axes>"
      ]
     },
     "metadata": {},
     "output_type": "display_data"
    }
   ],
   "source": [
    "#number of house from districk\n",
    "df['districk'].value_counts().head(10).plot(kind='barh', figsize=(10, 6), color='skyblue')\n",
    "plt.title('Top 10 Districks with Most Houses')"
   ]
  },
  {
   "cell_type": "code",
   "execution_count": 62,
   "id": "cfb4f39e",
   "metadata": {},
   "outputs": [
    {
     "data": {
      "text/plain": [
       "(7174, 9)"
      ]
     },
     "execution_count": 62,
     "metadata": {},
     "output_type": "execute_result"
    }
   ],
   "source": [
    "# Filter out outliers based on numeric columns\n",
    "df = df[~((numeric_df < (Q1 - 1.5 * IQR)) | (numeric_df > (Q3 + 1.5 * IQR))).any(axis=1)]\n",
    "df.shape"
   ]
  },
  {
   "cell_type": "code",
   "execution_count": 64,
   "id": "88e62f8d",
   "metadata": {},
   "outputs": [
    {
     "data": {
      "text/plain": [
       "<Axes: >"
      ]
     },
     "execution_count": 64,
     "metadata": {},
     "output_type": "execute_result"
    },
    {
     "data": {
      "image/png": "[encoded data removed]",
      "text/plain": [
       "<Figure size 1200x800 with 2 Axes>"
      ]
     },
     "metadata": {},
     "output_type": "display_data"
    }
   ],
   "source": [
    "# ısı haritası oluşturma\n",
    "plt.figure(figsize=(12, 8))\n",
    "sns.heatmap(numeric_df.corr(), annot=True, cmap='coolwarm', fmt=\".2f\", linewidths=0.5)"
   ]
  },
  {
   "cell_type": "code",
   "execution_count": 65,
   "id": "1f888391",
   "metadata": {},
   "outputs": [
    {
     "data": {
      "image/png": "[encoded data removed]",
      "text/plain": [
       "<Figure size 1000x600 with 1 Axes>"
      ]
     },
     "metadata": {},
     "output_type": "display_data"
    }
   ],
   "source": [
    "plt.figure(figsize=(10, 6))\n",
    "sns.scatterplot(x='area', y='price', data=df, alpha=0.6, color='blue')\n",
    "plt.title('Fiyat ile Metrekare Arasındaki İlişki')\n",
    "plt.xlabel('Metrekare (area)')\n",
    "plt.ylabel('Fiyat (price)')\n",
    "plt.grid(True)\n",
    "plt.show()"
   ]
  },
  {
   "cell_type": "code",
   "execution_count": null,
   "id": "37019993",
   "metadata": {},
   "outputs": [],
   "source": [
    "# görünüdüğü üzere fiyat ile ev fiyatları arasında pozitif bir ilişki var"
   ]
  }
 ],
 "metadata": {
  "kernelspec": {
   "display_name": "Python 3",
   "language": "python",
   "name": "python3"
  },
  "language_info": {
   "codemirror_mode": {
    "name": "ipython",
    "version": 3
   },
   "file_extension": ".py",
   "mimetype": "text/x-python",
   "name": "python",
   "nbconvert_exporter": "python",
   "pygments_lexer": "ipython3",
   "version": "3.11.4"
  }
 },
 "nbformat": 4,
 "nbformat_minor": 5
}
