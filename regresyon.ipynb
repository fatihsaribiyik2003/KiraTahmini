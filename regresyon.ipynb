{
 "cells": [
  {
   "cell_type": "markdown",
   "metadata": {},
   "source": [
    "liner"
   ]
  },
  {
   "cell_type": "markdown",
   "metadata": {},
   "source": [
    "liner regresyon"
   ]
  },
  {
   "cell_type": "code",
   "execution_count": 17,
   "metadata": {},
   "outputs": [],
   "source": [
    "import numpy as np\n",
    "import pandas as pd\n",
    "from sklearn.model_selection import train_test_split\n",
    "from sklearn.pipeline import Pipeline\n",
    "from sklearn.preprocessing import StandardScaler , OneHotEncoder\n",
    "from sklearn.compose import ColumnTransformer\n",
    "from sklearn.linear_model import LinearRegression\n",
    "from sklearn.metrics import mean_squared_error\n",
    "from sklearn.metrics import r2_score"
   ]
  },
  {
   "cell_type": "code",
   "execution_count": 9,
   "metadata": {},
   "outputs": [],
   "source": [
    "df = pd.read_csv('cleanedManuel_data.csv')\n"
   ]
  },
  {
   "cell_type": "code",
   "execution_count": 10,
   "metadata": {},
   "outputs": [
    {
     "name": "stdout",
     "output_type": "stream",
     "text": [
      "<class 'pandas.core.frame.DataFrame'>\n",
      "RangeIndex: 7313 entries, 0 to 7312\n",
      "Data columns (total 9 columns):\n",
      " #   Column        Non-Null Count  Dtype \n",
      "---  ------        --------------  ----- \n",
      " 0   location      7313 non-null   object\n",
      " 1   districk      7313 non-null   object\n",
      " 2   neighborhood  7313 non-null   object\n",
      " 3   room          7313 non-null   int64 \n",
      " 4   living_room   7313 non-null   int64 \n",
      " 5   area          7313 non-null   int64 \n",
      " 6   age           7313 non-null   int64 \n",
      " 7   floor         7313 non-null   int64 \n",
      " 8   price         7313 non-null   int64 \n",
      "dtypes: int64(6), object(3)\n",
      "memory usage: 514.3+ KB\n",
      "None\n"
     ]
    }
   ],
   "source": [
    "print(df.info())"
   ]
  },
  {
   "cell_type": "code",
   "execution_count": 11,
   "metadata": {},
   "outputs": [],
   "source": [
    "df['location'] = df['location'].astype('category')\n",
    "df['districk'] = df['districk'].astype('category')\n",
    "df['neighborhood'] = df['neighborhood'].astype('category')\n",
    "df['room'] = df['room'].astype('int')\n",
    "df['living_room'] = df['living_room'].astype('int')\n",
    "df['area'] = df['area'].astype('int')\n",
    "df['age'] = df['age'].astype('int')\n",
    "df['floor'] = df['floor'].astype('int')\n",
    "df['price'] = df['price'].astype('int')"
   ]
  },
  {
   "cell_type": "code",
   "execution_count": 12,
   "metadata": {},
   "outputs": [
    {
     "name": "stdout",
     "output_type": "stream",
     "text": [
      "<class 'pandas.core.frame.DataFrame'>\n",
      "RangeIndex: 7313 entries, 0 to 7312\n",
      "Data columns (total 9 columns):\n",
      " #   Column        Non-Null Count  Dtype   \n",
      "---  ------        --------------  -----   \n",
      " 0   location      7313 non-null   category\n",
      " 1   districk      7313 non-null   category\n",
      " 2   neighborhood  7313 non-null   category\n",
      " 3   room          7313 non-null   int32   \n",
      " 4   living_room   7313 non-null   int32   \n",
      " 5   area          7313 non-null   int32   \n",
      " 6   age           7313 non-null   int32   \n",
      " 7   floor         7313 non-null   int32   \n",
      " 8   price         7313 non-null   int32   \n",
      "dtypes: category(3), int32(6)\n",
      "memory usage: 222.1 KB\n",
      "None\n"
     ]
    }
   ],
   "source": [
    "print(df.info())"
   ]
  },
  {
   "cell_type": "code",
   "execution_count": 13,
   "metadata": {},
   "outputs": [],
   "source": [
    "categorical_features = ['location', 'districk', 'neighborhood']\n",
    "numerical_features = ['room', 'living_room', 'area', 'age', 'floor']"
   ]
  },
  {
   "cell_type": "code",
   "execution_count": 14,
   "metadata": {},
   "outputs": [],
   "source": [
    "full_pipeline = ColumnTransformer([\n",
    "    ('num', StandardScaler(), numerical_features),\n",
    "    ('cat', OneHotEncoder(handle_unknown='ignore'), categorical_features)\n",
    "])"
   ]
  },
  {
   "cell_type": "code",
   "execution_count": 15,
   "metadata": {},
   "outputs": [],
   "source": [
    "X = df.drop('price', axis=1)\n",
    "y = df['price']"
   ]
  },
  {
   "cell_type": "code",
   "execution_count": null,
   "metadata": {},
   "outputs": [],
   "source": [
    "X_train, X_test, y_train, y_test = train_test_split(X, y, test_size=0.2, random_state=42) #42 numaralı random sayı\n"
   ]
  },
  {
   "cell_type": "code",
   "execution_count": null,
   "metadata": {},
   "outputs": [],
   "source": [
    "model = Pipeline(steps=[ #was changed ?\n",
    "    ('preprocessor', full_pipeline),\n",
    "    ('model', LinearRegression())\n",
    "])"
   ]
  },
  {
   "cell_type": "code",
   "execution_count": 20,
   "metadata": {},
   "outputs": [
    {
     "data": {
      "text/html": [
       "<style>#sk-container-id-1 {color: black;}#sk-container-id-1 pre{padding: 0;}#sk-container-id-1 div.sk-toggleable {background-color: white;}#sk-container-id-1 label.sk-toggleable__label {cursor: pointer;display: block;width: 100%;margin-bottom: 0;padding: 0.3em;box-sizing: border-box;text-align: center;}#sk-container-id-1 label.sk-toggleable__label-arrow:before {content: \"▸\";float: left;margin-right: 0.25em;color: #696969;}#sk-container-id-1 label.sk-toggleable__label-arrow:hover:before {color: black;}#sk-container-id-1 div.sk-estimator:hover label.sk-toggleable__label-arrow:before {color: black;}#sk-container-id-1 div.sk-toggleable__content {max-height: 0;max-width: 0;overflow: hidden;text-align: left;background-color: #f0f8ff;}#sk-container-id-1 div.sk-toggleable__content pre {margin: 0.2em;color: black;border-radius: 0.25em;background-color: #f0f8ff;}#sk-container-id-1 input.sk-toggleable__control:checked~div.sk-toggleable__content {max-height: 200px;max-width: 100%;overflow: auto;}#sk-container-id-1 input.sk-toggleable__control:checked~label.sk-toggleable__label-arrow:before {content: \"▾\";}#sk-container-id-1 div.sk-estimator input.sk-toggleable__control:checked~label.sk-toggleable__label {background-color: #d4ebff;}#sk-container-id-1 div.sk-label input.sk-toggleable__control:checked~label.sk-toggleable__label {background-color: #d4ebff;}#sk-container-id-1 input.sk-hidden--visually {border: 0;clip: rect(1px 1px 1px 1px);clip: rect(1px, 1px, 1px, 1px);height: 1px;margin: -1px;overflow: hidden;padding: 0;position: absolute;width: 1px;}#sk-container-id-1 div.sk-estimator {font-family: monospace;background-color: #f0f8ff;border: 1px dotted black;border-radius: 0.25em;box-sizing: border-box;margin-bottom: 0.5em;}#sk-container-id-1 div.sk-estimator:hover {background-color: #d4ebff;}#sk-container-id-1 div.sk-parallel-item::after {content: \"\";width: 100%;border-bottom: 1px solid gray;flex-grow: 1;}#sk-container-id-1 div.sk-label:hover label.sk-toggleable__label {background-color: #d4ebff;}#sk-container-id-1 div.sk-serial::before {content: \"\";position: absolute;border-left: 1px solid gray;box-sizing: border-box;top: 0;bottom: 0;left: 50%;z-index: 0;}#sk-container-id-1 div.sk-serial {display: flex;flex-direction: column;align-items: center;background-color: white;padding-right: 0.2em;padding-left: 0.2em;position: relative;}#sk-container-id-1 div.sk-item {position: relative;z-index: 1;}#sk-container-id-1 div.sk-parallel {display: flex;align-items: stretch;justify-content: center;background-color: white;position: relative;}#sk-container-id-1 div.sk-item::before, #sk-container-id-1 div.sk-parallel-item::before {content: \"\";position: absolute;border-left: 1px solid gray;box-sizing: border-box;top: 0;bottom: 0;left: 50%;z-index: -1;}#sk-container-id-1 div.sk-parallel-item {display: flex;flex-direction: column;z-index: 1;position: relative;background-color: white;}#sk-container-id-1 div.sk-parallel-item:first-child::after {align-self: flex-end;width: 50%;}#sk-container-id-1 div.sk-parallel-item:last-child::after {align-self: flex-start;width: 50%;}#sk-container-id-1 div.sk-parallel-item:only-child::after {width: 0;}#sk-container-id-1 div.sk-dashed-wrapped {border: 1px dashed gray;margin: 0 0.4em 0.5em 0.4em;box-sizing: border-box;padding-bottom: 0.4em;background-color: white;}#sk-container-id-1 div.sk-label label {font-family: monospace;font-weight: bold;display: inline-block;line-height: 1.2em;}#sk-container-id-1 div.sk-label-container {text-align: center;}#sk-container-id-1 div.sk-container {/* jupyter's `normalize.less` sets `[hidden] { display: none; }` but bootstrap.min.css set `[hidden] { display: none !important; }` so we also need the `!important` here to be able to override the default hidden behavior on the sphinx rendered scikit-learn.org. See: https://github.com/scikit-learn/scikit-learn/issues/21755 */display: inline-block !important;position: relative;}#sk-container-id-1 div.sk-text-repr-fallback {display: none;}</style><div id=\"sk-container-id-1\" class=\"sk-top-container\"><div class=\"sk-text-repr-fallback\"><pre>Pipeline(steps=[(&#x27;preprocessor&#x27;,\n",
       "                 ColumnTransformer(transformers=[(&#x27;num&#x27;, StandardScaler(),\n",
       "                                                  [&#x27;room&#x27;, &#x27;living_room&#x27;,\n",
       "                                                   &#x27;area&#x27;, &#x27;age&#x27;, &#x27;floor&#x27;]),\n",
       "                                                 (&#x27;cat&#x27;,\n",
       "                                                  OneHotEncoder(handle_unknown=&#x27;ignore&#x27;),\n",
       "                                                  [&#x27;location&#x27;, &#x27;districk&#x27;,\n",
       "                                                   &#x27;neighborhood&#x27;])])),\n",
       "                (&#x27;model&#x27;, LinearRegression())])</pre><b>In a Jupyter environment, please rerun this cell to show the HTML representation or trust the notebook. <br />On GitHub, the HTML representation is unable to render, please try loading this page with nbviewer.org.</b></div><div class=\"sk-container\" hidden><div class=\"sk-item sk-dashed-wrapped\"><div class=\"sk-label-container\"><div class=\"sk-label sk-toggleable\"><input class=\"sk-toggleable__control sk-hidden--visually\" id=\"sk-estimator-id-1\" type=\"checkbox\" ><label for=\"sk-estimator-id-1\" class=\"sk-toggleable__label sk-toggleable__label-arrow\">Pipeline</label><div class=\"sk-toggleable__content\"><pre>Pipeline(steps=[(&#x27;preprocessor&#x27;,\n",
       "                 ColumnTransformer(transformers=[(&#x27;num&#x27;, StandardScaler(),\n",
       "                                                  [&#x27;room&#x27;, &#x27;living_room&#x27;,\n",
       "                                                   &#x27;area&#x27;, &#x27;age&#x27;, &#x27;floor&#x27;]),\n",
       "                                                 (&#x27;cat&#x27;,\n",
       "                                                  OneHotEncoder(handle_unknown=&#x27;ignore&#x27;),\n",
       "                                                  [&#x27;location&#x27;, &#x27;districk&#x27;,\n",
       "                                                   &#x27;neighborhood&#x27;])])),\n",
       "                (&#x27;model&#x27;, LinearRegression())])</pre></div></div></div><div class=\"sk-serial\"><div class=\"sk-item sk-dashed-wrapped\"><div class=\"sk-label-container\"><div class=\"sk-label sk-toggleable\"><input class=\"sk-toggleable__control sk-hidden--visually\" id=\"sk-estimator-id-2\" type=\"checkbox\" ><label for=\"sk-estimator-id-2\" class=\"sk-toggleable__label sk-toggleable__label-arrow\">preprocessor: ColumnTransformer</label><div class=\"sk-toggleable__content\"><pre>ColumnTransformer(transformers=[(&#x27;num&#x27;, StandardScaler(),\n",
       "                                 [&#x27;room&#x27;, &#x27;living_room&#x27;, &#x27;area&#x27;, &#x27;age&#x27;,\n",
       "                                  &#x27;floor&#x27;]),\n",
       "                                (&#x27;cat&#x27;, OneHotEncoder(handle_unknown=&#x27;ignore&#x27;),\n",
       "                                 [&#x27;location&#x27;, &#x27;districk&#x27;, &#x27;neighborhood&#x27;])])</pre></div></div></div><div class=\"sk-parallel\"><div class=\"sk-parallel-item\"><div class=\"sk-item\"><div class=\"sk-label-container\"><div class=\"sk-label sk-toggleable\"><input class=\"sk-toggleable__control sk-hidden--visually\" id=\"sk-estimator-id-3\" type=\"checkbox\" ><label for=\"sk-estimator-id-3\" class=\"sk-toggleable__label sk-toggleable__label-arrow\">num</label><div class=\"sk-toggleable__content\"><pre>[&#x27;room&#x27;, &#x27;living_room&#x27;, &#x27;area&#x27;, &#x27;age&#x27;, &#x27;floor&#x27;]</pre></div></div></div><div class=\"sk-serial\"><div class=\"sk-item\"><div class=\"sk-estimator sk-toggleable\"><input class=\"sk-toggleable__control sk-hidden--visually\" id=\"sk-estimator-id-4\" type=\"checkbox\" ><label for=\"sk-estimator-id-4\" class=\"sk-toggleable__label sk-toggleable__label-arrow\">StandardScaler</label><div class=\"sk-toggleable__content\"><pre>StandardScaler()</pre></div></div></div></div></div></div><div class=\"sk-parallel-item\"><div class=\"sk-item\"><div class=\"sk-label-container\"><div class=\"sk-label sk-toggleable\"><input class=\"sk-toggleable__control sk-hidden--visually\" id=\"sk-estimator-id-5\" type=\"checkbox\" ><label for=\"sk-estimator-id-5\" class=\"sk-toggleable__label sk-toggleable__label-arrow\">cat</label><div class=\"sk-toggleable__content\"><pre>[&#x27;location&#x27;, &#x27;districk&#x27;, &#x27;neighborhood&#x27;]</pre></div></div></div><div class=\"sk-serial\"><div class=\"sk-item\"><div class=\"sk-estimator sk-toggleable\"><input class=\"sk-toggleable__control sk-hidden--visually\" id=\"sk-estimator-id-6\" type=\"checkbox\" ><label for=\"sk-estimator-id-6\" class=\"sk-toggleable__label sk-toggleable__label-arrow\">OneHotEncoder</label><div class=\"sk-toggleable__content\"><pre>OneHotEncoder(handle_unknown=&#x27;ignore&#x27;)</pre></div></div></div></div></div></div></div></div><div class=\"sk-item\"><div class=\"sk-estimator sk-toggleable\"><input class=\"sk-toggleable__control sk-hidden--visually\" id=\"sk-estimator-id-7\" type=\"checkbox\" ><label for=\"sk-estimator-id-7\" class=\"sk-toggleable__label sk-toggleable__label-arrow\">LinearRegression</label><div class=\"sk-toggleable__content\"><pre>LinearRegression()</pre></div></div></div></div></div></div></div>"
      ],
      "text/plain": [
       "Pipeline(steps=[('preprocessor',\n",
       "                 ColumnTransformer(transformers=[('num', StandardScaler(),\n",
       "                                                  ['room', 'living_room',\n",
       "                                                   'area', 'age', 'floor']),\n",
       "                                                 ('cat',\n",
       "                                                  OneHotEncoder(handle_unknown='ignore'),\n",
       "                                                  ['location', 'districk',\n",
       "                                                   'neighborhood'])])),\n",
       "                ('model', LinearRegression())])"
      ]
     },
     "execution_count": 20,
     "metadata": {},
     "output_type": "execute_result"
    }
   ],
   "source": [
    "model.fit(X_train, y_train)"
   ]
  },
  {
   "cell_type": "code",
   "execution_count": 21,
   "metadata": {},
   "outputs": [],
   "source": [
    "y_pred = model.predict(X_test)\n",
    "mse = mean_squared_error(y_test, y_pred)\n",
    "rmse = np.sqrt(mse)\n",
    "r2 = r2_score(y_test, y_pred)"
   ]
  },
  {
   "cell_type": "code",
   "execution_count": null,
   "metadata": {},
   "outputs": [
    {
     "name": "stdout",
     "output_type": "stream",
     "text": [
      "RMSE: 10155.332370166852\n",
      "RMSE: 10155.332370166852\n",
      "R^2: 0.6705099250313324\n"
     ]
    }
   ],
   "source": [
    "print(f\"tüm hatalarıntoplamı RMSE: {rmse}\")\n",
    "print(f\"hatalarının karelerinin ortalamalarının kökü RMSE: {rmse}\")\n",
    "print(f\"skor :R^2: {r2}\")\n"
   ]
  },
  {
   "cell_type": "code",
   "execution_count": 24,
   "metadata": {},
   "outputs": [
    {
     "name": "stdout",
     "output_type": "stream",
     "text": [
      "602\n",
      "[-5.46603941e+02  0.00000000e+00  7.73786029e+03 -5.51229329e+03\n",
      "  1.76103803e+03  5.53950600e-08  1.62486989e+04 -1.52198739e+04\n",
      "  9.92317806e+03 -1.49186832e+04  2.79643705e+03  9.71180036e+03\n",
      "  7.49703951e+02 -8.66907789e+03 -1.25861932e+04 -7.47243663e+03\n",
      " -5.36974394e+03  1.87116396e+04  2.77178224e+04 -7.89735059e+03\n",
      " -4.70188786e+03 -1.35442347e+04  2.00808332e+02  7.64467636e+03\n",
      " -5.31390269e+03 -6.63974531e+03  1.94926645e+04  4.22133721e+02\n",
      "  6.39377958e+02 -3.21043024e+03  1.10137207e+04  4.90752793e+01\n",
      " -7.89593432e+03  8.84923605e+03 -5.51355097e+03 -1.01899324e+04\n",
      " -1.13128392e+04  8.26277190e+02  4.53832974e+03  2.10800783e+04\n",
      " -3.06996997e+03 -1.40163916e+03  7.43988273e+03 -4.19102030e+04\n",
      "  1.87820879e+04  1.27434912e+03  3.04695463e+03 -7.59451994e+03\n",
      "  8.06707992e+03 -3.84889388e+03  4.66957594e+03  5.04859609e+03\n",
      "  7.17019475e+03  3.28504124e+04 -3.25659919e+03 -2.73242600e+03\n",
      "  5.49184855e+03 -7.46762815e+03 -2.86007873e+03 -9.83790513e+03\n",
      "  4.74802027e+04  6.58627420e+03  4.82308510e+03 -3.70995301e+03\n",
      " -2.22694815e+03 -2.07561015e+03  3.49898466e+04  4.76850075e+03\n",
      " -5.28120758e+03 -6.77541577e+03 -2.75563124e+03 -9.15679152e+03\n",
      " -4.22571733e+03 -1.20790966e+04  2.44026965e+04 -3.12438714e+03\n",
      "  4.93021596e+03 -1.93882862e+03 -5.13726848e+03 -5.60315336e+03\n",
      "  4.86045342e+03  8.98535391e+03  1.35620703e+03 -6.16395713e+03\n",
      " -5.75497714e+03  1.41812155e+04  3.40626644e+03  4.25926491e+03\n",
      "  7.93288720e+03  9.04615115e+03  1.31540393e+04  4.23993356e+03\n",
      " -3.71271067e+03  8.82002713e+02  1.76753756e+03  3.17467300e+03\n",
      " -1.08080446e+04 -4.78365306e+03 -1.06420954e+04  1.42827499e+04\n",
      " -2.64283989e+03  1.15494380e+03 -3.65315729e+03  2.35262484e+03\n",
      " -1.19380924e+04 -1.43275103e+04 -1.55894974e+04  7.70825063e+03\n",
      "  2.06779097e+04  5.14210815e+03 -1.21514433e+03  7.98536320e+02\n",
      "  4.45541304e+04  2.63883327e+03  1.45873848e+04 -5.29900799e+03\n",
      " -1.19318924e+02  1.20626240e+03 -3.12094405e+03 -5.85126804e+03\n",
      "  3.80596791e+03  2.67490108e+01  1.52789309e+03 -1.69901055e+03\n",
      " -5.86954370e+03 -4.70342581e+03  5.50134679e+03  8.78200733e+03\n",
      " -1.18919441e+04  2.33532742e+04 -2.95716676e+02  2.10712100e+04\n",
      "  1.78439040e+04 -8.26625093e+03 -3.10345742e+02 -8.18617860e+02\n",
      " -5.62421825e+03 -1.40340057e+04 -1.59107228e+02 -6.58168903e+03\n",
      " -1.88876049e+03 -4.29315197e+03  2.37897084e+03  2.94766990e+03\n",
      " -1.53157935e+04 -6.96860480e+03 -1.28635187e+04  1.36196845e+04\n",
      " -1.02806720e+03  2.30972769e+04  9.48932868e+03  1.82357405e+03\n",
      " -1.46173627e+04 -2.28288026e+03  3.44400596e+01 -8.61641851e+03\n",
      "  6.73973535e+02  1.14396273e+02 -4.88959637e+03 -9.11762808e+03\n",
      " -7.14599357e+02 -4.61264793e+02 -5.51649132e+03  6.15889912e+03\n",
      " -9.73807036e+03 -3.42112542e+03  2.28516015e+04 -1.60762775e+03\n",
      " -1.27664574e+04  3.47781292e+02  3.85154535e+03 -6.16726316e+03\n",
      " -5.35121359e+03  4.57352429e+04 -1.08307448e+04 -2.45901579e+03\n",
      "  9.03014824e+02 -8.62245913e+03 -6.65848870e+03 -2.10886345e+03\n",
      " -6.61694725e+03 -2.75895474e+03  2.46251844e+04 -8.94085276e+03\n",
      "  9.90695319e+03  2.45429635e+04  6.76041748e+03  2.86470369e+04\n",
      "  3.64158225e+03 -2.36288102e+03  5.61905788e+03 -7.77847596e+03\n",
      " -9.25199170e+03  1.06453912e+03  1.82865692e+04 -4.19701697e+03\n",
      " -4.09559862e+03 -1.12499580e+04  2.11828250e+02 -1.39533732e+04\n",
      "  2.18090525e+03 -1.20254364e+04  9.79287066e+02 -8.63165054e+03\n",
      " -3.39909214e+03 -1.10586333e+04  1.25114542e+04  2.24873494e+04\n",
      "  5.13354535e+02 -9.86262288e+03  5.72631762e+03 -2.05258766e+04\n",
      " -9.78692651e+03 -3.60539247e+03 -2.11934898e+04 -3.96151622e+03\n",
      " -4.88534841e+03 -1.72276165e+04  1.01312373e+04  5.78524404e+03\n",
      "  1.18889289e+03 -5.37415177e+03 -1.79609735e+04 -7.86769349e+03\n",
      " -1.47427464e+03 -1.70962281e+04 -9.12077225e+02 -2.83276091e+03\n",
      "  7.84083502e+03  2.39868539e+04  8.01414316e+03 -1.99843715e+04\n",
      " -5.79627058e+03 -2.92733096e+03  5.86565505e+03 -9.91875908e+03\n",
      "  9.61121531e+03 -5.59367161e+03 -1.18136827e+03  2.56028815e+03\n",
      "  1.02758151e+04 -8.30237737e+03 -2.47918071e+03  2.74063031e+03\n",
      " -1.50488014e+03 -2.08104081e+03  2.00104355e+02 -8.11714634e+03\n",
      " -3.91132809e+03 -1.89205843e+04  1.56921279e+04  1.57019158e+03\n",
      "  1.12348495e+04 -1.96443276e+04 -2.31818067e+03 -2.69468145e+04\n",
      "  4.07039527e+03 -5.96591096e+03 -1.02999457e+03 -4.57296545e+03\n",
      " -5.82102745e+03 -2.58804658e+03  1.33883388e+03 -6.02125286e+03\n",
      "  8.90165834e+03 -9.98032024e+03  6.90300776e+03  9.42876168e+03\n",
      " -6.87167904e+03 -2.81935360e+03 -1.38855948e+04 -8.85667906e+03\n",
      " -1.61634838e+04 -7.85309694e+03 -1.50530140e+04  7.62077361e+03\n",
      " -7.32703564e+03  1.05513313e+04  1.92379022e+04 -1.81315490e+04\n",
      "  6.07958069e+03 -5.35334748e+03  4.12817467e+02  1.54780556e+04\n",
      "  3.68673884e+03 -6.35171303e+02  7.05737634e+02 -4.13232521e+03\n",
      " -6.03726691e+03 -8.36443321e+03  4.06861858e+03 -7.87964865e+03\n",
      " -1.51903650e+04  7.02074419e+03 -3.36267881e+03 -8.76283879e+03\n",
      "  5.55908893e+04 -4.29890201e+03 -1.02272088e+04  2.51057716e+04\n",
      " -3.58823982e+03 -4.50674340e+03 -4.64382717e+01  2.68706877e+04\n",
      " -1.86768006e+03  1.28107194e+04 -5.65581493e+03 -9.18776896e+03\n",
      " -6.91632160e+03 -1.05512053e+04 -3.05606659e+03  7.10153443e+03\n",
      "  3.00102668e+03  3.44912235e+03 -5.36437210e+03 -1.41843553e+04\n",
      " -1.13407125e+04  3.46678889e+03  5.65669048e+04 -8.83989535e+03\n",
      " -2.83419927e+03  2.48994534e+04  1.92233510e+04 -2.18871000e+04\n",
      "  2.06334471e+04 -1.35864825e+04 -1.19328958e+04 -3.16424479e+03\n",
      " -9.40309451e+03 -4.77506091e+02  1.24936606e+04 -1.04869209e+04\n",
      "  7.43688596e+04  1.11024942e+04 -6.73243229e+03  2.04458079e+03\n",
      "  1.46629648e+04 -2.69255154e+04  8.72086764e+02  8.12134112e+03\n",
      "  4.81960618e+03  2.12638619e+03  1.63073134e+04  4.04448032e+03\n",
      " -9.34973691e+03 -1.69928294e+04  9.57489894e+03 -3.56741550e+03\n",
      " -1.29393223e+03  1.31211145e+04 -5.04873227e+03 -4.89356918e+03\n",
      " -6.74832974e+03  2.29923760e+03 -3.47655027e+03 -2.96147400e+03\n",
      " -1.12779222e+03 -7.84774249e+03  5.04124937e+02 -2.86149874e+03\n",
      " -1.76148568e+03  1.06812375e+04  3.67772754e+03 -9.26732580e+03\n",
      " -5.56568819e+03 -4.21109129e+03 -2.35088675e+03 -5.82879712e+03\n",
      " -6.89266079e+03 -1.31066879e+04  4.05950505e+03  9.18068593e+03\n",
      "  8.27283935e+02 -6.28812793e+03  2.35168053e+02  1.07272765e+03\n",
      " -8.03993308e+03  9.65437844e+03  4.22404585e+03  1.49005421e+03\n",
      "  4.61593080e+03 -9.33642542e+03 -6.22172360e+03 -1.50826009e+03\n",
      " -1.02140611e+04  7.63421401e+03 -6.80398119e+03  1.91993365e+03\n",
      " -1.12397749e+04  2.11392651e+03 -4.58521849e+03 -3.04928769e+03\n",
      " -4.41918173e+03 -3.13773215e+03 -4.42872172e+03 -8.33623633e+03\n",
      " -1.81677760e+04  1.04535243e+04  7.44199911e+03 -6.40466717e+03\n",
      " -1.91605765e+04 -7.59285193e+02 -2.86158113e+04  8.53812287e+03\n",
      " -5.22650041e+03  1.93593858e+04 -6.86656988e+03 -9.68327352e+02\n",
      "  2.49443838e+03  6.57095920e+03 -6.49015681e+03 -4.95919398e+03\n",
      "  2.26138121e+04  2.23254836e+04  4.81381353e+03  8.46174349e+03\n",
      " -4.01775993e+03  2.58117664e+03 -3.61279258e+03 -6.06223808e+03\n",
      "  3.38717922e+03  1.98029948e+03  5.84834716e+03  6.68950189e+03\n",
      " -7.79037868e+03 -6.63305285e+03  1.43217584e+04  4.92114404e+02\n",
      "  1.13695150e+04 -8.17087309e+03 -1.14237671e+03  4.17372837e+03\n",
      "  6.49754499e+03 -5.93768878e+03  1.16344258e+03 -4.93424328e+03\n",
      " -1.67348280e+02 -5.96699795e+03  5.89921520e+03 -1.40493988e+04\n",
      " -5.08771812e+03 -4.38993336e+03  4.14137328e+04 -6.05281299e+03\n",
      "  7.23001055e+03 -9.11448888e+02  9.83068010e+03  1.30748169e+04\n",
      " -1.02867786e+04 -3.46933693e+03 -2.58227488e+03 -4.85639729e+03\n",
      "  2.69672757e+03  6.62153113e+03 -1.76746832e+04 -4.12444377e+03\n",
      " -5.73018355e+03 -7.54043297e+03 -9.49393738e+03 -1.70214040e+04\n",
      "  3.28513669e+03 -3.72736725e+03  8.96161221e+03  5.62337048e+03\n",
      "  4.65051159e+02 -3.76117670e+03 -2.15040722e+03 -6.92551695e+03\n",
      "  1.41282132e+03 -3.87659945e+03  2.15552087e+04  5.80493198e+03\n",
      "  1.89811255e+04 -1.30748633e+04 -7.55096771e+03 -7.18454179e+03\n",
      "  7.13447209e+03  4.55888216e+03 -4.67841769e+03 -6.25904701e+03\n",
      "  1.61701021e+03 -1.42232697e+04  3.65363972e+03  2.46698151e+04\n",
      "  1.37768749e+03 -2.30430262e+03 -6.27815248e+03 -9.22141467e+03\n",
      " -1.21273223e+04  4.15941637e+03  2.90244767e+03 -2.94617885e+03\n",
      " -2.06848302e+03 -4.94023523e+03 -4.65994279e+03 -4.81147933e+03\n",
      "  1.12902459e+04  5.71048350e+03 -1.22596042e+04 -5.65180892e+03\n",
      " -2.03520461e+03 -7.39461781e+03 -1.33515352e+04 -1.16726856e+04\n",
      " -1.98193918e+03 -6.72033744e+03 -4.98813635e+02 -6.30233493e+03\n",
      " -1.21669142e+04 -4.03008316e+03 -2.38579600e+03 -5.25300731e+03\n",
      " -1.12557608e+04  2.08261237e+04 -6.74946544e+02 -1.03342321e+04\n",
      " -5.30285403e+03 -3.30279135e+03  1.66709485e+04 -6.97840030e+03\n",
      " -4.06844069e+03 -1.05109444e+04  1.53563211e+04  5.02836196e+03\n",
      "  2.44991195e+03 -1.19762343e+03 -4.94996902e+03 -6.29297969e+03\n",
      " -7.43983723e+03  2.24317300e+03  4.78098980e+03 -8.13888478e+03\n",
      "  1.55241423e+04 -3.05932132e+03 -5.17716311e+03 -2.14732509e+04\n",
      "  1.21891732e+04  5.29744072e+03 -1.28835377e+03  6.00673191e+03\n",
      " -1.49831073e+04 -1.10104607e+03 -9.88094118e+03  1.44217725e+03\n",
      " -5.33233721e+03  1.89007736e+03 -8.20241378e+03 -1.48295817e+04\n",
      " -1.27185245e+04  4.08618503e+04  8.01444520e+02  6.76687890e+04\n",
      " -4.58421398e+03  1.57646766e+03  5.14142282e+03  1.56098585e+04\n",
      "  1.98615523e+03  2.41171757e+04 -1.76953264e+02 -8.93846247e+03\n",
      "  5.51990774e+03 -1.45242493e+04 -2.17877823e+03 -7.45839964e+03\n",
      " -9.56188224e+03 -5.00495011e+03  7.88207431e+03 -6.88838779e+03\n",
      "  3.20475868e+04 -1.13565833e+04  1.42462478e+04  2.70279921e+03\n",
      " -6.08232058e+03 -4.24702270e+03 -1.38270003e+03 -1.99652351e+03\n",
      "  3.13967409e+03 -6.48620395e+03  4.70331598e+03 -6.13342851e+03\n",
      " -5.39828446e+03 -9.18470236e+03  6.20368468e+03 -6.03162444e+02\n",
      " -2.30262267e+03 -2.26374064e+03  1.42137150e+00 -1.94994043e+04\n",
      " -8.21369247e+03 -1.98828134e+04  9.95050837e+03  4.45491168e+03\n",
      " -1.01910396e+04 -8.92948041e+03 -4.50375763e+03  7.31783025e+03\n",
      "  1.21408044e+04  3.38501349e+04 -5.89333071e+03 -9.13789879e+03\n",
      " -7.45825447e+03 -5.87814153e+03]\n"
     ]
    }
   ],
   "source": [
    "feature_importances = model.named_steps['model'].coef_\n",
    "print(len(feature_importances))\n",
    "print(feature_importances)"
   ]
  },
  {
   "cell_type": "code",
   "execution_count": 26,
   "metadata": {},
   "outputs": [
    {
     "name": "stdout",
     "output_type": "stream",
     "text": [
      "Numerical features:\n",
      "room: -546.6039409516719\n",
      "living_room: 0.0\n",
      "area: 7737.860288625303\n",
      "age: -5512.293285336227\n",
      "floor: 1761.0380250249661\n"
     ]
    }
   ],
   "source": [
    "print(\"Numerical features:\")\n",
    "for i in range(len(numerical_features)):\n",
    "    print(f\"{numerical_features[i]}: {feature_importances[i]}\")"
   ]
  },
  {
   "cell_type": "code",
   "execution_count": 31,
   "metadata": {},
   "outputs": [],
   "source": [
    "new_data = pd.DataFrame({\n",
    "    'room': [3],\n",
    "    'living_room': [1],\n",
    "    'area': [120],\n",
    "    'age': [5],\n",
    "    'floor': [2],\n",
    "    'location': ['İstanbul'],\n",
    "    'districk': ['Fatih'],\n",
    "    'neighborhood': ['Derviş Ali Mah.']\n",
    "})"
   ]
  },
  {
   "cell_type": "code",
   "execution_count": 32,
   "metadata": {},
   "outputs": [
    {
     "name": "stdout",
     "output_type": "stream",
     "text": [
      "   room  living_room  area  age  floor  location districk     neighborhood\n",
      "0     3            1   120    5      2  İstanbul    Fatih  Derviş Ali Mah.\n"
     ]
    }
   ],
   "source": [
    "print(new_data)"
   ]
  },
  {
   "cell_type": "code",
   "execution_count": 33,
   "metadata": {},
   "outputs": [
    {
     "name": "stdout",
     "output_type": "stream",
     "text": [
      "[37305.25998861]\n"
     ]
    }
   ],
   "source": [
    "print(model.predict(new_data))"
   ]
  },
  {
   "cell_type": "code",
   "execution_count": null,
   "metadata": {},
   "outputs": [],
   "source": []
  }
 ],
 "metadata": {
  "kernelspec": {
   "display_name": "Python 3",
   "language": "python",
   "name": "python3"
  },
  "language_info": {
   "codemirror_mode": {
    "name": "ipython",
    "version": 3
   },
   "file_extension": ".py",
   "mimetype": "text/x-python",
   "name": "python",
   "nbconvert_exporter": "python",
   "pygments_lexer": "ipython3",
   "version": "3.11.4"
  }
 },
 "nbformat": 4,
 "nbformat_minor": 2
}
