{
 "cells": [
  {
   "cell_type": "code",
   "execution_count": 1,
   "id": "e62e2398",
   "metadata": {},
   "outputs": [],
   "source": [
    "import tensorflow as tf\n",
    "import pandas as pd\n",
    "import numpy as np\n",
    "from sklearn.model_selection import train_test_split\n",
    "from sklearn.preprocessing import StandardScaler\n",
    "import matplotlib.pyplot as plt"
   ]
  },
  {
   "cell_type": "code",
   "execution_count": 2,
   "id": "65924ece",
   "metadata": {},
   "outputs": [],
   "source": [
    "# Veriyi yükle\n",
    "data = pd.read_csv('numericData.csv')  # Dosya adını kendi dosyanıza göre değiştirin"
   ]
  },
  {
   "cell_type": "code",
   "execution_count": 3,
   "id": "a2e043a2",
   "metadata": {},
   "outputs": [],
   "source": [
    "X = data[['living_room', 'area', 'age', 'floor']].values  # Girdi özellikleri\n",
    "y = data['price'].values  # Çıktı (fiyat)"
   ]
  },
  {
   "cell_type": "code",
   "execution_count": 4,
   "id": "6a4ef73c",
   "metadata": {},
   "outputs": [],
   "source": [
    "scaler = StandardScaler()\n",
    "X_scaled = scaler.fit_transform(X)"
   ]
  },
  {
   "cell_type": "code",
   "execution_count": 5,
   "id": "e4e413f1",
   "metadata": {},
   "outputs": [],
   "source": [
    "X_train, X_test, y_train, y_test = train_test_split(X_scaled, y, test_size=0.2, random_state=42)"
   ]
  },
  {
   "cell_type": "code",
   "execution_count": 6,
   "id": "fad14f55",
   "metadata": {},
   "outputs": [
    {
     "name": "stderr",
     "output_type": "stream",
     "text": [
      "c:\\Users\\fatih\\AppData\\Local\\Programs\\Python\\Python310\\lib\\site-packages\\keras\\src\\layers\\core\\dense.py:93: UserWarning: Do not pass an `input_shape`/`input_dim` argument to a layer. When using Sequential models, prefer using an `Input(shape)` object as the first layer in the model instead.\n",
      "  super().__init__(activity_regularizer=activity_regularizer, **kwargs)\n"
     ]
    }
   ],
   "source": [
    "model = tf.keras.Sequential([\n",
    "    tf.keras.layers.Dense(64, activation='relu', input_shape=(4,)),  # 4 giriş\n",
    "    tf.keras.layers.Dense(32, activation='relu'),\n",
    "    tf.keras.layers.Dense(16, activation='relu'),\n",
    "    tf.keras.layers.Dense(1)  # Tek çıkış (price), aktivasyon yok çünkü regresyon\n",
    "])"
   ]
  },
  {
   "cell_type": "code",
   "execution_count": 7,
   "id": "5a2fdbf8",
   "metadata": {},
   "outputs": [],
   "source": [
    "model.compile(optimizer='adam', loss='mean_squared_error', metrics=['mae'])"
   ]
  },
  {
   "cell_type": "code",
   "execution_count": 8,
   "id": "3049e37b",
   "metadata": {},
   "outputs": [
    {
     "name": "stdout",
     "output_type": "stream",
     "text": [
      "Epoch 1/100\n",
      "\u001b[1m147/147\u001b[0m \u001b[32m━━━━━━━━━━━━━━━━━━━━\u001b[0m\u001b[37m\u001b[0m \u001b[1m3s\u001b[0m 4ms/step - loss: 1288151296.0000 - mae: 31072.2070 - val_loss: 1352795136.0000 - val_mae: 31618.8574\n",
      "Epoch 2/100\n",
      "\u001b[1m147/147\u001b[0m \u001b[32m━━━━━━━━━━━━━━━━━━━━\u001b[0m\u001b[37m\u001b[0m \u001b[1m0s\u001b[0m 2ms/step - loss: 1331657728.0000 - mae: 31344.9609 - val_loss: 1213211136.0000 - val_mae: 29546.8750\n",
      "Epoch 3/100\n",
      "\u001b[1m147/147\u001b[0m \u001b[32m━━━━━━━━━━━━━━━━━━━━\u001b[0m\u001b[37m\u001b[0m \u001b[1m0s\u001b[0m 2ms/step - loss: 1081925376.0000 - mae: 27652.4023 - val_loss: 710832832.0000 - val_mae: 20501.0156\n",
      "Epoch 4/100\n",
      "\u001b[1m147/147\u001b[0m \u001b[32m━━━━━━━━━━━━━━━━━━━━\u001b[0m\u001b[37m\u001b[0m \u001b[1m0s\u001b[0m 2ms/step - loss: 552352832.0000 - mae: 17383.7402 - val_loss: 307642560.0000 - val_mae: 11835.3701\n",
      "Epoch 5/100\n",
      "\u001b[1m147/147\u001b[0m \u001b[32m━━━━━━━━━━━━━━━━━━━━\u001b[0m\u001b[37m\u001b[0m \u001b[1m0s\u001b[0m 2ms/step - loss: 260263568.0000 - mae: 11364.9219 - val_loss: 266635088.0000 - val_mae: 11633.4619\n",
      "Epoch 6/100\n",
      "\u001b[1m147/147\u001b[0m \u001b[32m━━━━━━━━━━━━━━━━━━━━\u001b[0m\u001b[37m\u001b[0m \u001b[1m0s\u001b[0m 2ms/step - loss: 243905296.0000 - mae: 11458.4873 - val_loss: 263492784.0000 - val_mae: 11669.0801\n",
      "Epoch 7/100\n",
      "\u001b[1m147/147\u001b[0m \u001b[32m━━━━━━━━━━━━━━━━━━━━\u001b[0m\u001b[37m\u001b[0m \u001b[1m0s\u001b[0m 1ms/step - loss: 241043376.0000 - mae: 11457.5420 - val_loss: 262127328.0000 - val_mae: 11722.1201\n",
      "Epoch 8/100\n",
      "\u001b[1m147/147\u001b[0m \u001b[32m━━━━━━━━━━━━━━━━━━━━\u001b[0m\u001b[37m\u001b[0m \u001b[1m0s\u001b[0m 1ms/step - loss: 233491968.0000 - mae: 11280.7490 - val_loss: 261335504.0000 - val_mae: 11744.0459\n",
      "Epoch 9/100\n",
      "\u001b[1m147/147\u001b[0m \u001b[32m━━━━━━━━━━━━━━━━━━━━\u001b[0m\u001b[37m\u001b[0m \u001b[1m0s\u001b[0m 2ms/step - loss: 252283456.0000 - mae: 11679.6592 - val_loss: 260607072.0000 - val_mae: 11730.3906\n",
      "Epoch 10/100\n",
      "\u001b[1m147/147\u001b[0m \u001b[32m━━━━━━━━━━━━━━━━━━━━\u001b[0m\u001b[37m\u001b[0m \u001b[1m0s\u001b[0m 2ms/step - loss: 243293712.0000 - mae: 11588.4111 - val_loss: 260025952.0000 - val_mae: 11647.3271\n",
      "Epoch 11/100\n",
      "\u001b[1m147/147\u001b[0m \u001b[32m━━━━━━━━━━━━━━━━━━━━\u001b[0m\u001b[37m\u001b[0m \u001b[1m0s\u001b[0m 1ms/step - loss: 242686848.0000 - mae: 11445.1396 - val_loss: 259629232.0000 - val_mae: 11638.3359\n",
      "Epoch 12/100\n",
      "\u001b[1m147/147\u001b[0m \u001b[32m━━━━━━━━━━━━━━━━━━━━\u001b[0m\u001b[37m\u001b[0m \u001b[1m0s\u001b[0m 2ms/step - loss: 240615376.0000 - mae: 11531.6426 - val_loss: 259322448.0000 - val_mae: 11614.5225\n",
      "Epoch 13/100\n",
      "\u001b[1m147/147\u001b[0m \u001b[32m━━━━━━━━━━━━━━━━━━━━\u001b[0m\u001b[37m\u001b[0m \u001b[1m0s\u001b[0m 1ms/step - loss: 235985200.0000 - mae: 11201.0166 - val_loss: 259297808.0000 - val_mae: 11771.7832\n",
      "Epoch 14/100\n",
      "\u001b[1m147/147\u001b[0m \u001b[32m━━━━━━━━━━━━━━━━━━━━\u001b[0m\u001b[37m\u001b[0m \u001b[1m0s\u001b[0m 1ms/step - loss: 235364624.0000 - mae: 11368.3828 - val_loss: 258625616.0000 - val_mae: 11624.0723\n",
      "Epoch 15/100\n",
      "\u001b[1m147/147\u001b[0m \u001b[32m━━━━━━━━━━━━━━━━━━━━\u001b[0m\u001b[37m\u001b[0m \u001b[1m0s\u001b[0m 2ms/step - loss: 240297280.0000 - mae: 11474.9609 - val_loss: 258571328.0000 - val_mae: 11667.9121\n",
      "Epoch 16/100\n",
      "\u001b[1m147/147\u001b[0m \u001b[32m━━━━━━━━━━━━━━━━━━━━\u001b[0m\u001b[37m\u001b[0m \u001b[1m0s\u001b[0m 2ms/step - loss: 232346368.0000 - mae: 11280.2031 - val_loss: 258274544.0000 - val_mae: 11601.3408\n",
      "Epoch 17/100\n",
      "\u001b[1m147/147\u001b[0m \u001b[32m━━━━━━━━━━━━━━━━━━━━\u001b[0m\u001b[37m\u001b[0m \u001b[1m0s\u001b[0m 2ms/step - loss: 234387168.0000 - mae: 11361.3516 - val_loss: 258117072.0000 - val_mae: 11577.8447\n",
      "Epoch 18/100\n",
      "\u001b[1m147/147\u001b[0m \u001b[32m━━━━━━━━━━━━━━━━━━━━\u001b[0m\u001b[37m\u001b[0m \u001b[1m0s\u001b[0m 2ms/step - loss: 233928880.0000 - mae: 11362.3008 - val_loss: 257986112.0000 - val_mae: 11659.5762\n",
      "Epoch 19/100\n",
      "\u001b[1m147/147\u001b[0m \u001b[32m━━━━━━━━━━━━━━━━━━━━\u001b[0m\u001b[37m\u001b[0m \u001b[1m0s\u001b[0m 1ms/step - loss: 233850848.0000 - mae: 11340.1084 - val_loss: 257809328.0000 - val_mae: 11564.1348\n",
      "Epoch 20/100\n",
      "\u001b[1m147/147\u001b[0m \u001b[32m━━━━━━━━━━━━━━━━━━━━\u001b[0m\u001b[37m\u001b[0m \u001b[1m0s\u001b[0m 2ms/step - loss: 233705376.0000 - mae: 11302.8379 - val_loss: 257626048.0000 - val_mae: 11572.8496\n",
      "Epoch 21/100\n",
      "\u001b[1m147/147\u001b[0m \u001b[32m━━━━━━━━━━━━━━━━━━━━\u001b[0m\u001b[37m\u001b[0m \u001b[1m0s\u001b[0m 1ms/step - loss: 237452048.0000 - mae: 11330.3896 - val_loss: 257517920.0000 - val_mae: 11557.2051\n",
      "Epoch 22/100\n",
      "\u001b[1m147/147\u001b[0m \u001b[32m━━━━━━━━━━━━━━━━━━━━\u001b[0m\u001b[37m\u001b[0m \u001b[1m0s\u001b[0m 1ms/step - loss: 226696832.0000 - mae: 11185.0000 - val_loss: 257277648.0000 - val_mae: 11649.0215\n",
      "Epoch 23/100\n",
      "\u001b[1m147/147\u001b[0m \u001b[32m━━━━━━━━━━━━━━━━━━━━\u001b[0m\u001b[37m\u001b[0m \u001b[1m0s\u001b[0m 2ms/step - loss: 244045008.0000 - mae: 11598.5674 - val_loss: 257342304.0000 - val_mae: 11532.1660\n",
      "Epoch 24/100\n",
      "\u001b[1m147/147\u001b[0m \u001b[32m━━━━━━━━━━━━━━━━━━━━\u001b[0m\u001b[37m\u001b[0m \u001b[1m0s\u001b[0m 2ms/step - loss: 231454464.0000 - mae: 11162.2139 - val_loss: 257117392.0000 - val_mae: 11552.8486\n",
      "Epoch 25/100\n",
      "\u001b[1m147/147\u001b[0m \u001b[32m━━━━━━━━━━━━━━━━━━━━\u001b[0m\u001b[37m\u001b[0m \u001b[1m0s\u001b[0m 2ms/step - loss: 224943376.0000 - mae: 11166.8535 - val_loss: 257175840.0000 - val_mae: 11525.9717\n",
      "Epoch 26/100\n",
      "\u001b[1m147/147\u001b[0m \u001b[32m━━━━━━━━━━━━━━━━━━━━\u001b[0m\u001b[37m\u001b[0m \u001b[1m0s\u001b[0m 2ms/step - loss: 230868784.0000 - mae: 11181.7432 - val_loss: 256821056.0000 - val_mae: 11619.0420\n",
      "Epoch 27/100\n",
      "\u001b[1m147/147\u001b[0m \u001b[32m━━━━━━━━━━━━━━━━━━━━\u001b[0m\u001b[37m\u001b[0m \u001b[1m0s\u001b[0m 1ms/step - loss: 224911808.0000 - mae: 11107.2871 - val_loss: 256690512.0000 - val_mae: 11618.7266\n",
      "Epoch 28/100\n",
      "\u001b[1m147/147\u001b[0m \u001b[32m━━━━━━━━━━━━━━━━━━━━\u001b[0m\u001b[37m\u001b[0m \u001b[1m0s\u001b[0m 1ms/step - loss: 223624592.0000 - mae: 11048.3818 - val_loss: 256639936.0000 - val_mae: 11616.4775\n",
      "Epoch 29/100\n",
      "\u001b[1m147/147\u001b[0m \u001b[32m━━━━━━━━━━━━━━━━━━━━\u001b[0m\u001b[37m\u001b[0m \u001b[1m0s\u001b[0m 1ms/step - loss: 238394048.0000 - mae: 11539.0488 - val_loss: 256507040.0000 - val_mae: 11558.0996\n",
      "Epoch 30/100\n",
      "\u001b[1m147/147\u001b[0m \u001b[32m━━━━━━━━━━━━━━━━━━━━\u001b[0m\u001b[37m\u001b[0m \u001b[1m0s\u001b[0m 1ms/step - loss: 234567296.0000 - mae: 11345.1104 - val_loss: 256445696.0000 - val_mae: 11569.7979\n",
      "Epoch 31/100\n",
      "\u001b[1m147/147\u001b[0m \u001b[32m━━━━━━━━━━━━━━━━━━━━\u001b[0m\u001b[37m\u001b[0m \u001b[1m0s\u001b[0m 2ms/step - loss: 229744496.0000 - mae: 11272.5898 - val_loss: 256364512.0000 - val_mae: 11561.1875\n",
      "Epoch 32/100\n",
      "\u001b[1m147/147\u001b[0m \u001b[32m━━━━━━━━━━━━━━━━━━━━\u001b[0m\u001b[37m\u001b[0m \u001b[1m0s\u001b[0m 1ms/step - loss: 239396768.0000 - mae: 11446.3877 - val_loss: 256288528.0000 - val_mae: 11582.2012\n",
      "Epoch 33/100\n",
      "\u001b[1m147/147\u001b[0m \u001b[32m━━━━━━━━━━━━━━━━━━━━\u001b[0m\u001b[37m\u001b[0m \u001b[1m0s\u001b[0m 2ms/step - loss: 245724816.0000 - mae: 11625.5957 - val_loss: 256400416.0000 - val_mae: 11488.8662\n",
      "Epoch 34/100\n",
      "\u001b[1m147/147\u001b[0m \u001b[32m━━━━━━━━━━━━━━━━━━━━\u001b[0m\u001b[37m\u001b[0m \u001b[1m0s\u001b[0m 2ms/step - loss: 229800256.0000 - mae: 11094.0654 - val_loss: 256099120.0000 - val_mae: 11556.2832\n",
      "Epoch 35/100\n",
      "\u001b[1m147/147\u001b[0m \u001b[32m━━━━━━━━━━━━━━━━━━━━\u001b[0m\u001b[37m\u001b[0m \u001b[1m0s\u001b[0m 2ms/step - loss: 234386816.0000 - mae: 11183.2842 - val_loss: 256060656.0000 - val_mae: 11534.0420\n",
      "Epoch 36/100\n",
      "\u001b[1m147/147\u001b[0m \u001b[32m━━━━━━━━━━━━━━━━━━━━\u001b[0m\u001b[37m\u001b[0m \u001b[1m0s\u001b[0m 2ms/step - loss: 243788800.0000 - mae: 11391.5811 - val_loss: 255965920.0000 - val_mae: 11537.2773\n",
      "Epoch 37/100\n",
      "\u001b[1m147/147\u001b[0m \u001b[32m━━━━━━━━━━━━━━━━━━━━\u001b[0m\u001b[37m\u001b[0m \u001b[1m0s\u001b[0m 1ms/step - loss: 235595104.0000 - mae: 11279.1475 - val_loss: 255862464.0000 - val_mae: 11535.9004\n",
      "Epoch 38/100\n",
      "\u001b[1m147/147\u001b[0m \u001b[32m━━━━━━━━━━━━━━━━━━━━\u001b[0m\u001b[37m\u001b[0m \u001b[1m0s\u001b[0m 2ms/step - loss: 232310032.0000 - mae: 11218.0732 - val_loss: 255816496.0000 - val_mae: 11548.9492\n",
      "Epoch 39/100\n",
      "\u001b[1m147/147\u001b[0m \u001b[32m━━━━━━━━━━━━━━━━━━━━\u001b[0m\u001b[37m\u001b[0m \u001b[1m0s\u001b[0m 2ms/step - loss: 223812096.0000 - mae: 11162.5488 - val_loss: 255705168.0000 - val_mae: 11589.2334\n",
      "Epoch 40/100\n",
      "\u001b[1m147/147\u001b[0m \u001b[32m━━━━━━━━━━━━━━━━━━━━\u001b[0m\u001b[37m\u001b[0m \u001b[1m0s\u001b[0m 1ms/step - loss: 252351888.0000 - mae: 11742.5088 - val_loss: 255719264.0000 - val_mae: 11511.7979\n",
      "Epoch 41/100\n",
      "\u001b[1m147/147\u001b[0m \u001b[32m━━━━━━━━━━━━━━━━━━━━\u001b[0m\u001b[37m\u001b[0m \u001b[1m0s\u001b[0m 2ms/step - loss: 230111072.0000 - mae: 11117.8145 - val_loss: 255671056.0000 - val_mae: 11586.0029\n",
      "Epoch 42/100\n",
      "\u001b[1m147/147\u001b[0m \u001b[32m━━━━━━━━━━━━━━━━━━━━\u001b[0m\u001b[37m\u001b[0m \u001b[1m0s\u001b[0m 1ms/step - loss: 241258544.0000 - mae: 11380.3232 - val_loss: 255626000.0000 - val_mae: 11584.6426\n",
      "Epoch 43/100\n",
      "\u001b[1m147/147\u001b[0m \u001b[32m━━━━━━━━━━━━━━━━━━━━\u001b[0m\u001b[37m\u001b[0m \u001b[1m0s\u001b[0m 2ms/step - loss: 228240400.0000 - mae: 11284.4736 - val_loss: 255620480.0000 - val_mae: 11531.3154\n",
      "Epoch 44/100\n",
      "\u001b[1m147/147\u001b[0m \u001b[32m━━━━━━━━━━━━━━━━━━━━\u001b[0m\u001b[37m\u001b[0m \u001b[1m0s\u001b[0m 2ms/step - loss: 232628032.0000 - mae: 11284.0684 - val_loss: 256028560.0000 - val_mae: 11440.1553\n",
      "Epoch 45/100\n",
      "\u001b[1m147/147\u001b[0m \u001b[32m━━━━━━━━━━━━━━━━━━━━\u001b[0m\u001b[37m\u001b[0m \u001b[1m0s\u001b[0m 2ms/step - loss: 236224816.0000 - mae: 11184.0889 - val_loss: 255553200.0000 - val_mae: 11487.1670\n",
      "Epoch 46/100\n",
      "\u001b[1m147/147\u001b[0m \u001b[32m━━━━━━━━━━━━━━━━━━━━\u001b[0m\u001b[37m\u001b[0m \u001b[1m0s\u001b[0m 1ms/step - loss: 226110256.0000 - mae: 11081.4521 - val_loss: 255381184.0000 - val_mae: 11559.6143\n",
      "Epoch 47/100\n",
      "\u001b[1m147/147\u001b[0m \u001b[32m━━━━━━━━━━━━━━━━━━━━\u001b[0m\u001b[37m\u001b[0m \u001b[1m0s\u001b[0m 2ms/step - loss: 223490448.0000 - mae: 11026.2344 - val_loss: 255381072.0000 - val_mae: 11596.2168\n",
      "Epoch 48/100\n",
      "\u001b[1m147/147\u001b[0m \u001b[32m━━━━━━━━━━━━━━━━━━━━\u001b[0m\u001b[37m\u001b[0m \u001b[1m0s\u001b[0m 2ms/step - loss: 226202384.0000 - mae: 11149.0098 - val_loss: 255375552.0000 - val_mae: 11576.8379\n",
      "Epoch 49/100\n",
      "\u001b[1m147/147\u001b[0m \u001b[32m━━━━━━━━━━━━━━━━━━━━\u001b[0m\u001b[37m\u001b[0m \u001b[1m0s\u001b[0m 2ms/step - loss: 223696048.0000 - mae: 11104.0596 - val_loss: 255358000.0000 - val_mae: 11490.2080\n",
      "Epoch 50/100\n",
      "\u001b[1m147/147\u001b[0m \u001b[32m━━━━━━━━━━━━━━━━━━━━\u001b[0m\u001b[37m\u001b[0m \u001b[1m0s\u001b[0m 2ms/step - loss: 225317488.0000 - mae: 11065.8574 - val_loss: 255343040.0000 - val_mae: 11479.8086\n",
      "Epoch 51/100\n",
      "\u001b[1m147/147\u001b[0m \u001b[32m━━━━━━━━━━━━━━━━━━━━\u001b[0m\u001b[37m\u001b[0m \u001b[1m0s\u001b[0m 2ms/step - loss: 233218736.0000 - mae: 11109.1650 - val_loss: 255154672.0000 - val_mae: 11534.5039\n",
      "Epoch 52/100\n",
      "\u001b[1m147/147\u001b[0m \u001b[32m━━━━━━━━━━━━━━━━━━━━\u001b[0m\u001b[37m\u001b[0m \u001b[1m0s\u001b[0m 2ms/step - loss: 232857856.0000 - mae: 11246.6797 - val_loss: 255441712.0000 - val_mae: 11456.8604\n",
      "Epoch 53/100\n",
      "\u001b[1m147/147\u001b[0m \u001b[32m━━━━━━━━━━━━━━━━━━━━\u001b[0m\u001b[37m\u001b[0m \u001b[1m0s\u001b[0m 2ms/step - loss: 238926368.0000 - mae: 11324.7715 - val_loss: 255084032.0000 - val_mae: 11522.4551\n",
      "Epoch 54/100\n",
      "\u001b[1m147/147\u001b[0m \u001b[32m━━━━━━━━━━━━━━━━━━━━\u001b[0m\u001b[37m\u001b[0m \u001b[1m0s\u001b[0m 2ms/step - loss: 240402608.0000 - mae: 11344.3730 - val_loss: 255088432.0000 - val_mae: 11510.1729\n",
      "Epoch 55/100\n",
      "\u001b[1m147/147\u001b[0m \u001b[32m━━━━━━━━━━━━━━━━━━━━\u001b[0m\u001b[37m\u001b[0m \u001b[1m0s\u001b[0m 2ms/step - loss: 237176432.0000 - mae: 11322.2676 - val_loss: 255109440.0000 - val_mae: 11516.4414\n",
      "Epoch 56/100\n",
      "\u001b[1m147/147\u001b[0m \u001b[32m━━━━━━━━━━━━━━━━━━━━\u001b[0m\u001b[37m\u001b[0m \u001b[1m0s\u001b[0m 2ms/step - loss: 222136432.0000 - mae: 10985.9980 - val_loss: 255036336.0000 - val_mae: 11543.2666\n",
      "Epoch 57/100\n",
      "\u001b[1m147/147\u001b[0m \u001b[32m━━━━━━━━━━━━━━━━━━━━\u001b[0m\u001b[37m\u001b[0m \u001b[1m0s\u001b[0m 2ms/step - loss: 232584176.0000 - mae: 11241.9932 - val_loss: 255118064.0000 - val_mae: 11470.7656\n",
      "Epoch 58/100\n",
      "\u001b[1m147/147\u001b[0m \u001b[32m━━━━━━━━━━━━━━━━━━━━\u001b[0m\u001b[37m\u001b[0m \u001b[1m0s\u001b[0m 2ms/step - loss: 224638736.0000 - mae: 11114.0049 - val_loss: 255018448.0000 - val_mae: 11522.0986\n",
      "Epoch 59/100\n",
      "\u001b[1m147/147\u001b[0m \u001b[32m━━━━━━━━━━━━━━━━━━━━\u001b[0m\u001b[37m\u001b[0m \u001b[1m0s\u001b[0m 2ms/step - loss: 232630512.0000 - mae: 11327.5566 - val_loss: 254971024.0000 - val_mae: 11510.8213\n",
      "Epoch 60/100\n",
      "\u001b[1m147/147\u001b[0m \u001b[32m━━━━━━━━━━━━━━━━━━━━\u001b[0m\u001b[37m\u001b[0m \u001b[1m0s\u001b[0m 2ms/step - loss: 228605568.0000 - mae: 11083.8369 - val_loss: 255198704.0000 - val_mae: 11615.3438\n",
      "Epoch 61/100\n",
      "\u001b[1m147/147\u001b[0m \u001b[32m━━━━━━━━━━━━━━━━━━━━\u001b[0m\u001b[37m\u001b[0m \u001b[1m0s\u001b[0m 2ms/step - loss: 223349104.0000 - mae: 11107.3887 - val_loss: 254935120.0000 - val_mae: 11476.3809\n",
      "Epoch 62/100\n",
      "\u001b[1m147/147\u001b[0m \u001b[32m━━━━━━━━━━━━━━━━━━━━\u001b[0m\u001b[37m\u001b[0m \u001b[1m0s\u001b[0m 1ms/step - loss: 234489312.0000 - mae: 11405.6465 - val_loss: 254844320.0000 - val_mae: 11528.3467\n",
      "Epoch 63/100\n",
      "\u001b[1m147/147\u001b[0m \u001b[32m━━━━━━━━━━━━━━━━━━━━\u001b[0m\u001b[37m\u001b[0m \u001b[1m0s\u001b[0m 1ms/step - loss: 218883568.0000 - mae: 11003.0176 - val_loss: 254790000.0000 - val_mae: 11536.7197\n",
      "Epoch 64/100\n",
      "\u001b[1m147/147\u001b[0m \u001b[32m━━━━━━━━━━━━━━━━━━━━\u001b[0m\u001b[37m\u001b[0m \u001b[1m0s\u001b[0m 1ms/step - loss: 223413920.0000 - mae: 11102.2070 - val_loss: 254951424.0000 - val_mae: 11457.9932\n",
      "Epoch 65/100\n",
      "\u001b[1m147/147\u001b[0m \u001b[32m━━━━━━━━━━━━━━━━━━━━\u001b[0m\u001b[37m\u001b[0m \u001b[1m1s\u001b[0m 3ms/step - loss: 225025280.0000 - mae: 11191.1289 - val_loss: 254667520.0000 - val_mae: 11528.1689\n",
      "Epoch 66/100\n",
      "\u001b[1m147/147\u001b[0m \u001b[32m━━━━━━━━━━━━━━━━━━━━\u001b[0m\u001b[37m\u001b[0m \u001b[1m1s\u001b[0m 3ms/step - loss: 232083072.0000 - mae: 11413.6455 - val_loss: 254892272.0000 - val_mae: 11445.6143\n",
      "Epoch 67/100\n",
      "\u001b[1m147/147\u001b[0m \u001b[32m━━━━━━━━━━━━━━━━━━━━\u001b[0m\u001b[37m\u001b[0m \u001b[1m1s\u001b[0m 4ms/step - loss: 216216176.0000 - mae: 10931.6768 - val_loss: 254811920.0000 - val_mae: 11590.2549\n",
      "Epoch 68/100\n",
      "\u001b[1m147/147\u001b[0m \u001b[32m━━━━━━━━━━━━━━━━━━━━\u001b[0m\u001b[37m\u001b[0m \u001b[1m1s\u001b[0m 4ms/step - loss: 231134576.0000 - mae: 11255.3604 - val_loss: 254643072.0000 - val_mae: 11526.4072\n",
      "Epoch 69/100\n",
      "\u001b[1m147/147\u001b[0m \u001b[32m━━━━━━━━━━━━━━━━━━━━\u001b[0m\u001b[37m\u001b[0m \u001b[1m1s\u001b[0m 4ms/step - loss: 234670656.0000 - mae: 11338.3799 - val_loss: 254667344.0000 - val_mae: 11488.5576\n",
      "Epoch 70/100\n",
      "\u001b[1m147/147\u001b[0m \u001b[32m━━━━━━━━━━━━━━━━━━━━\u001b[0m\u001b[37m\u001b[0m \u001b[1m1s\u001b[0m 4ms/step - loss: 244314080.0000 - mae: 11431.7139 - val_loss: 254918432.0000 - val_mae: 11436.3818\n",
      "Epoch 71/100\n",
      "\u001b[1m147/147\u001b[0m \u001b[32m━━━━━━━━━━━━━━━━━━━━\u001b[0m\u001b[37m\u001b[0m \u001b[1m1s\u001b[0m 3ms/step - loss: 235349904.0000 - mae: 11195.0674 - val_loss: 254582608.0000 - val_mae: 11530.1787\n",
      "Epoch 72/100\n",
      "\u001b[1m147/147\u001b[0m \u001b[32m━━━━━━━━━━━━━━━━━━━━\u001b[0m\u001b[37m\u001b[0m \u001b[1m1s\u001b[0m 3ms/step - loss: 224649984.0000 - mae: 10981.9951 - val_loss: 254596016.0000 - val_mae: 11541.6934\n",
      "Epoch 73/100\n",
      "\u001b[1m147/147\u001b[0m \u001b[32m━━━━━━━━━━━━━━━━━━━━\u001b[0m\u001b[37m\u001b[0m \u001b[1m1s\u001b[0m 4ms/step - loss: 239497008.0000 - mae: 11416.4141 - val_loss: 254482672.0000 - val_mae: 11495.1787\n",
      "Epoch 74/100\n",
      "\u001b[1m147/147\u001b[0m \u001b[32m━━━━━━━━━━━━━━━━━━━━\u001b[0m\u001b[37m\u001b[0m \u001b[1m1s\u001b[0m 4ms/step - loss: 234343088.0000 - mae: 11320.9648 - val_loss: 254472368.0000 - val_mae: 11546.1338\n",
      "Epoch 75/100\n",
      "\u001b[1m147/147\u001b[0m \u001b[32m━━━━━━━━━━━━━━━━━━━━\u001b[0m\u001b[37m\u001b[0m \u001b[1m1s\u001b[0m 3ms/step - loss: 228415232.0000 - mae: 11127.6533 - val_loss: 254439152.0000 - val_mae: 11523.0527\n",
      "Epoch 76/100\n",
      "\u001b[1m147/147\u001b[0m \u001b[32m━━━━━━━━━━━━━━━━━━━━\u001b[0m\u001b[37m\u001b[0m \u001b[1m0s\u001b[0m 3ms/step - loss: 235462656.0000 - mae: 11352.2441 - val_loss: 254509168.0000 - val_mae: 11471.8320\n",
      "Epoch 77/100\n",
      "\u001b[1m147/147\u001b[0m \u001b[32m━━━━━━━━━━━━━━━━━━━━\u001b[0m\u001b[37m\u001b[0m \u001b[1m0s\u001b[0m 2ms/step - loss: 230585808.0000 - mae: 11235.1279 - val_loss: 254487824.0000 - val_mae: 11495.6895\n",
      "Epoch 78/100\n",
      "\u001b[1m147/147\u001b[0m \u001b[32m━━━━━━━━━━━━━━━━━━━━\u001b[0m\u001b[37m\u001b[0m \u001b[1m0s\u001b[0m 1ms/step - loss: 231352544.0000 - mae: 11245.3535 - val_loss: 254551520.0000 - val_mae: 11577.1406\n",
      "Epoch 79/100\n",
      "\u001b[1m147/147\u001b[0m \u001b[32m━━━━━━━━━━━━━━━━━━━━\u001b[0m\u001b[37m\u001b[0m \u001b[1m0s\u001b[0m 2ms/step - loss: 231526608.0000 - mae: 11282.5586 - val_loss: 254420416.0000 - val_mae: 11515.5439\n",
      "Epoch 80/100\n",
      "\u001b[1m147/147\u001b[0m \u001b[32m━━━━━━━━━━━━━━━━━━━━\u001b[0m\u001b[37m\u001b[0m \u001b[1m0s\u001b[0m 2ms/step - loss: 217789120.0000 - mae: 11028.0449 - val_loss: 254320544.0000 - val_mae: 11544.3564\n",
      "Epoch 81/100\n",
      "\u001b[1m147/147\u001b[0m \u001b[32m━━━━━━━━━━━━━━━━━━━━\u001b[0m\u001b[37m\u001b[0m \u001b[1m0s\u001b[0m 2ms/step - loss: 238824832.0000 - mae: 11367.7910 - val_loss: 254439824.0000 - val_mae: 11446.1855\n",
      "Epoch 82/100\n",
      "\u001b[1m147/147\u001b[0m \u001b[32m━━━━━━━━━━━━━━━━━━━━\u001b[0m\u001b[37m\u001b[0m \u001b[1m0s\u001b[0m 2ms/step - loss: 231854352.0000 - mae: 11202.9844 - val_loss: 254229744.0000 - val_mae: 11514.1475\n",
      "Epoch 83/100\n",
      "\u001b[1m147/147\u001b[0m \u001b[32m━━━━━━━━━━━━━━━━━━━━\u001b[0m\u001b[37m\u001b[0m \u001b[1m0s\u001b[0m 2ms/step - loss: 222483056.0000 - mae: 11044.1992 - val_loss: 254221792.0000 - val_mae: 11496.9326\n",
      "Epoch 84/100\n",
      "\u001b[1m147/147\u001b[0m \u001b[32m━━━━━━━━━━━━━━━━━━━━\u001b[0m\u001b[37m\u001b[0m \u001b[1m0s\u001b[0m 2ms/step - loss: 224182688.0000 - mae: 11087.3359 - val_loss: 254233360.0000 - val_mae: 11531.2568\n",
      "Epoch 85/100\n",
      "\u001b[1m147/147\u001b[0m \u001b[32m━━━━━━━━━━━━━━━━━━━━\u001b[0m\u001b[37m\u001b[0m \u001b[1m0s\u001b[0m 2ms/step - loss: 223063680.0000 - mae: 11144.2197 - val_loss: 254156928.0000 - val_mae: 11516.2207\n",
      "Epoch 86/100\n",
      "\u001b[1m147/147\u001b[0m \u001b[32m━━━━━━━━━━━━━━━━━━━━\u001b[0m\u001b[37m\u001b[0m \u001b[1m0s\u001b[0m 1ms/step - loss: 226181648.0000 - mae: 11214.2812 - val_loss: 254234256.0000 - val_mae: 11463.6006\n",
      "Epoch 87/100\n",
      "\u001b[1m147/147\u001b[0m \u001b[32m━━━━━━━━━━━━━━━━━━━━\u001b[0m\u001b[37m\u001b[0m \u001b[1m0s\u001b[0m 2ms/step - loss: 231982304.0000 - mae: 11268.4062 - val_loss: 254118480.0000 - val_mae: 11507.5449\n",
      "Epoch 88/100\n",
      "\u001b[1m147/147\u001b[0m \u001b[32m━━━━━━━━━━━━━━━━━━━━\u001b[0m\u001b[37m\u001b[0m \u001b[1m1s\u001b[0m 2ms/step - loss: 238356416.0000 - mae: 11464.2881 - val_loss: 254100080.0000 - val_mae: 11472.0801\n",
      "Epoch 89/100\n",
      "\u001b[1m147/147\u001b[0m \u001b[32m━━━━━━━━━━━━━━━━━━━━\u001b[0m\u001b[37m\u001b[0m \u001b[1m0s\u001b[0m 2ms/step - loss: 224313120.0000 - mae: 11035.0869 - val_loss: 254071872.0000 - val_mae: 11544.0898\n",
      "Epoch 90/100\n",
      "\u001b[1m147/147\u001b[0m \u001b[32m━━━━━━━━━━━━━━━━━━━━\u001b[0m\u001b[37m\u001b[0m \u001b[1m0s\u001b[0m 2ms/step - loss: 227915424.0000 - mae: 11181.8604 - val_loss: 254032736.0000 - val_mae: 11495.8496\n",
      "Epoch 91/100\n",
      "\u001b[1m147/147\u001b[0m \u001b[32m━━━━━━━━━━━━━━━━━━━━\u001b[0m\u001b[37m\u001b[0m \u001b[1m0s\u001b[0m 2ms/step - loss: 232963760.0000 - mae: 11279.6689 - val_loss: 254027312.0000 - val_mae: 11478.2373\n",
      "Epoch 92/100\n",
      "\u001b[1m147/147\u001b[0m \u001b[32m━━━━━━━━━━━━━━━━━━━━\u001b[0m\u001b[37m\u001b[0m \u001b[1m0s\u001b[0m 2ms/step - loss: 222135856.0000 - mae: 11023.3447 - val_loss: 253979552.0000 - val_mae: 11495.2832\n",
      "Epoch 93/100\n",
      "\u001b[1m147/147\u001b[0m \u001b[32m━━━━━━━━━━━━━━━━━━━━\u001b[0m\u001b[37m\u001b[0m \u001b[1m0s\u001b[0m 2ms/step - loss: 208868352.0000 - mae: 10792.4121 - val_loss: 254142832.0000 - val_mae: 11575.2920\n",
      "Epoch 94/100\n",
      "\u001b[1m147/147\u001b[0m \u001b[32m━━━━━━━━━━━━━━━━━━━━\u001b[0m\u001b[37m\u001b[0m \u001b[1m0s\u001b[0m 2ms/step - loss: 225887696.0000 - mae: 11178.9121 - val_loss: 254106688.0000 - val_mae: 11528.8555\n",
      "Epoch 95/100\n",
      "\u001b[1m147/147\u001b[0m \u001b[32m━━━━━━━━━━━━━━━━━━━━\u001b[0m\u001b[37m\u001b[0m \u001b[1m0s\u001b[0m 2ms/step - loss: 241214112.0000 - mae: 11505.6152 - val_loss: 254154400.0000 - val_mae: 11430.8105\n",
      "Epoch 96/100\n",
      "\u001b[1m147/147\u001b[0m \u001b[32m━━━━━━━━━━━━━━━━━━━━\u001b[0m\u001b[37m\u001b[0m \u001b[1m0s\u001b[0m 2ms/step - loss: 225324208.0000 - mae: 11056.2051 - val_loss: 253854144.0000 - val_mae: 11517.0801\n",
      "Epoch 97/100\n",
      "\u001b[1m147/147\u001b[0m \u001b[32m━━━━━━━━━━━━━━━━━━━━\u001b[0m\u001b[37m\u001b[0m \u001b[1m0s\u001b[0m 2ms/step - loss: 228497536.0000 - mae: 11289.0586 - val_loss: 253895568.0000 - val_mae: 11531.1855\n",
      "Epoch 98/100\n",
      "\u001b[1m147/147\u001b[0m \u001b[32m━━━━━━━━━━━━━━━━━━━━\u001b[0m\u001b[37m\u001b[0m \u001b[1m0s\u001b[0m 2ms/step - loss: 219512880.0000 - mae: 10950.1621 - val_loss: 254127856.0000 - val_mae: 11574.0586\n",
      "Epoch 99/100\n",
      "\u001b[1m147/147\u001b[0m \u001b[32m━━━━━━━━━━━━━━━━━━━━\u001b[0m\u001b[37m\u001b[0m \u001b[1m0s\u001b[0m 1ms/step - loss: 231917040.0000 - mae: 11265.6270 - val_loss: 254111328.0000 - val_mae: 11418.2686\n",
      "Epoch 100/100\n",
      "\u001b[1m147/147\u001b[0m \u001b[32m━━━━━━━━━━━━━━━━━━━━\u001b[0m\u001b[37m\u001b[0m \u001b[1m0s\u001b[0m 2ms/step - loss: 229417616.0000 - mae: 11030.1631 - val_loss: 253930352.0000 - val_mae: 11541.8535\n"
     ]
    }
   ],
   "source": [
    "history = model.fit(X_train, y_train, epochs=100, batch_size=32, validation_split=0.2)"
   ]
  },
  {
   "cell_type": "code",
   "execution_count": 9,
   "id": "49723257",
   "metadata": {},
   "outputs": [
    {
     "data": {
      "image/png": "[encoded data removed]",
      "text/plain": [
       "<Figure size 640x480 with 1 Axes>"
      ]
     },
     "metadata": {},
     "output_type": "display_data"
    }
   ],
   "source": [
    "plt.plot(history.history['loss'], label='Eğitim Kaybı')\n",
    "plt.plot(history.history['val_loss'], label='Doğrulama Kaybı')\n",
    "plt.xlabel('Epoch')\n",
    "plt.ylabel('Kayıp (MSE)')\n",
    "plt.legend()\n",
    "plt.show()"
   ]
  },
  {
   "cell_type": "code",
   "execution_count": 11,
   "id": "c983dd4b",
   "metadata": {},
   "outputs": [
    {
     "name": "stdout",
     "output_type": "stream",
     "text": [
      "Epoch 1/300\n"
     ]
    },
    {
     "name": "stderr",
     "output_type": "stream",
     "text": [
      "c:\\Users\\fatih\\AppData\\Local\\Programs\\Python\\Python310\\lib\\site-packages\\keras\\src\\layers\\core\\dense.py:93: UserWarning: Do not pass an `input_shape`/`input_dim` argument to a layer. When using Sequential models, prefer using an `Input(shape)` object as the first layer in the model instead.\n",
      "  super().__init__(activity_regularizer=activity_regularizer, **kwargs)\n"
     ]
    },
    {
     "name": "stdout",
     "output_type": "stream",
     "text": [
      "\u001b[1m289/289\u001b[0m \u001b[32m━━━━━━━━━━━━━━━━━━━━\u001b[0m\u001b[37m\u001b[0m \u001b[1m1s\u001b[0m 2ms/step - loss: 1.0116 - mae: 0.7963 - val_loss: 0.9258 - val_mae: 0.7402\n",
      "Epoch 2/300\n",
      "\u001b[1m289/289\u001b[0m \u001b[32m━━━━━━━━━━━━━━━━━━━━\u001b[0m\u001b[37m\u001b[0m \u001b[1m0s\u001b[0m 1ms/step - loss: 0.9524 - mae: 0.7647 - val_loss: 0.8621 - val_mae: 0.7182\n",
      "Epoch 3/300\n",
      "\u001b[1m289/289\u001b[0m \u001b[32m━━━━━━━━━━━━━━━━━━━━\u001b[0m\u001b[37m\u001b[0m \u001b[1m0s\u001b[0m 2ms/step - loss: 0.8846 - mae: 0.7426 - val_loss: 0.8166 - val_mae: 0.7008\n",
      "Epoch 4/300\n",
      "\u001b[1m289/289\u001b[0m \u001b[32m━━━━━━━━━━━━━━━━━━━━\u001b[0m\u001b[37m\u001b[0m \u001b[1m0s\u001b[0m 1ms/step - loss: 0.8665 - mae: 0.7340 - val_loss: 0.7826 - val_mae: 0.6854\n",
      "Epoch 5/300\n",
      "\u001b[1m289/289\u001b[0m \u001b[32m━━━━━━━━━━━━━━━━━━━━\u001b[0m\u001b[37m\u001b[0m \u001b[1m1s\u001b[0m 2ms/step - loss: 0.8396 - mae: 0.7145 - val_loss: 0.7611 - val_mae: 0.6729\n",
      "Epoch 6/300\n",
      "\u001b[1m289/289\u001b[0m \u001b[32m━━━━━━━━━━━━━━━━━━━━\u001b[0m\u001b[37m\u001b[0m \u001b[1m0s\u001b[0m 1ms/step - loss: 0.8256 - mae: 0.7049 - val_loss: 0.7477 - val_mae: 0.6632\n",
      "Epoch 7/300\n",
      "\u001b[1m289/289\u001b[0m \u001b[32m━━━━━━━━━━━━━━━━━━━━\u001b[0m\u001b[37m\u001b[0m \u001b[1m1s\u001b[0m 2ms/step - loss: 0.8169 - mae: 0.6950 - val_loss: 0.7385 - val_mae: 0.6557\n",
      "Epoch 8/300\n",
      "\u001b[1m289/289\u001b[0m \u001b[32m━━━━━━━━━━━━━━━━━━━━\u001b[0m\u001b[37m\u001b[0m \u001b[1m1s\u001b[0m 2ms/step - loss: 0.7871 - mae: 0.6806 - val_loss: 0.7322 - val_mae: 0.6513\n",
      "Epoch 9/300\n",
      "\u001b[1m289/289\u001b[0m \u001b[32m━━━━━━━━━━━━━━━━━━━━\u001b[0m\u001b[37m\u001b[0m \u001b[1m1s\u001b[0m 2ms/step - loss: 0.7942 - mae: 0.6863 - val_loss: 0.7279 - val_mae: 0.6476\n",
      "Epoch 10/300\n",
      "\u001b[1m289/289\u001b[0m \u001b[32m━━━━━━━━━━━━━━━━━━━━\u001b[0m\u001b[37m\u001b[0m \u001b[1m0s\u001b[0m 1ms/step - loss: 0.7923 - mae: 0.6826 - val_loss: 0.7251 - val_mae: 0.6450\n",
      "Epoch 11/300\n",
      "\u001b[1m289/289\u001b[0m \u001b[32m━━━━━━━━━━━━━━━━━━━━\u001b[0m\u001b[37m\u001b[0m \u001b[1m0s\u001b[0m 2ms/step - loss: 0.7990 - mae: 0.6848 - val_loss: 0.7231 - val_mae: 0.6432\n",
      "Epoch 12/300\n",
      "\u001b[1m289/289\u001b[0m \u001b[32m━━━━━━━━━━━━━━━━━━━━\u001b[0m\u001b[37m\u001b[0m \u001b[1m1s\u001b[0m 2ms/step - loss: 0.7821 - mae: 0.6786 - val_loss: 0.7207 - val_mae: 0.6407\n",
      "Epoch 13/300\n",
      "\u001b[1m289/289\u001b[0m \u001b[32m━━━━━━━━━━━━━━━━━━━━\u001b[0m\u001b[37m\u001b[0m \u001b[1m1s\u001b[0m 2ms/step - loss: 0.7805 - mae: 0.6744 - val_loss: 0.7199 - val_mae: 0.6391\n",
      "Epoch 14/300\n",
      "\u001b[1m289/289\u001b[0m \u001b[32m━━━━━━━━━━━━━━━━━━━━\u001b[0m\u001b[37m\u001b[0m \u001b[1m0s\u001b[0m 2ms/step - loss: 0.7774 - mae: 0.6696 - val_loss: 0.7191 - val_mae: 0.6378\n",
      "Epoch 15/300\n",
      "\u001b[1m289/289\u001b[0m \u001b[32m━━━━━━━━━━━━━━━━━━━━\u001b[0m\u001b[37m\u001b[0m \u001b[1m1s\u001b[0m 2ms/step - loss: 0.7680 - mae: 0.6715 - val_loss: 0.7157 - val_mae: 0.6377\n",
      "Epoch 16/300\n",
      "\u001b[1m289/289\u001b[0m \u001b[32m━━━━━━━━━━━━━━━━━━━━\u001b[0m\u001b[37m\u001b[0m \u001b[1m1s\u001b[0m 2ms/step - loss: 0.7641 - mae: 0.6644 - val_loss: 0.7159 - val_mae: 0.6360\n",
      "Epoch 17/300\n",
      "\u001b[1m289/289\u001b[0m \u001b[32m━━━━━━━━━━━━━━━━━━━━\u001b[0m\u001b[37m\u001b[0m \u001b[1m1s\u001b[0m 2ms/step - loss: 0.7538 - mae: 0.6613 - val_loss: 0.7142 - val_mae: 0.6370\n",
      "Epoch 18/300\n",
      "\u001b[1m289/289\u001b[0m \u001b[32m━━━━━━━━━━━━━━━━━━━━\u001b[0m\u001b[37m\u001b[0m \u001b[1m0s\u001b[0m 1ms/step - loss: 0.7859 - mae: 0.6757 - val_loss: 0.7141 - val_mae: 0.6364\n",
      "Epoch 19/300\n",
      "\u001b[1m289/289\u001b[0m \u001b[32m━━━━━━━━━━━━━━━━━━━━\u001b[0m\u001b[37m\u001b[0m \u001b[1m0s\u001b[0m 1ms/step - loss: 0.7785 - mae: 0.6674 - val_loss: 0.7133 - val_mae: 0.6345\n",
      "Epoch 20/300\n",
      "\u001b[1m289/289\u001b[0m \u001b[32m━━━━━━━━━━━━━━━━━━━━\u001b[0m\u001b[37m\u001b[0m \u001b[1m0s\u001b[0m 1ms/step - loss: 0.7772 - mae: 0.6732 - val_loss: 0.7123 - val_mae: 0.6343\n",
      "Epoch 21/300\n",
      "\u001b[1m289/289\u001b[0m \u001b[32m━━━━━━━━━━━━━━━━━━━━\u001b[0m\u001b[37m\u001b[0m \u001b[1m0s\u001b[0m 1ms/step - loss: 0.8196 - mae: 0.6866 - val_loss: 0.7123 - val_mae: 0.6324\n",
      "Epoch 22/300\n",
      "\u001b[1m289/289\u001b[0m \u001b[32m━━━━━━━━━━━━━━━━━━━━\u001b[0m\u001b[37m\u001b[0m \u001b[1m0s\u001b[0m 1ms/step - loss: 0.7338 - mae: 0.6483 - val_loss: 0.7111 - val_mae: 0.6332\n",
      "Epoch 23/300\n",
      "\u001b[1m289/289\u001b[0m \u001b[32m━━━━━━━━━━━━━━━━━━━━\u001b[0m\u001b[37m\u001b[0m \u001b[1m0s\u001b[0m 1ms/step - loss: 0.8127 - mae: 0.6807 - val_loss: 0.7108 - val_mae: 0.6317\n",
      "Epoch 24/300\n",
      "\u001b[1m289/289\u001b[0m \u001b[32m━━━━━━━━━━━━━━━━━━━━\u001b[0m\u001b[37m\u001b[0m \u001b[1m0s\u001b[0m 1ms/step - loss: 0.7499 - mae: 0.6538 - val_loss: 0.7111 - val_mae: 0.6307\n",
      "Epoch 25/300\n",
      "\u001b[1m289/289\u001b[0m \u001b[32m━━━━━━━━━━━━━━━━━━━━\u001b[0m\u001b[37m\u001b[0m \u001b[1m0s\u001b[0m 1ms/step - loss: 0.7523 - mae: 0.6621 - val_loss: 0.7105 - val_mae: 0.6311\n",
      "Epoch 26/300\n",
      "\u001b[1m289/289\u001b[0m \u001b[32m━━━━━━━━━━━━━━━━━━━━\u001b[0m\u001b[37m\u001b[0m \u001b[1m0s\u001b[0m 2ms/step - loss: 0.7662 - mae: 0.6599 - val_loss: 0.7090 - val_mae: 0.6312\n",
      "Epoch 27/300\n",
      "\u001b[1m289/289\u001b[0m \u001b[32m━━━━━━━━━━━━━━━━━━━━\u001b[0m\u001b[37m\u001b[0m \u001b[1m0s\u001b[0m 1ms/step - loss: 0.7759 - mae: 0.6671 - val_loss: 0.7086 - val_mae: 0.6306\n",
      "Epoch 28/300\n",
      "\u001b[1m289/289\u001b[0m \u001b[32m━━━━━━━━━━━━━━━━━━━━\u001b[0m\u001b[37m\u001b[0m \u001b[1m0s\u001b[0m 2ms/step - loss: 0.7162 - mae: 0.6394 - val_loss: 0.7093 - val_mae: 0.6290\n",
      "Epoch 29/300\n",
      "\u001b[1m289/289\u001b[0m \u001b[32m━━━━━━━━━━━━━━━━━━━━\u001b[0m\u001b[37m\u001b[0m \u001b[1m1s\u001b[0m 2ms/step - loss: 0.7426 - mae: 0.6560 - val_loss: 0.7080 - val_mae: 0.6299\n",
      "Epoch 30/300\n",
      "\u001b[1m289/289\u001b[0m \u001b[32m━━━━━━━━━━━━━━━━━━━━\u001b[0m\u001b[37m\u001b[0m \u001b[1m0s\u001b[0m 1ms/step - loss: 0.7793 - mae: 0.6597 - val_loss: 0.7095 - val_mae: 0.6287\n",
      "Epoch 31/300\n",
      "\u001b[1m289/289\u001b[0m \u001b[32m━━━━━━━━━━━━━━━━━━━━\u001b[0m\u001b[37m\u001b[0m \u001b[1m0s\u001b[0m 1ms/step - loss: 0.7051 - mae: 0.6362 - val_loss: 0.7075 - val_mae: 0.6297\n",
      "Epoch 32/300\n",
      "\u001b[1m289/289\u001b[0m \u001b[32m━━━━━━━━━━━━━━━━━━━━\u001b[0m\u001b[37m\u001b[0m \u001b[1m0s\u001b[0m 2ms/step - loss: 0.7439 - mae: 0.6511 - val_loss: 0.7073 - val_mae: 0.6282\n",
      "Epoch 33/300\n",
      "\u001b[1m289/289\u001b[0m \u001b[32m━━━━━━━━━━━━━━━━━━━━\u001b[0m\u001b[37m\u001b[0m \u001b[1m0s\u001b[0m 1ms/step - loss: 0.7766 - mae: 0.6667 - val_loss: 0.7081 - val_mae: 0.6261\n",
      "Epoch 34/300\n",
      "\u001b[1m289/289\u001b[0m \u001b[32m━━━━━━━━━━━━━━━━━━━━\u001b[0m\u001b[37m\u001b[0m \u001b[1m1s\u001b[0m 2ms/step - loss: 0.7620 - mae: 0.6581 - val_loss: 0.7062 - val_mae: 0.6278\n",
      "Epoch 35/300\n",
      "\u001b[1m289/289\u001b[0m \u001b[32m━━━━━━━━━━━━━━━━━━━━\u001b[0m\u001b[37m\u001b[0m \u001b[1m0s\u001b[0m 1ms/step - loss: 0.7181 - mae: 0.6462 - val_loss: 0.7060 - val_mae: 0.6286\n",
      "Epoch 36/300\n",
      "\u001b[1m289/289\u001b[0m \u001b[32m━━━━━━━━━━━━━━━━━━━━\u001b[0m\u001b[37m\u001b[0m \u001b[1m0s\u001b[0m 1ms/step - loss: 0.7586 - mae: 0.6597 - val_loss: 0.7062 - val_mae: 0.6295\n",
      "Epoch 37/300\n",
      "\u001b[1m289/289\u001b[0m \u001b[32m━━━━━━━━━━━━━━━━━━━━\u001b[0m\u001b[37m\u001b[0m \u001b[1m0s\u001b[0m 1ms/step - loss: 0.7956 - mae: 0.6703 - val_loss: 0.7075 - val_mae: 0.6282\n",
      "Epoch 38/300\n",
      "\u001b[1m289/289\u001b[0m \u001b[32m━━━━━━━━━━━━━━━━━━━━\u001b[0m\u001b[37m\u001b[0m \u001b[1m0s\u001b[0m 2ms/step - loss: 0.7673 - mae: 0.6584 - val_loss: 0.7084 - val_mae: 0.6285\n",
      "Epoch 39/300\n",
      "\u001b[1m289/289\u001b[0m \u001b[32m━━━━━━━━━━━━━━━━━━━━\u001b[0m\u001b[37m\u001b[0m \u001b[1m1s\u001b[0m 2ms/step - loss: 0.7563 - mae: 0.6611 - val_loss: 0.7065 - val_mae: 0.6282\n",
      "Epoch 40/300\n",
      "\u001b[1m289/289\u001b[0m \u001b[32m━━━━━━━━━━━━━━━━━━━━\u001b[0m\u001b[37m\u001b[0m \u001b[1m0s\u001b[0m 1ms/step - loss: 0.7713 - mae: 0.6632 - val_loss: 0.7067 - val_mae: 0.6275\n",
      "Epoch 41/300\n",
      "\u001b[1m289/289\u001b[0m \u001b[32m━━━━━━━━━━━━━━━━━━━━\u001b[0m\u001b[37m\u001b[0m \u001b[1m0s\u001b[0m 1ms/step - loss: 0.7370 - mae: 0.6483 - val_loss: 0.7058 - val_mae: 0.6269\n",
      "Epoch 42/300\n",
      "\u001b[1m289/289\u001b[0m \u001b[32m━━━━━━━━━━━━━━━━━━━━\u001b[0m\u001b[37m\u001b[0m \u001b[1m0s\u001b[0m 1ms/step - loss: 0.7583 - mae: 0.6618 - val_loss: 0.7069 - val_mae: 0.6254\n",
      "Epoch 43/300\n",
      "\u001b[1m289/289\u001b[0m \u001b[32m━━━━━━━━━━━━━━━━━━━━\u001b[0m\u001b[37m\u001b[0m \u001b[1m0s\u001b[0m 2ms/step - loss: 0.7549 - mae: 0.6530 - val_loss: 0.7063 - val_mae: 0.6255\n",
      "Epoch 44/300\n",
      "\u001b[1m289/289\u001b[0m \u001b[32m━━━━━━━━━━━━━━━━━━━━\u001b[0m\u001b[37m\u001b[0m \u001b[1m0s\u001b[0m 2ms/step - loss: 0.7453 - mae: 0.6515 - val_loss: 0.7050 - val_mae: 0.6255\n",
      "Epoch 45/300\n",
      "\u001b[1m289/289\u001b[0m \u001b[32m━━━━━━━━━━━━━━━━━━━━\u001b[0m\u001b[37m\u001b[0m \u001b[1m0s\u001b[0m 1ms/step - loss: 0.7201 - mae: 0.6377 - val_loss: 0.7047 - val_mae: 0.6268\n",
      "Epoch 46/300\n",
      "\u001b[1m289/289\u001b[0m \u001b[32m━━━━━━━━━━━━━━━━━━━━\u001b[0m\u001b[37m\u001b[0m \u001b[1m0s\u001b[0m 2ms/step - loss: 0.7528 - mae: 0.6505 - val_loss: 0.7070 - val_mae: 0.6249\n",
      "Epoch 47/300\n",
      "\u001b[1m289/289\u001b[0m \u001b[32m━━━━━━━━━━━━━━━━━━━━\u001b[0m\u001b[37m\u001b[0m \u001b[1m0s\u001b[0m 2ms/step - loss: 0.7391 - mae: 0.6509 - val_loss: 0.7065 - val_mae: 0.6250\n",
      "Epoch 48/300\n",
      "\u001b[1m289/289\u001b[0m \u001b[32m━━━━━━━━━━━━━━━━━━━━\u001b[0m\u001b[37m\u001b[0m \u001b[1m0s\u001b[0m 1ms/step - loss: 0.7295 - mae: 0.6421 - val_loss: 0.7047 - val_mae: 0.6252\n",
      "Epoch 49/300\n",
      "\u001b[1m289/289\u001b[0m \u001b[32m━━━━━━━━━━━━━━━━━━━━\u001b[0m\u001b[37m\u001b[0m \u001b[1m0s\u001b[0m 1ms/step - loss: 0.7465 - mae: 0.6513 - val_loss: 0.7054 - val_mae: 0.6246\n",
      "Epoch 50/300\n",
      "\u001b[1m289/289\u001b[0m \u001b[32m━━━━━━━━━━━━━━━━━━━━\u001b[0m\u001b[37m\u001b[0m \u001b[1m0s\u001b[0m 2ms/step - loss: 0.7359 - mae: 0.6494 - val_loss: 0.7050 - val_mae: 0.6242\n",
      "Epoch 51/300\n",
      "\u001b[1m289/289\u001b[0m \u001b[32m━━━━━━━━━━━━━━━━━━━━\u001b[0m\u001b[37m\u001b[0m \u001b[1m0s\u001b[0m 1ms/step - loss: 0.7499 - mae: 0.6502 - val_loss: 0.7051 - val_mae: 0.6243\n",
      "Epoch 52/300\n",
      "\u001b[1m289/289\u001b[0m \u001b[32m━━━━━━━━━━━━━━━━━━━━\u001b[0m\u001b[37m\u001b[0m \u001b[1m1s\u001b[0m 2ms/step - loss: 0.8009 - mae: 0.6675 - val_loss: 0.7051 - val_mae: 0.6239\n",
      "Epoch 53/300\n",
      "\u001b[1m289/289\u001b[0m \u001b[32m━━━━━━━━━━━━━━━━━━━━\u001b[0m\u001b[37m\u001b[0m \u001b[1m1s\u001b[0m 2ms/step - loss: 0.7745 - mae: 0.6600 - val_loss: 0.7068 - val_mae: 0.6232\n",
      "Epoch 54/300\n",
      "\u001b[1m289/289\u001b[0m \u001b[32m━━━━━━━━━━━━━━━━━━━━\u001b[0m\u001b[37m\u001b[0m \u001b[1m0s\u001b[0m 1ms/step - loss: 0.7569 - mae: 0.6578 - val_loss: 0.7049 - val_mae: 0.6236\n",
      "Epoch 55/300\n",
      "\u001b[1m289/289\u001b[0m \u001b[32m━━━━━━━━━━━━━━━━━━━━\u001b[0m\u001b[37m\u001b[0m \u001b[1m0s\u001b[0m 1ms/step - loss: 0.7302 - mae: 0.6445 - val_loss: 0.7047 - val_mae: 0.6245\n",
      "Epoch 56/300\n",
      "\u001b[1m289/289\u001b[0m \u001b[32m━━━━━━━━━━━━━━━━━━━━\u001b[0m\u001b[37m\u001b[0m \u001b[1m0s\u001b[0m 1ms/step - loss: 0.7818 - mae: 0.6588 - val_loss: 0.7057 - val_mae: 0.6240\n",
      "Epoch 57/300\n",
      "\u001b[1m289/289\u001b[0m \u001b[32m━━━━━━━━━━━━━━━━━━━━\u001b[0m\u001b[37m\u001b[0m \u001b[1m0s\u001b[0m 2ms/step - loss: 0.7629 - mae: 0.6606 - val_loss: 0.7059 - val_mae: 0.6244\n",
      "Epoch 58/300\n",
      "\u001b[1m289/289\u001b[0m \u001b[32m━━━━━━━━━━━━━━━━━━━━\u001b[0m\u001b[37m\u001b[0m \u001b[1m0s\u001b[0m 1ms/step - loss: 0.7624 - mae: 0.6554 - val_loss: 0.7050 - val_mae: 0.6253\n",
      "Epoch 59/300\n",
      "\u001b[1m289/289\u001b[0m \u001b[32m━━━━━━━━━━━━━━━━━━━━\u001b[0m\u001b[37m\u001b[0m \u001b[1m0s\u001b[0m 1ms/step - loss: 0.7397 - mae: 0.6557 - val_loss: 0.7063 - val_mae: 0.6239\n",
      "Epoch 60/300\n",
      "\u001b[1m289/289\u001b[0m \u001b[32m━━━━━━━━━━━━━━━━━━━━\u001b[0m\u001b[37m\u001b[0m \u001b[1m0s\u001b[0m 1ms/step - loss: 0.7536 - mae: 0.6527 - val_loss: 0.7060 - val_mae: 0.6227\n",
      "Epoch 61/300\n",
      "\u001b[1m289/289\u001b[0m \u001b[32m━━━━━━━━━━━━━━━━━━━━\u001b[0m\u001b[37m\u001b[0m \u001b[1m0s\u001b[0m 1ms/step - loss: 0.7338 - mae: 0.6506 - val_loss: 0.7040 - val_mae: 0.6233\n",
      "Epoch 62/300\n",
      "\u001b[1m289/289\u001b[0m \u001b[32m━━━━━━━━━━━━━━━━━━━━\u001b[0m\u001b[37m\u001b[0m \u001b[1m0s\u001b[0m 1ms/step - loss: 0.7327 - mae: 0.6441 - val_loss: 0.7048 - val_mae: 0.6229\n",
      "Epoch 63/300\n",
      "\u001b[1m289/289\u001b[0m \u001b[32m━━━━━━━━━━━━━━━━━━━━\u001b[0m\u001b[37m\u001b[0m \u001b[1m0s\u001b[0m 1ms/step - loss: 0.7269 - mae: 0.6456 - val_loss: 0.7040 - val_mae: 0.6228\n",
      "Epoch 64/300\n",
      "\u001b[1m289/289\u001b[0m \u001b[32m━━━━━━━━━━━━━━━━━━━━\u001b[0m\u001b[37m\u001b[0m \u001b[1m0s\u001b[0m 2ms/step - loss: 0.7295 - mae: 0.6382 - val_loss: 0.7031 - val_mae: 0.6234\n",
      "Epoch 65/300\n",
      "\u001b[1m289/289\u001b[0m \u001b[32m━━━━━━━━━━━━━━━━━━━━\u001b[0m\u001b[37m\u001b[0m \u001b[1m1s\u001b[0m 2ms/step - loss: 0.7361 - mae: 0.6424 - val_loss: 0.7063 - val_mae: 0.6233\n",
      "Epoch 66/300\n",
      "\u001b[1m289/289\u001b[0m \u001b[32m━━━━━━━━━━━━━━━━━━━━\u001b[0m\u001b[37m\u001b[0m \u001b[1m0s\u001b[0m 1ms/step - loss: 0.7816 - mae: 0.6623 - val_loss: 0.7069 - val_mae: 0.6227\n",
      "Epoch 67/300\n",
      "\u001b[1m289/289\u001b[0m \u001b[32m━━━━━━━━━━━━━━━━━━━━\u001b[0m\u001b[37m\u001b[0m \u001b[1m0s\u001b[0m 1ms/step - loss: 0.7525 - mae: 0.6501 - val_loss: 0.7060 - val_mae: 0.6223\n",
      "Epoch 68/300\n",
      "\u001b[1m289/289\u001b[0m \u001b[32m━━━━━━━━━━━━━━━━━━━━\u001b[0m\u001b[37m\u001b[0m \u001b[1m0s\u001b[0m 1ms/step - loss: 0.7531 - mae: 0.6547 - val_loss: 0.7053 - val_mae: 0.6229\n",
      "Epoch 69/300\n",
      "\u001b[1m289/289\u001b[0m \u001b[32m━━━━━━━━━━━━━━━━━━━━\u001b[0m\u001b[37m\u001b[0m \u001b[1m0s\u001b[0m 1ms/step - loss: 0.7525 - mae: 0.6539 - val_loss: 0.7059 - val_mae: 0.6222\n",
      "Epoch 70/300\n",
      "\u001b[1m289/289\u001b[0m \u001b[32m━━━━━━━━━━━━━━━━━━━━\u001b[0m\u001b[37m\u001b[0m \u001b[1m1s\u001b[0m 2ms/step - loss: 0.7440 - mae: 0.6545 - val_loss: 0.7061 - val_mae: 0.6216\n",
      "Epoch 71/300\n",
      "\u001b[1m289/289\u001b[0m \u001b[32m━━━━━━━━━━━━━━━━━━━━\u001b[0m\u001b[37m\u001b[0m \u001b[1m0s\u001b[0m 2ms/step - loss: 0.7422 - mae: 0.6512 - val_loss: 0.7048 - val_mae: 0.6221\n",
      "Epoch 72/300\n",
      "\u001b[1m289/289\u001b[0m \u001b[32m━━━━━━━━━━━━━━━━━━━━\u001b[0m\u001b[37m\u001b[0m \u001b[1m1s\u001b[0m 2ms/step - loss: 0.7460 - mae: 0.6475 - val_loss: 0.7051 - val_mae: 0.6222\n",
      "Epoch 73/300\n",
      "\u001b[1m289/289\u001b[0m \u001b[32m━━━━━━━━━━━━━━━━━━━━\u001b[0m\u001b[37m\u001b[0m \u001b[1m0s\u001b[0m 1ms/step - loss: 0.7490 - mae: 0.6544 - val_loss: 0.7055 - val_mae: 0.6214\n",
      "Epoch 74/300\n",
      "\u001b[1m289/289\u001b[0m \u001b[32m━━━━━━━━━━━━━━━━━━━━\u001b[0m\u001b[37m\u001b[0m \u001b[1m0s\u001b[0m 2ms/step - loss: 0.7317 - mae: 0.6427 - val_loss: 0.7053 - val_mae: 0.6212\n",
      "Epoch 75/300\n",
      "\u001b[1m289/289\u001b[0m \u001b[32m━━━━━━━━━━━━━━━━━━━━\u001b[0m\u001b[37m\u001b[0m \u001b[1m0s\u001b[0m 1ms/step - loss: 0.7208 - mae: 0.6463 - val_loss: 0.7026 - val_mae: 0.6221\n",
      "Epoch 76/300\n",
      "\u001b[1m289/289\u001b[0m \u001b[32m━━━━━━━━━━━━━━━━━━━━\u001b[0m\u001b[37m\u001b[0m \u001b[1m0s\u001b[0m 2ms/step - loss: 0.7539 - mae: 0.6498 - val_loss: 0.7056 - val_mae: 0.6207\n",
      "Epoch 77/300\n",
      "\u001b[1m289/289\u001b[0m \u001b[32m━━━━━━━━━━━━━━━━━━━━\u001b[0m\u001b[37m\u001b[0m \u001b[1m1s\u001b[0m 2ms/step - loss: 0.7784 - mae: 0.6555 - val_loss: 0.7055 - val_mae: 0.6205\n",
      "Epoch 78/300\n",
      "\u001b[1m289/289\u001b[0m \u001b[32m━━━━━━━━━━━━━━━━━━━━\u001b[0m\u001b[37m\u001b[0m \u001b[1m0s\u001b[0m 1ms/step - loss: 0.7312 - mae: 0.6440 - val_loss: 0.7054 - val_mae: 0.6209\n",
      "Epoch 79/300\n",
      "\u001b[1m289/289\u001b[0m \u001b[32m━━━━━━━━━━━━━━━━━━━━\u001b[0m\u001b[37m\u001b[0m \u001b[1m1s\u001b[0m 2ms/step - loss: 0.7518 - mae: 0.6536 - val_loss: 0.7051 - val_mae: 0.6207\n",
      "Epoch 80/300\n",
      "\u001b[1m289/289\u001b[0m \u001b[32m━━━━━━━━━━━━━━━━━━━━\u001b[0m\u001b[37m\u001b[0m \u001b[1m1s\u001b[0m 2ms/step - loss: 0.7597 - mae: 0.6586 - val_loss: 0.7056 - val_mae: 0.6206\n",
      "Epoch 81/300\n",
      "\u001b[1m289/289\u001b[0m \u001b[32m━━━━━━━━━━━━━━━━━━━━\u001b[0m\u001b[37m\u001b[0m \u001b[1m0s\u001b[0m 2ms/step - loss: 0.7606 - mae: 0.6559 - val_loss: 0.7057 - val_mae: 0.6205\n",
      "Epoch 82/300\n",
      "\u001b[1m289/289\u001b[0m \u001b[32m━━━━━━━━━━━━━━━━━━━━\u001b[0m\u001b[37m\u001b[0m \u001b[1m1s\u001b[0m 2ms/step - loss: 0.7201 - mae: 0.6406 - val_loss: 0.7045 - val_mae: 0.6206\n",
      "Epoch 83/300\n",
      "\u001b[1m289/289\u001b[0m \u001b[32m━━━━━━━━━━━━━━━━━━━━\u001b[0m\u001b[37m\u001b[0m \u001b[1m1s\u001b[0m 1ms/step - loss: 0.7200 - mae: 0.6379 - val_loss: 0.7034 - val_mae: 0.6207\n",
      "Epoch 84/300\n",
      "\u001b[1m289/289\u001b[0m \u001b[32m━━━━━━━━━━━━━━━━━━━━\u001b[0m\u001b[37m\u001b[0m \u001b[1m0s\u001b[0m 1ms/step - loss: 0.7449 - mae: 0.6486 - val_loss: 0.7057 - val_mae: 0.6197\n",
      "Epoch 85/300\n",
      "\u001b[1m289/289\u001b[0m \u001b[32m━━━━━━━━━━━━━━━━━━━━\u001b[0m\u001b[37m\u001b[0m \u001b[1m0s\u001b[0m 2ms/step - loss: 0.7158 - mae: 0.6364 - val_loss: 0.7044 - val_mae: 0.6202\n",
      "Epoch 86/300\n",
      "\u001b[1m289/289\u001b[0m \u001b[32m━━━━━━━━━━━━━━━━━━━━\u001b[0m\u001b[37m\u001b[0m \u001b[1m0s\u001b[0m 1ms/step - loss: 0.7545 - mae: 0.6492 - val_loss: 0.7049 - val_mae: 0.6204\n",
      "Epoch 87/300\n",
      "\u001b[1m289/289\u001b[0m \u001b[32m━━━━━━━━━━━━━━━━━━━━\u001b[0m\u001b[37m\u001b[0m \u001b[1m0s\u001b[0m 1ms/step - loss: 0.7410 - mae: 0.6509 - val_loss: 0.7062 - val_mae: 0.6199\n",
      "Epoch 88/300\n",
      "\u001b[1m289/289\u001b[0m \u001b[32m━━━━━━━━━━━━━━━━━━━━\u001b[0m\u001b[37m\u001b[0m \u001b[1m0s\u001b[0m 1ms/step - loss: 0.7558 - mae: 0.6554 - val_loss: 0.7060 - val_mae: 0.6196\n",
      "Epoch 89/300\n",
      "\u001b[1m289/289\u001b[0m \u001b[32m━━━━━━━━━━━━━━━━━━━━\u001b[0m\u001b[37m\u001b[0m \u001b[1m0s\u001b[0m 1ms/step - loss: 0.7415 - mae: 0.6481 - val_loss: 0.7048 - val_mae: 0.6206\n",
      "Epoch 90/300\n",
      "\u001b[1m289/289\u001b[0m \u001b[32m━━━━━━━━━━━━━━━━━━━━\u001b[0m\u001b[37m\u001b[0m \u001b[1m0s\u001b[0m 1ms/step - loss: 0.7240 - mae: 0.6436 - val_loss: 0.7032 - val_mae: 0.6198\n"
     ]
    },
    {
     "data": {
      "image/png": "[encoded data removed]",
      "text/plain": [
       "<Figure size 640x480 with 1 Axes>"
      ]
     },
     "metadata": {},
     "output_type": "display_data"
    },
    {
     "name": "stdout",
     "output_type": "stream",
     "text": [
      "\u001b[1m46/46\u001b[0m \u001b[32m━━━━━━━━━━━━━━━━━━━━\u001b[0m\u001b[37m\u001b[0m \u001b[1m0s\u001b[0m 1ms/step - loss: 0.7005 - mae: 0.6238 \n",
      "Test Kayıp (MSE): 0.6783789992332458\n",
      "Test Ortalama Mutlak Hata (MAE): 0.6223958730697632\n",
      "\u001b[1m46/46\u001b[0m \u001b[32m━━━━━━━━━━━━━━━━━━━━\u001b[0m\u001b[37m\u001b[0m \u001b[1m0s\u001b[0m 1ms/step\n",
      "Orijinal Ölçekte MAE: 10372.34140625\n",
      "\u001b[1m1/1\u001b[0m \u001b[32m━━━━━━━━━━━━━━━━━━━━\u001b[0m\u001b[37m\u001b[0m \u001b[1m0s\u001b[0m 28ms/step\n"
     ]
    },
    {
     "name": "stderr",
     "output_type": "stream",
     "text": [
      "WARNING:absl:You are saving your model as an HDF5 file via `model.save()` or `keras.saving.save_model(model)`. This file format is considered legacy. We recommend using instead the native Keras format, e.g. `model.save('my_model.keras')` or `keras.saving.save_model(model, 'my_model.keras')`. \n"
     ]
    },
    {
     "name": "stdout",
     "output_type": "stream",
     "text": [
      "Tahmini Fiyat: 39682.375\n"
     ]
    }
   ],
   "source": [
    "import tensorflow as tf\n",
    "import pandas as pd\n",
    "import numpy as np\n",
    "from sklearn.model_selection import train_test_split\n",
    "from sklearn.preprocessing import StandardScaler\n",
    "import matplotlib.pyplot as plt\n",
    "\n",
    "# 1. Veriyi Yükle ve Temizle\n",
    "data = pd.read_csv('numericData.csv')  # CSV dosyanızı buraya göre ayarlayın\n",
    "data = data.dropna()  # Eksik verileri sil\n",
    "data = data[data['price'] < data['price'].quantile(0.99)]  # Aykırı değerleri çıkar\n",
    "\n",
    "# Girdileri ve çıktıyı ayır\n",
    "X = data[['living_room', 'area', 'age', 'floor']].values\n",
    "y = data['price'].values\n",
    "\n",
    "# 2. Veriyi Ölçeklendir\n",
    "scaler_X = StandardScaler()\n",
    "X_scaled = scaler_X.fit_transform(X)\n",
    "\n",
    "scaler_y = StandardScaler()\n",
    "y_scaled = scaler_y.fit_transform(y.reshape(-1, 1)).flatten()\n",
    "\n",
    "# Eğitim ve test setlerine ayır\n",
    "X_train, X_test, y_train, y_test = train_test_split(X_scaled, y_scaled, test_size=0.2, random_state=42)\n",
    "\n",
    "# 3. Modeli Oluştur\n",
    "model = tf.keras.Sequential([\n",
    "    tf.keras.layers.Dense(32, activation='relu', input_shape=(4,)),\n",
    "    tf.keras.layers.Dropout(0.2),\n",
    "    tf.keras.layers.Dense(16, activation='relu'),\n",
    "    tf.keras.layers.Dropout(0.2),\n",
    "    tf.keras.layers.Dense(8, activation='relu'),\n",
    "    tf.keras.layers.Dense(1)  # Regresyon için tek çıkış\n",
    "])\n",
    "\n",
    "# 4. Modeli Derle\n",
    "optimizer = tf.keras.optimizers.Adam(learning_rate=0.0001)\n",
    "model.compile(optimizer=optimizer, loss='mean_squared_error', metrics=['mae'])\n",
    "\n",
    "# 5. Erken Durdurma\n",
    "early_stopping = tf.keras.callbacks.EarlyStopping(monitor='val_loss', patience=15, restore_best_weights=True)\n",
    "\n",
    "# 6. Modeli Eğit\n",
    "history = model.fit(X_train, y_train, epochs=300, batch_size=16, validation_split=0.2, callbacks=[early_stopping], verbose=1)\n",
    "\n",
    "# 7. Eğitim Sürecini Görselleştir\n",
    "plt.plot(history.history['loss'], label='Eğitim Kaybı')\n",
    "plt.plot(history.history['val_loss'], label='Doğrulama Kaybı')\n",
    "plt.xlabel('Epoch')\n",
    "plt.ylabel('Kayıp (MSE)')\n",
    "plt.legend()\n",
    "plt.show()\n",
    "\n",
    "# 8. Modeli Test Et\n",
    "test_loss, test_mae = model.evaluate(X_test, y_test)\n",
    "print(f\"Test Kayıp (MSE): {test_loss}\")\n",
    "print(f\"Test Ortalama Mutlak Hata (MAE): {test_mae}\")\n",
    "\n",
    "# Orijinal ölçekte MAE hesapla\n",
    "y_pred = model.predict(X_test)\n",
    "y_pred_orijinal = scaler_y.inverse_transform(y_pred).flatten()\n",
    "y_test_orijinal = scaler_y.inverse_transform(y_test.reshape(-1, 1)).flatten()\n",
    "mae_orijinal = np.mean(np.abs(y_test_orijinal - y_pred_orijinal))\n",
    "print(f\"Orijinal Ölçekte MAE: {mae_orijinal}\")\n",
    "\n",
    "# 9. Örnek Tahmin\n",
    "yeni_veri = np.array([[3, 120, 10, 2]])  # Örnek veri\n",
    "yeni_veri_scaled = scaler_X.transform(yeni_veri)\n",
    "tahmin = model.predict(yeni_veri_scaled)\n",
    "tahmin_orijinal = scaler_y.inverse_transform(tahmin)\n",
    "print(f\"Tahmini Fiyat: {tahmin_orijinal[0][0]}\")\n",
    "\n",
    "# 10. Modeli Kaydet\n",
    "model.save('ev_fiyat_tahmin_modeli.h5')"
   ]
  },
  {
   "cell_type": "code",
   "execution_count": 12,
   "id": "3d68e301",
   "metadata": {},
   "outputs": [
    {
     "name": "stdout",
     "output_type": "stream",
     "text": [
      "\u001b[1m46/46\u001b[0m \u001b[32m━━━━━━━━━━━━━━━━━━━━\u001b[0m\u001b[37m\u001b[0m \u001b[1m0s\u001b[0m 1ms/step - loss: 0.7005 - mae: 0.6238 \n",
      "Test Kayıp (MSE): 0.6783789992332458\n",
      "Test Ortalama Mutlak Hata (MAE): 0.6223958730697632\n"
     ]
    }
   ],
   "source": [
    "test_loss, test_mae = model.evaluate(X_test, y_test)\n",
    "print(f\"Test Kayıp (MSE): {test_loss}\")\n",
    "print(f\"Test Ortalama Mutlak Hata (MAE): {test_mae}\")"
   ]
  },
  {
   "cell_type": "code",
   "execution_count": 15,
   "id": "1813d52e",
   "metadata": {},
   "outputs": [
    {
     "name": "stdout",
     "output_type": "stream",
     "text": [
      "\u001b[1m46/46\u001b[0m \u001b[32m━━━━━━━━━━━━━━━━━━━━\u001b[0m\u001b[37m\u001b[0m \u001b[1m0s\u001b[0m 3ms/step\n",
      "Orijinal Ölçekte MAE: 10372.34140625\n"
     ]
    }
   ],
   "source": [
    "y_pred = model.predict(X_test)\n",
    "y_pred_orijinal = scaler_y.inverse_transform(y_pred).flatten()\n",
    "y_test_orijinal = scaler_y.inverse_transform(y_test.reshape(-1, 1)).flatten()\n",
    "mae_orijinal = np.mean(np.abs(y_test_orijinal - y_pred_orijinal))\n",
    "print(f\"Orijinal Ölçekte MAE: {mae_orijinal}\")"
   ]
  },
  {
   "cell_type": "code",
   "execution_count": 17,
   "id": "4bb03849",
   "metadata": {},
   "outputs": [
    {
     "name": "stdout",
     "output_type": "stream",
     "text": [
      "\u001b[1m46/46\u001b[0m \u001b[32m━━━━━━━━━━━━━━━━━━━━\u001b[0m\u001b[37m\u001b[0m \u001b[1m0s\u001b[0m 1ms/step - loss: 0.7005 - mae: 0.6238 \n",
      "Test Kayıp (MSE): 0.6783789992332458\n",
      "Test Ortalama Mutlak Hata (MAE): 0.6223958730697632\n"
     ]
    }
   ],
   "source": [
    "test_loss, test_mae = model.evaluate(X_test, y_test)\n",
    "print(f\"Test Kayıp (MSE): {test_loss}\")\n",
    "print(f\"Test Ortalama Mutlak Hata (MAE): {test_mae}\")"
   ]
  },
  {
   "cell_type": "code",
   "execution_count": 19,
   "id": "95fbbebd",
   "metadata": {},
   "outputs": [
    {
     "name": "stderr",
     "output_type": "stream",
     "text": [
      "WARNING:absl:You are saving your model as an HDF5 file via `model.save()` or `keras.saving.save_model(model)`. This file format is considered legacy. We recommend using instead the native Keras format, e.g. `model.save('my_model.keras')` or `keras.saving.save_model(model, 'my_model.keras')`. \n"
     ]
    }
   ],
   "source": [
    "model.save('ev_fiyat_tahmin_modeli.h5')"
   ]
  },
  {
   "cell_type": "code",
   "execution_count": 20,
   "id": "ed0f2867",
   "metadata": {},
   "outputs": [
    {
     "name": "stderr",
     "output_type": "stream",
     "text": [
      "WARNING:absl:Compiled the loaded model, but the compiled metrics have yet to be built. `model.compile_metrics` will be empty until you train or evaluate the model.\n"
     ]
    },
    {
     "name": "stdout",
     "output_type": "stream",
     "text": [
      "INFO:tensorflow:Assets written to: C:\\Users\\fatih\\AppData\\Local\\Temp\\tmplarlztld\\assets\n"
     ]
    },
    {
     "name": "stderr",
     "output_type": "stream",
     "text": [
      "INFO:tensorflow:Assets written to: C:\\Users\\fatih\\AppData\\Local\\Temp\\tmplarlztld\\assets\n"
     ]
    },
    {
     "name": "stdout",
     "output_type": "stream",
     "text": [
      "Saved artifact at 'C:\\Users\\fatih\\AppData\\Local\\Temp\\tmplarlztld'. The following endpoints are available:\n",
      "\n",
      "* Endpoint 'serve'\n",
      "  args_0 (POSITIONAL_ONLY): TensorSpec(shape=(None, 4), dtype=tf.float32, name='input_layer_1')\n",
      "Output Type:\n",
      "  TensorSpec(shape=(None, 1), dtype=tf.float32, name=None)\n",
      "Captures:\n",
      "  1506446717200: TensorSpec(shape=(), dtype=tf.resource, name=None)\n",
      "  1506446714384: TensorSpec(shape=(), dtype=tf.resource, name=None)\n",
      "  1506513203824: TensorSpec(shape=(), dtype=tf.resource, name=None)\n",
      "  1506513204000: TensorSpec(shape=(), dtype=tf.resource, name=None)\n",
      "  1506513267072: TensorSpec(shape=(), dtype=tf.resource, name=None)\n",
      "  1506513267776: TensorSpec(shape=(), dtype=tf.resource, name=None)\n",
      "  1506513271296: TensorSpec(shape=(), dtype=tf.resource, name=None)\n",
      "  1506509967200: TensorSpec(shape=(), dtype=tf.resource, name=None)\n",
      "Model başarıyla .tflite formatına dönüştürüldü: ev_fiyat_tahmin_modeli.tflite\n"
     ]
    }
   ],
   "source": [
    "import tensorflow as tf\n",
    "\n",
    "# 1. Eğitilmiş modeli yükle\n",
    "model = tf.keras.models.load_model('ev_fiyat_tahmin_modeli.h5')\n",
    "\n",
    "# 2. TensorFlow Lite Converter'ı başlat\n",
    "converter = tf.lite.TFLiteConverter.from_keras_model(model)\n",
    "\n",
    "# 3. Varsayılan optimizasyonları uygula (isteğe bağlı)\n",
    "converter.optimizations = [tf.lite.Optimize.DEFAULT]\n",
    "\n",
    "# 4. Modeli .tflite formatına dönüştür\n",
    "tflite_model = converter.convert()\n",
    "\n",
    "# 5. .tflite dosyasını kaydet\n",
    "with open('ev_fiyat_tahmin_modeli.tflite', 'wb') as f:\n",
    "    f.write(tflite_model)\n",
    "\n",
    "print(\"Model başarıyla .tflite formatına dönüştürüldü: ev_fiyat_tahmin_modeli.tflite\")"
   ]
  },
  {
   "cell_type": "code",
   "execution_count": null,
   "id": "45345499",
   "metadata": {},
   "outputs": [],
   "source": []
  }
 ],
 "metadata": {
  "kernelspec": {
   "display_name": "Python 3",
   "language": "python",
   "name": "python3"
  },
  "language_info": {
   "codemirror_mode": {
    "name": "ipython",
    "version": 3
   },
   "file_extension": ".py",
   "mimetype": "text/x-python",
   "name": "python",
   "nbconvert_exporter": "python",
   "pygments_lexer": "ipython3",
   "version": "3.10.11"
  }
 },
 "nbformat": 4,
 "nbformat_minor": 5
}
